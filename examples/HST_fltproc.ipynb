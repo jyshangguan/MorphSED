{
 "cells": [
  {
   "cell_type": "code",
   "execution_count": 1,
   "id": "ec91e3a3-b424-4797-8881-aeaee6637cde",
   "metadata": {},
   "outputs": [
    {
     "name": "stdout",
     "output_type": "stream",
     "text": [
      "Created TAP+ (v1.2.1) - Connection:\n",
      "\tHost: gea.esac.esa.int\n",
      "\tUse HTTPS: True\n",
      "\tPort: 443\n",
      "\tSSL Port: 443\n",
      "Created TAP+ (v1.2.1) - Connection:\n",
      "\tHost: geadata.esac.esa.int\n",
      "\tUse HTTPS: True\n",
      "\tPort: 443\n",
      "\tSSL Port: 443\n",
      "\n",
      "\n",
      "The following task in the stsci.skypac package can be run with TEAL:\n",
      "                                    skymatch                                    \n",
      "The following tasks in the drizzlepac package can be run with TEAL:\n",
      "    astrodrizzle       config_testbed      imagefindpars           mapreg       \n",
      "       photeq            pixreplace           pixtopix            pixtosky      \n",
      "  refimagefindpars       resetbits          runastrodriz          skytopix      \n",
      "     tweakback            tweakreg           updatenpol\n"
     ]
    }
   ],
   "source": [
    "import sys,os,re,csv,shutil\n",
    "from os.path import join\n",
    "import subprocess\n",
    "import glob\n",
    "from astropy.visualization import ZScaleInterval\n",
    "from astropy.io import fits\n",
    "from astropy.table import Table\n",
    "from astropy.units import Quantity\n",
    "import astropy.units as u\n",
    "from astropy.io import ascii\n",
    "from astropy.coordinates import SkyCoord\n",
    "\n",
    "import numpy as np\n",
    "import matplotlib.pyplot as plt\n",
    "\n",
    "from astroquery.gaia import Gaia\n",
    "from astroquery.mast import Observations\n",
    "from astroquery.sdss import SDSS\n",
    "\n",
    "from ccdproc import ImageFileCollection\n",
    "from IPython.display import Image\n",
    "#import stwcs\n",
    "\n",
    "from drizzlepac import tweakreg\n",
    "from drizzlepac import astrodrizzle\n",
    "from IPython.display import Image\n",
    "\n",
    "dalist=np.loadtxt(\"/home/yuanze/my_work/dalist.txt\",delimiter='\\n',dtype=str)"
   ]
  },
  {
   "cell_type": "code",
   "execution_count": 11,
   "id": "8dfe2116-3ddf-477b-8f11-372bfc0a42f9",
   "metadata": {},
   "outputs": [
    {
     "name": "stdout",
     "output_type": "stream",
     "text": [
      "13.3955833333\t12.6933888889\n",
      "Download Started\n",
      "Downloading URL https://mast.stsci.edu/api/v0.1/Download/file?uri=mast:HST/product/hst_12903_07_wfc3_ir_f105w_iby807cm_flt.fits to /home/yuanze/s1test/mastDownload/HST/hst_12903_07_wfc3_ir_f105w_iby807cm/hst_12903_07_wfc3_ir_f105w_iby807cm_flt.fits ... [Done]\n",
      "Downloading URL https://mast.stsci.edu/api/v0.1/Download/file?uri=mast:HST/product/hst_12903_07_wfc3_ir_f105w_iby807cn_flt.fits to /home/yuanze/s1test/mastDownload/HST/hst_12903_07_wfc3_ir_f105w_iby807cn/hst_12903_07_wfc3_ir_f105w_iby807cn_flt.fits ... [Done]\n",
      "Downloading URL https://mast.stsci.edu/api/v0.1/Download/file?uri=mast:HST/product/hst_12903_07_wfc3_ir_f105w_iby807co_flt.fits to /home/yuanze/s1test/mastDownload/HST/hst_12903_07_wfc3_ir_f105w_iby807co/hst_12903_07_wfc3_ir_f105w_iby807co_flt.fits ... [Done]\n",
      "Downloading URL https://mast.stsci.edu/api/v0.1/Download/file?uri=mast:HST/product/hst_12903_07_wfc3_ir_f105w_iby807cp_flt.fits to /home/yuanze/s1test/mastDownload/HST/hst_12903_07_wfc3_ir_f105w_iby807cp/hst_12903_07_wfc3_ir_f105w_iby807cp_flt.fits ... [Done]\n",
      "Downloading URL https://mast.stsci.edu/api/v0.1/Download/file?uri=mast:HST/product/iby807cmq_flt.fits to /home/yuanze/s1test/mastDownload/HST/iby807cmq/iby807cmq_flt.fits ... [Done]\n",
      "Downloading URL https://mast.stsci.edu/api/v0.1/Download/file?uri=mast:HST/product/iby807cnq_flt.fits to /home/yuanze/s1test/mastDownload/HST/iby807cnq/iby807cnq_flt.fits ... [Done]\n",
      "Downloading URL https://mast.stsci.edu/api/v0.1/Download/file?uri=mast:HST/product/iby807coq_flt.fits to /home/yuanze/s1test/mastDownload/HST/iby807coq/iby807coq_flt.fits ... [Done]\n",
      "Downloading URL https://mast.stsci.edu/api/v0.1/Download/file?uri=mast:HST/product/iby807cpq_flt.fits to /home/yuanze/s1test/mastDownload/HST/iby807cpq/iby807cpq_flt.fits ... [Done]\n"
     ]
    },
    {
     "name": "stderr",
     "output_type": "stream",
     "text": [
      "INFO:astropy:Found cached file /home/yuanze/s1test/mastDownload/HST/hst_12903_07_wfc3_ir_f105w_iby807cm/hst_12903_07_wfc3_ir_f105w_iby807cm_flt.fits with expected size 4354560.\n"
     ]
    },
    {
     "name": "stdout",
     "output_type": "stream",
     "text": [
      "INFO: Found cached file /home/yuanze/s1test/mastDownload/HST/hst_12903_07_wfc3_ir_f105w_iby807cm/hst_12903_07_wfc3_ir_f105w_iby807cm_flt.fits with expected size 4354560. [astroquery.query]\n"
     ]
    },
    {
     "name": "stderr",
     "output_type": "stream",
     "text": [
      "INFO:astropy:Found cached file /home/yuanze/s1test/mastDownload/HST/hst_12903_07_wfc3_ir_f105w_iby807cn/hst_12903_07_wfc3_ir_f105w_iby807cn_flt.fits with expected size 4340160.\n"
     ]
    },
    {
     "name": "stdout",
     "output_type": "stream",
     "text": [
      "INFO: Found cached file /home/yuanze/s1test/mastDownload/HST/hst_12903_07_wfc3_ir_f105w_iby807cn/hst_12903_07_wfc3_ir_f105w_iby807cn_flt.fits with expected size 4340160. [astroquery.query]\n"
     ]
    },
    {
     "name": "stderr",
     "output_type": "stream",
     "text": [
      "INFO:astropy:Found cached file /home/yuanze/s1test/mastDownload/HST/hst_12903_07_wfc3_ir_f105w_iby807co/hst_12903_07_wfc3_ir_f105w_iby807co_flt.fits with expected size 4351680.\n"
     ]
    },
    {
     "name": "stdout",
     "output_type": "stream",
     "text": [
      "INFO: Found cached file /home/yuanze/s1test/mastDownload/HST/hst_12903_07_wfc3_ir_f105w_iby807co/hst_12903_07_wfc3_ir_f105w_iby807co_flt.fits with expected size 4351680. [astroquery.query]\n"
     ]
    },
    {
     "name": "stderr",
     "output_type": "stream",
     "text": [
      "INFO:astropy:Found cached file /home/yuanze/s1test/mastDownload/HST/hst_12903_07_wfc3_ir_f105w_iby807cp/hst_12903_07_wfc3_ir_f105w_iby807cp_flt.fits with expected size 4351680.\n"
     ]
    },
    {
     "name": "stdout",
     "output_type": "stream",
     "text": [
      "INFO: Found cached file /home/yuanze/s1test/mastDownload/HST/hst_12903_07_wfc3_ir_f105w_iby807cp/hst_12903_07_wfc3_ir_f105w_iby807cp_flt.fits with expected size 4351680. [astroquery.query]\n"
     ]
    },
    {
     "name": "stderr",
     "output_type": "stream",
     "text": [
      "INFO:astropy:Found cached file /home/yuanze/s1test/mastDownload/HST/iby807cmq/iby807cmq_flt.fits with expected size 4343040.\n"
     ]
    },
    {
     "name": "stdout",
     "output_type": "stream",
     "text": [
      "INFO: Found cached file /home/yuanze/s1test/mastDownload/HST/iby807cmq/iby807cmq_flt.fits with expected size 4343040. [astroquery.query]\n"
     ]
    },
    {
     "name": "stderr",
     "output_type": "stream",
     "text": [
      "INFO:astropy:Found cached file /home/yuanze/s1test/mastDownload/HST/iby807cnq/iby807cnq_flt.fits with expected size 4328640.\n"
     ]
    },
    {
     "name": "stdout",
     "output_type": "stream",
     "text": [
      "INFO: Found cached file /home/yuanze/s1test/mastDownload/HST/iby807cnq/iby807cnq_flt.fits with expected size 4328640. [astroquery.query]\n"
     ]
    },
    {
     "name": "stderr",
     "output_type": "stream",
     "text": [
      "INFO:astropy:Found cached file /home/yuanze/s1test/mastDownload/HST/iby807coq/iby807coq_flt.fits with expected size 4340160.\n"
     ]
    },
    {
     "name": "stdout",
     "output_type": "stream",
     "text": [
      "INFO: Found cached file /home/yuanze/s1test/mastDownload/HST/iby807coq/iby807coq_flt.fits with expected size 4340160. [astroquery.query]\n"
     ]
    },
    {
     "name": "stderr",
     "output_type": "stream",
     "text": [
      "INFO:astropy:Found cached file /home/yuanze/s1test/mastDownload/HST/iby807cpq/iby807cpq_flt.fits with expected size 4340160.\n"
     ]
    },
    {
     "name": "stdout",
     "output_type": "stream",
     "text": [
      "INFO: Found cached file /home/yuanze/s1test/mastDownload/HST/iby807cpq/iby807cpq_flt.fits with expected size 4340160. [astroquery.query]\n",
      "Downloading URL https://mast.stsci.edu/api/v0.1/Download/file?uri=mast:HST/product/hst_12903_07_wfc3_uvis_f438w_iby807ch_flt.fits to /home/yuanze/s1test/mastDownload/HST/hst_12903_07_wfc3_uvis_f438w_iby807ch/hst_12903_07_wfc3_uvis_f438w_iby807ch_flt.fits ... [Done]\n",
      "Downloading URL https://mast.stsci.edu/api/v0.1/Download/file?uri=mast:HST/product/hst_12903_07_wfc3_uvis_f438w_iby807ci_flt.fits to /home/yuanze/s1test/mastDownload/HST/hst_12903_07_wfc3_uvis_f438w_iby807ci/hst_12903_07_wfc3_uvis_f438w_iby807ci_flt.fits ... [Done]\n",
      "Downloading URL https://mast.stsci.edu/api/v0.1/Download/file?uri=mast:HST/product/hst_12903_07_wfc3_uvis_f438w_iby807cj_flt.fits to /home/yuanze/s1test/mastDownload/HST/hst_12903_07_wfc3_uvis_f438w_iby807cj/hst_12903_07_wfc3_uvis_f438w_iby807cj_flt.fits ... [Done]\n",
      "Downloading URL https://mast.stsci.edu/api/v0.1/Download/file?uri=mast:HST/product/hst_12903_07_wfc3_uvis_f438w_iby807ck_flt.fits to /home/yuanze/s1test/mastDownload/HST/hst_12903_07_wfc3_uvis_f438w_iby807ck/hst_12903_07_wfc3_uvis_f438w_iby807ck_flt.fits ... [Done]\n",
      "Downloading URL https://mast.stsci.edu/api/v0.1/Download/file?uri=mast:HST/product/hst_12903_07_wfc3_uvis_f438w_iby807cl_flt.fits to /home/yuanze/s1test/mastDownload/HST/hst_12903_07_wfc3_uvis_f438w_iby807cl/hst_12903_07_wfc3_uvis_f438w_iby807cl_flt.fits ... [Done]\n",
      "Downloading URL https://mast.stsci.edu/api/v0.1/Download/file?uri=mast:HST/product/iby807chq_flt.fits to /home/yuanze/s1test/mastDownload/HST/iby807chq/iby807chq_flt.fits ... [Done]\n",
      "Downloading URL https://mast.stsci.edu/api/v0.1/Download/file?uri=mast:HST/product/iby807ciq_flt.fits to /home/yuanze/s1test/mastDownload/HST/iby807ciq/iby807ciq_flt.fits ... [Done]\n",
      "Downloading URL https://mast.stsci.edu/api/v0.1/Download/file?uri=mast:HST/product/iby807cjq_flt.fits to /home/yuanze/s1test/mastDownload/HST/iby807cjq/iby807cjq_flt.fits ... [Done]\n",
      "Downloading URL https://mast.stsci.edu/api/v0.1/Download/file?uri=mast:HST/product/iby807ckq_flt.fits to /home/yuanze/s1test/mastDownload/HST/iby807ckq/iby807ckq_flt.fits ... [Done]\n",
      "Downloading URL https://mast.stsci.edu/api/v0.1/Download/file?uri=mast:HST/product/iby807clq_flt.fits to /home/yuanze/s1test/mastDownload/HST/iby807clq/iby807clq_flt.fits ... [Done]\n"
     ]
    },
    {
     "name": "stderr",
     "output_type": "stream",
     "text": [
      "INFO:astropy:Found cached file /home/yuanze/s1test/mastDownload/HST/hst_12903_07_wfc3_uvis_f438w_iby807ch/hst_12903_07_wfc3_uvis_f438w_iby807ch_flt.fits with expected size 10802880.\n"
     ]
    },
    {
     "name": "stdout",
     "output_type": "stream",
     "text": [
      "INFO: Found cached file /home/yuanze/s1test/mastDownload/HST/hst_12903_07_wfc3_uvis_f438w_iby807ch/hst_12903_07_wfc3_uvis_f438w_iby807ch_flt.fits with expected size 10802880. [astroquery.query]\n"
     ]
    },
    {
     "name": "stderr",
     "output_type": "stream",
     "text": [
      "INFO:astropy:Found cached file /home/yuanze/s1test/mastDownload/HST/hst_12903_07_wfc3_uvis_f438w_iby807ci/hst_12903_07_wfc3_uvis_f438w_iby807ci_flt.fits with expected size 10802880.\n"
     ]
    },
    {
     "name": "stdout",
     "output_type": "stream",
     "text": [
      "INFO: Found cached file /home/yuanze/s1test/mastDownload/HST/hst_12903_07_wfc3_uvis_f438w_iby807ci/hst_12903_07_wfc3_uvis_f438w_iby807ci_flt.fits with expected size 10802880. [astroquery.query]\n"
     ]
    },
    {
     "name": "stderr",
     "output_type": "stream",
     "text": [
      "INFO:astropy:Found cached file /home/yuanze/s1test/mastDownload/HST/hst_12903_07_wfc3_uvis_f438w_iby807cj/hst_12903_07_wfc3_uvis_f438w_iby807cj_flt.fits with expected size 10854720.\n"
     ]
    },
    {
     "name": "stdout",
     "output_type": "stream",
     "text": [
      "INFO: Found cached file /home/yuanze/s1test/mastDownload/HST/hst_12903_07_wfc3_uvis_f438w_iby807cj/hst_12903_07_wfc3_uvis_f438w_iby807cj_flt.fits with expected size 10854720. [astroquery.query]\n"
     ]
    },
    {
     "name": "stderr",
     "output_type": "stream",
     "text": [
      "INFO:astropy:Found cached file /home/yuanze/s1test/mastDownload/HST/hst_12903_07_wfc3_uvis_f438w_iby807ck/hst_12903_07_wfc3_uvis_f438w_iby807ck_flt.fits with expected size 10802880.\n"
     ]
    },
    {
     "name": "stdout",
     "output_type": "stream",
     "text": [
      "INFO: Found cached file /home/yuanze/s1test/mastDownload/HST/hst_12903_07_wfc3_uvis_f438w_iby807ck/hst_12903_07_wfc3_uvis_f438w_iby807ck_flt.fits with expected size 10802880. [astroquery.query]\n"
     ]
    },
    {
     "name": "stderr",
     "output_type": "stream",
     "text": [
      "INFO:astropy:Found cached file /home/yuanze/s1test/mastDownload/HST/hst_12903_07_wfc3_uvis_f438w_iby807cl/hst_12903_07_wfc3_uvis_f438w_iby807cl_flt.fits with expected size 10802880.\n"
     ]
    },
    {
     "name": "stdout",
     "output_type": "stream",
     "text": [
      "INFO: Found cached file /home/yuanze/s1test/mastDownload/HST/hst_12903_07_wfc3_uvis_f438w_iby807cl/hst_12903_07_wfc3_uvis_f438w_iby807cl_flt.fits with expected size 10802880. [astroquery.query]\n"
     ]
    },
    {
     "name": "stderr",
     "output_type": "stream",
     "text": [
      "INFO:astropy:Found cached file /home/yuanze/s1test/mastDownload/HST/iby807chq/iby807chq_flt.fits with expected size 10802880.\n"
     ]
    },
    {
     "name": "stdout",
     "output_type": "stream",
     "text": [
      "INFO: Found cached file /home/yuanze/s1test/mastDownload/HST/iby807chq/iby807chq_flt.fits with expected size 10802880. [astroquery.query]\n"
     ]
    },
    {
     "name": "stderr",
     "output_type": "stream",
     "text": [
      "INFO:astropy:Found cached file /home/yuanze/s1test/mastDownload/HST/iby807ciq/iby807ciq_flt.fits with expected size 10802880.\n"
     ]
    },
    {
     "name": "stdout",
     "output_type": "stream",
     "text": [
      "INFO: Found cached file /home/yuanze/s1test/mastDownload/HST/iby807ciq/iby807ciq_flt.fits with expected size 10802880. [astroquery.query]\n"
     ]
    },
    {
     "name": "stderr",
     "output_type": "stream",
     "text": [
      "INFO:astropy:Found cached file /home/yuanze/s1test/mastDownload/HST/iby807cjq/iby807cjq_flt.fits with expected size 10854720.\n"
     ]
    },
    {
     "name": "stdout",
     "output_type": "stream",
     "text": [
      "INFO: Found cached file /home/yuanze/s1test/mastDownload/HST/iby807cjq/iby807cjq_flt.fits with expected size 10854720. [astroquery.query]\n"
     ]
    },
    {
     "name": "stderr",
     "output_type": "stream",
     "text": [
      "INFO:astropy:Found cached file /home/yuanze/s1test/mastDownload/HST/iby807ckq/iby807ckq_flt.fits with expected size 10802880.\n"
     ]
    },
    {
     "name": "stdout",
     "output_type": "stream",
     "text": [
      "INFO: Found cached file /home/yuanze/s1test/mastDownload/HST/iby807ckq/iby807ckq_flt.fits with expected size 10802880. [astroquery.query]\n"
     ]
    },
    {
     "name": "stderr",
     "output_type": "stream",
     "text": [
      "INFO:astropy:Found cached file /home/yuanze/s1test/mastDownload/HST/iby807clq/iby807clq_flt.fits with expected size 10802880.\n"
     ]
    },
    {
     "name": "stdout",
     "output_type": "stream",
     "text": [
      "INFO: Found cached file /home/yuanze/s1test/mastDownload/HST/iby807clq/iby807clq_flt.fits with expected size 10802880. [astroquery.query]\n"
     ]
    },
    {
     "name": "stderr",
     "output_type": "stream",
     "text": [
      "INFO:astropy:Found cached file /home/yuanze/s1test/mastDownload/HST/hst_12903_07_wfc3_uvis_f438w_iby807ch/hst_12903_07_wfc3_uvis_f438w_iby807ch_flt.fits with expected size 10802880.\n"
     ]
    },
    {
     "name": "stdout",
     "output_type": "stream",
     "text": [
      "INFO: Found cached file /home/yuanze/s1test/mastDownload/HST/hst_12903_07_wfc3_uvis_f438w_iby807ch/hst_12903_07_wfc3_uvis_f438w_iby807ch_flt.fits with expected size 10802880. [astroquery.query]\n"
     ]
    },
    {
     "name": "stderr",
     "output_type": "stream",
     "text": [
      "INFO:astropy:Found cached file /home/yuanze/s1test/mastDownload/HST/hst_12903_07_wfc3_uvis_f438w_iby807ci/hst_12903_07_wfc3_uvis_f438w_iby807ci_flt.fits with expected size 10802880.\n"
     ]
    },
    {
     "name": "stdout",
     "output_type": "stream",
     "text": [
      "INFO: Found cached file /home/yuanze/s1test/mastDownload/HST/hst_12903_07_wfc3_uvis_f438w_iby807ci/hst_12903_07_wfc3_uvis_f438w_iby807ci_flt.fits with expected size 10802880. [astroquery.query]\n"
     ]
    },
    {
     "name": "stderr",
     "output_type": "stream",
     "text": [
      "INFO:astropy:Found cached file /home/yuanze/s1test/mastDownload/HST/iby807chq/iby807chq_flt.fits with expected size 10802880.\n"
     ]
    },
    {
     "name": "stdout",
     "output_type": "stream",
     "text": [
      "INFO: Found cached file /home/yuanze/s1test/mastDownload/HST/iby807chq/iby807chq_flt.fits with expected size 10802880. [astroquery.query]\n"
     ]
    },
    {
     "name": "stderr",
     "output_type": "stream",
     "text": [
      "INFO:astropy:Found cached file /home/yuanze/s1test/mastDownload/HST/iby807ciq/iby807ciq_flt.fits with expected size 10802880.\n"
     ]
    },
    {
     "name": "stdout",
     "output_type": "stream",
     "text": [
      "INFO: Found cached file /home/yuanze/s1test/mastDownload/HST/iby807ciq/iby807ciq_flt.fits with expected size 10802880. [astroquery.query]\n"
     ]
    },
    {
     "name": "stderr",
     "output_type": "stream",
     "text": [
      "INFO:astropy:Found cached file /home/yuanze/s1test/mastDownload/HST/hst_12903_07_wfc3_uvis_f438w_iby807cj/hst_12903_07_wfc3_uvis_f438w_iby807cj_flt.fits with expected size 10854720.\n"
     ]
    },
    {
     "name": "stdout",
     "output_type": "stream",
     "text": [
      "INFO: Found cached file /home/yuanze/s1test/mastDownload/HST/hst_12903_07_wfc3_uvis_f438w_iby807cj/hst_12903_07_wfc3_uvis_f438w_iby807cj_flt.fits with expected size 10854720. [astroquery.query]\n"
     ]
    },
    {
     "name": "stderr",
     "output_type": "stream",
     "text": [
      "INFO:astropy:Found cached file /home/yuanze/s1test/mastDownload/HST/hst_12903_07_wfc3_uvis_f438w_iby807ck/hst_12903_07_wfc3_uvis_f438w_iby807ck_flt.fits with expected size 10802880.\n"
     ]
    },
    {
     "name": "stdout",
     "output_type": "stream",
     "text": [
      "INFO: Found cached file /home/yuanze/s1test/mastDownload/HST/hst_12903_07_wfc3_uvis_f438w_iby807ck/hst_12903_07_wfc3_uvis_f438w_iby807ck_flt.fits with expected size 10802880. [astroquery.query]\n"
     ]
    },
    {
     "name": "stderr",
     "output_type": "stream",
     "text": [
      "INFO:astropy:Found cached file /home/yuanze/s1test/mastDownload/HST/hst_12903_07_wfc3_uvis_f438w_iby807cl/hst_12903_07_wfc3_uvis_f438w_iby807cl_flt.fits with expected size 10802880.\n"
     ]
    },
    {
     "name": "stdout",
     "output_type": "stream",
     "text": [
      "INFO: Found cached file /home/yuanze/s1test/mastDownload/HST/hst_12903_07_wfc3_uvis_f438w_iby807cl/hst_12903_07_wfc3_uvis_f438w_iby807cl_flt.fits with expected size 10802880. [astroquery.query]\n"
     ]
    },
    {
     "name": "stderr",
     "output_type": "stream",
     "text": [
      "INFO:astropy:Found cached file /home/yuanze/s1test/mastDownload/HST/iby807cjq/iby807cjq_flt.fits with expected size 10854720.\n"
     ]
    },
    {
     "name": "stdout",
     "output_type": "stream",
     "text": [
      "INFO: Found cached file /home/yuanze/s1test/mastDownload/HST/iby807cjq/iby807cjq_flt.fits with expected size 10854720. [astroquery.query]\n"
     ]
    },
    {
     "name": "stderr",
     "output_type": "stream",
     "text": [
      "INFO:astropy:Found cached file /home/yuanze/s1test/mastDownload/HST/iby807ckq/iby807ckq_flt.fits with expected size 10802880.\n"
     ]
    },
    {
     "name": "stdout",
     "output_type": "stream",
     "text": [
      "INFO: Found cached file /home/yuanze/s1test/mastDownload/HST/iby807ckq/iby807ckq_flt.fits with expected size 10802880. [astroquery.query]\n"
     ]
    },
    {
     "name": "stderr",
     "output_type": "stream",
     "text": [
      "INFO:astropy:Found cached file /home/yuanze/s1test/mastDownload/HST/iby807clq/iby807clq_flt.fits with expected size 10802880.\n"
     ]
    },
    {
     "name": "stdout",
     "output_type": "stream",
     "text": [
      "INFO: Found cached file /home/yuanze/s1test/mastDownload/HST/iby807clq/iby807clq_flt.fits with expected size 10802880. [astroquery.query]\n"
     ]
    },
    {
     "name": "stderr",
     "output_type": "stream",
     "text": [
      "INFO:astropy:Found cached file /home/yuanze/s1test/mastDownload/HST/hst_12903_07_wfc3_ir_f105w_iby807cm/hst_12903_07_wfc3_ir_f105w_iby807cm_flt.fits with expected size 4354560.\n"
     ]
    },
    {
     "name": "stdout",
     "output_type": "stream",
     "text": [
      "INFO: Found cached file /home/yuanze/s1test/mastDownload/HST/hst_12903_07_wfc3_ir_f105w_iby807cm/hst_12903_07_wfc3_ir_f105w_iby807cm_flt.fits with expected size 4354560. [astroquery.query]\n"
     ]
    },
    {
     "name": "stderr",
     "output_type": "stream",
     "text": [
      "INFO:astropy:Found cached file /home/yuanze/s1test/mastDownload/HST/hst_12903_07_wfc3_ir_f105w_iby807cn/hst_12903_07_wfc3_ir_f105w_iby807cn_flt.fits with expected size 4340160.\n"
     ]
    },
    {
     "name": "stdout",
     "output_type": "stream",
     "text": [
      "INFO: Found cached file /home/yuanze/s1test/mastDownload/HST/hst_12903_07_wfc3_ir_f105w_iby807cn/hst_12903_07_wfc3_ir_f105w_iby807cn_flt.fits with expected size 4340160. [astroquery.query]\n"
     ]
    },
    {
     "name": "stderr",
     "output_type": "stream",
     "text": [
      "INFO:astropy:Found cached file /home/yuanze/s1test/mastDownload/HST/hst_12903_07_wfc3_ir_f105w_iby807co/hst_12903_07_wfc3_ir_f105w_iby807co_flt.fits with expected size 4351680.\n"
     ]
    },
    {
     "name": "stdout",
     "output_type": "stream",
     "text": [
      "INFO: Found cached file /home/yuanze/s1test/mastDownload/HST/hst_12903_07_wfc3_ir_f105w_iby807co/hst_12903_07_wfc3_ir_f105w_iby807co_flt.fits with expected size 4351680. [astroquery.query]\n"
     ]
    },
    {
     "name": "stderr",
     "output_type": "stream",
     "text": [
      "INFO:astropy:Found cached file /home/yuanze/s1test/mastDownload/HST/hst_12903_07_wfc3_ir_f105w_iby807cp/hst_12903_07_wfc3_ir_f105w_iby807cp_flt.fits with expected size 4351680.\n"
     ]
    },
    {
     "name": "stdout",
     "output_type": "stream",
     "text": [
      "INFO: Found cached file /home/yuanze/s1test/mastDownload/HST/hst_12903_07_wfc3_ir_f105w_iby807cp/hst_12903_07_wfc3_ir_f105w_iby807cp_flt.fits with expected size 4351680. [astroquery.query]\n"
     ]
    },
    {
     "name": "stderr",
     "output_type": "stream",
     "text": [
      "INFO:astropy:Found cached file /home/yuanze/s1test/mastDownload/HST/iby807cmq/iby807cmq_flt.fits with expected size 4343040.\n"
     ]
    },
    {
     "name": "stdout",
     "output_type": "stream",
     "text": [
      "INFO: Found cached file /home/yuanze/s1test/mastDownload/HST/iby807cmq/iby807cmq_flt.fits with expected size 4343040. [astroquery.query]\n"
     ]
    },
    {
     "name": "stderr",
     "output_type": "stream",
     "text": [
      "INFO:astropy:Found cached file /home/yuanze/s1test/mastDownload/HST/iby807cnq/iby807cnq_flt.fits with expected size 4328640.\n"
     ]
    },
    {
     "name": "stdout",
     "output_type": "stream",
     "text": [
      "INFO: Found cached file /home/yuanze/s1test/mastDownload/HST/iby807cnq/iby807cnq_flt.fits with expected size 4328640. [astroquery.query]\n"
     ]
    },
    {
     "name": "stderr",
     "output_type": "stream",
     "text": [
      "INFO:astropy:Found cached file /home/yuanze/s1test/mastDownload/HST/iby807coq/iby807coq_flt.fits with expected size 4340160.\n"
     ]
    },
    {
     "name": "stdout",
     "output_type": "stream",
     "text": [
      "INFO: Found cached file /home/yuanze/s1test/mastDownload/HST/iby807coq/iby807coq_flt.fits with expected size 4340160. [astroquery.query]\n"
     ]
    },
    {
     "name": "stderr",
     "output_type": "stream",
     "text": [
      "INFO:astropy:Found cached file /home/yuanze/s1test/mastDownload/HST/iby807cpq/iby807cpq_flt.fits with expected size 4340160.\n"
     ]
    },
    {
     "name": "stdout",
     "output_type": "stream",
     "text": [
      "INFO: Found cached file /home/yuanze/s1test/mastDownload/HST/iby807cpq/iby807cpq_flt.fits with expected size 4340160. [astroquery.query]\n"
     ]
    },
    {
     "name": "stderr",
     "output_type": "stream",
     "text": [
      "INFO:astropy:Found cached file /home/yuanze/s1test/mastDownload/HST/hst_12903_07_wfc3_ir_f105w_iby807cm/hst_12903_07_wfc3_ir_f105w_iby807cm_flt.fits with expected size 4354560.\n"
     ]
    },
    {
     "name": "stdout",
     "output_type": "stream",
     "text": [
      "INFO: Found cached file /home/yuanze/s1test/mastDownload/HST/hst_12903_07_wfc3_ir_f105w_iby807cm/hst_12903_07_wfc3_ir_f105w_iby807cm_flt.fits with expected size 4354560. [astroquery.query]\n"
     ]
    },
    {
     "name": "stderr",
     "output_type": "stream",
     "text": [
      "INFO:astropy:Found cached file /home/yuanze/s1test/mastDownload/HST/hst_12903_07_wfc3_ir_f105w_iby807cn/hst_12903_07_wfc3_ir_f105w_iby807cn_flt.fits with expected size 4340160.\n"
     ]
    },
    {
     "name": "stdout",
     "output_type": "stream",
     "text": [
      "INFO: Found cached file /home/yuanze/s1test/mastDownload/HST/hst_12903_07_wfc3_ir_f105w_iby807cn/hst_12903_07_wfc3_ir_f105w_iby807cn_flt.fits with expected size 4340160. [astroquery.query]\n"
     ]
    },
    {
     "name": "stderr",
     "output_type": "stream",
     "text": [
      "INFO:astropy:Found cached file /home/yuanze/s1test/mastDownload/HST/hst_12903_07_wfc3_ir_f105w_iby807co/hst_12903_07_wfc3_ir_f105w_iby807co_flt.fits with expected size 4351680.\n"
     ]
    },
    {
     "name": "stdout",
     "output_type": "stream",
     "text": [
      "INFO: Found cached file /home/yuanze/s1test/mastDownload/HST/hst_12903_07_wfc3_ir_f105w_iby807co/hst_12903_07_wfc3_ir_f105w_iby807co_flt.fits with expected size 4351680. [astroquery.query]\n"
     ]
    },
    {
     "name": "stderr",
     "output_type": "stream",
     "text": [
      "INFO:astropy:Found cached file /home/yuanze/s1test/mastDownload/HST/hst_12903_07_wfc3_ir_f105w_iby807cp/hst_12903_07_wfc3_ir_f105w_iby807cp_flt.fits with expected size 4351680.\n"
     ]
    },
    {
     "name": "stdout",
     "output_type": "stream",
     "text": [
      "INFO: Found cached file /home/yuanze/s1test/mastDownload/HST/hst_12903_07_wfc3_ir_f105w_iby807cp/hst_12903_07_wfc3_ir_f105w_iby807cp_flt.fits with expected size 4351680. [astroquery.query]\n"
     ]
    },
    {
     "name": "stderr",
     "output_type": "stream",
     "text": [
      "INFO:astropy:Found cached file /home/yuanze/s1test/mastDownload/HST/hst_12903_07_wfc3_ir_f105w_iby807cm/hst_12903_07_wfc3_ir_f105w_iby807cm_flt.fits with expected size 4354560.\n"
     ]
    },
    {
     "name": "stdout",
     "output_type": "stream",
     "text": [
      "INFO: Found cached file /home/yuanze/s1test/mastDownload/HST/hst_12903_07_wfc3_ir_f105w_iby807cm/hst_12903_07_wfc3_ir_f105w_iby807cm_flt.fits with expected size 4354560. [astroquery.query]\n"
     ]
    },
    {
     "name": "stderr",
     "output_type": "stream",
     "text": [
      "INFO:astropy:Found cached file /home/yuanze/s1test/mastDownload/HST/hst_12903_07_wfc3_ir_f105w_iby807cn/hst_12903_07_wfc3_ir_f105w_iby807cn_flt.fits with expected size 4340160.\n"
     ]
    },
    {
     "name": "stdout",
     "output_type": "stream",
     "text": [
      "INFO: Found cached file /home/yuanze/s1test/mastDownload/HST/hst_12903_07_wfc3_ir_f105w_iby807cn/hst_12903_07_wfc3_ir_f105w_iby807cn_flt.fits with expected size 4340160. [astroquery.query]\n"
     ]
    },
    {
     "name": "stderr",
     "output_type": "stream",
     "text": [
      "INFO:astropy:Found cached file /home/yuanze/s1test/mastDownload/HST/hst_12903_07_wfc3_ir_f105w_iby807co/hst_12903_07_wfc3_ir_f105w_iby807co_flt.fits with expected size 4351680.\n"
     ]
    },
    {
     "name": "stdout",
     "output_type": "stream",
     "text": [
      "INFO: Found cached file /home/yuanze/s1test/mastDownload/HST/hst_12903_07_wfc3_ir_f105w_iby807co/hst_12903_07_wfc3_ir_f105w_iby807co_flt.fits with expected size 4351680. [astroquery.query]\n"
     ]
    },
    {
     "name": "stderr",
     "output_type": "stream",
     "text": [
      "INFO:astropy:Found cached file /home/yuanze/s1test/mastDownload/HST/hst_12903_07_wfc3_ir_f105w_iby807cp/hst_12903_07_wfc3_ir_f105w_iby807cp_flt.fits with expected size 4351680.\n"
     ]
    },
    {
     "name": "stdout",
     "output_type": "stream",
     "text": [
      "INFO: Found cached file /home/yuanze/s1test/mastDownload/HST/hst_12903_07_wfc3_ir_f105w_iby807cp/hst_12903_07_wfc3_ir_f105w_iby807cp_flt.fits with expected size 4351680. [astroquery.query]\n"
     ]
    },
    {
     "ename": "FileNotFoundError",
     "evalue": "[Errno 2] No such file or directory: '/home/yuanze/s1test/mastDownload/HST/hst_12903_07_wfc3_ir_f105w_iby807cm/hst_12903_07_wfc3_ir_f105w_iby807cm_flt.fits' -> '/home/yuanze/s1test/hst_12903_07_wfc3_ir_f105w_iby807cm_flt.fits'",
     "output_type": "error",
     "traceback": [
      "\u001b[0;31m---------------------------------------------------------------------------\u001b[0m",
      "\u001b[0;31mFileNotFoundError\u001b[0m                         Traceback (most recent call last)",
      "\u001b[0;32m/tmp/ipykernel_975960/1396717092.py\u001b[0m in \u001b[0;36m<module>\u001b[0;34m\u001b[0m\n\u001b[1;32m     15\u001b[0m                                              download_dir=downdir)\n\u001b[1;32m     16\u001b[0m \u001b[0;32mfor\u001b[0m \u001b[0mfile\u001b[0m \u001b[0;32min\u001b[0m \u001b[0mdownload_tab\u001b[0m\u001b[0;34m[\u001b[0m\u001b[0;34m'Local Path'\u001b[0m\u001b[0;34m]\u001b[0m\u001b[0;34m:\u001b[0m\u001b[0;34m\u001b[0m\u001b[0;34m\u001b[0m\u001b[0m\n\u001b[0;32m---> 17\u001b[0;31m     \u001b[0mos\u001b[0m\u001b[0;34m.\u001b[0m\u001b[0mrename\u001b[0m\u001b[0;34m(\u001b[0m\u001b[0mfile\u001b[0m\u001b[0;34m,\u001b[0m\u001b[0mjoin\u001b[0m\u001b[0;34m(\u001b[0m\u001b[0mdowndir\u001b[0m\u001b[0;34m,\u001b[0m\u001b[0mos\u001b[0m\u001b[0;34m.\u001b[0m\u001b[0mpath\u001b[0m\u001b[0;34m.\u001b[0m\u001b[0mbasename\u001b[0m\u001b[0;34m(\u001b[0m\u001b[0mfile\u001b[0m\u001b[0;34m)\u001b[0m\u001b[0;34m)\u001b[0m\u001b[0;34m)\u001b[0m\u001b[0;34m\u001b[0m\u001b[0;34m\u001b[0m\u001b[0m\n\u001b[0m\u001b[1;32m     18\u001b[0m \u001b[0mshutil\u001b[0m\u001b[0;34m.\u001b[0m\u001b[0mrmtree\u001b[0m\u001b[0;34m(\u001b[0m\u001b[0mjoin\u001b[0m\u001b[0;34m(\u001b[0m\u001b[0mdowndir\u001b[0m\u001b[0;34m,\u001b[0m\u001b[0;34m'mastDownload'\u001b[0m\u001b[0;34m)\u001b[0m\u001b[0;34m)\u001b[0m\u001b[0;34m\u001b[0m\u001b[0;34m\u001b[0m\u001b[0m\n\u001b[1;32m     19\u001b[0m \u001b[0;34m\u001b[0m\u001b[0m\n",
      "\u001b[0;31mFileNotFoundError\u001b[0m: [Errno 2] No such file or directory: '/home/yuanze/s1test/mastDownload/HST/hst_12903_07_wfc3_ir_f105w_iby807cm/hst_12903_07_wfc3_ir_f105w_iby807cm_flt.fits' -> '/home/yuanze/s1test/hst_12903_07_wfc3_ir_f105w_iby807cm_flt.fits'"
     ]
    }
   ],
   "source": [
    "##Use astroquery to download the data\n",
    "\n",
    "#Observations.get_metadata(\"observations\")\n",
    "\n",
    "\n",
    "tarnum=1\n",
    "print(dalist[tarnum])\n",
    "tab=Observations.query_region(dalist[tarnum],radius=\".02 deg\")\n",
    "obs_table=Observations.filter_products(tab,obs_collection='HST',instrument_name=['WFC3/UVIS','WFC3/IR','ACS/HRC','ACS/WFC','ACS/SBC'])\n",
    "downdir='/home/yuanze/s{0}test'.format(tarnum)\n",
    "print(\"Download Started\")\n",
    "#obs_table = Observations.query_criteria(obs_id='IEAG83010'.lower())\n",
    "download_tab = Observations.download_products(obs_table['obsid'], mrp_only=False, \n",
    "                                              productSubGroupDescription=['FLC','FLT'],\n",
    "                                             download_dir=downdir)\n",
    "\n",
    "\n",
    "#ftab=Observations.filter_products(otab,obs_collection='HST',instrument_name=['WFC3/UVIS','WFC3/IR','ACS/HRC','ACS/WFC','ACS/SBC'],t_exptime>100)\n",
    "#print(otab['obs_collection'=='HST'][0])\n",
    "#obstab=Observations.filter_products(otab)\n",
    "#Observations.list_missions()"
   ]
  },
  {
   "cell_type": "code",
   "execution_count": 12,
   "id": "141c8088",
   "metadata": {
    "scrolled": true
   },
   "outputs": [
    {
     "name": "stdout",
     "output_type": "stream",
     "text": [
      "File not found!\n",
      "File not found!\n",
      "File not found!\n",
      "File not found!\n",
      "File not found!\n",
      "File not found!\n",
      "File not found!\n",
      "File not found!\n",
      "File not found!\n",
      "File not found!\n",
      "File not found!\n",
      "File not found!\n",
      "File not found!\n",
      "File not found!\n",
      "File not found!\n",
      "File not found!\n",
      "File not found!\n",
      "File not found!\n",
      "File not found!\n",
      "File not found!\n",
      "File not found!\n",
      "File not found!\n",
      "File not found!\n",
      "File not found!\n",
      "File not found!\n",
      "File not found!\n",
      "File not found!\n",
      "File not found!\n",
      "File not found!\n",
      "File not found!\n",
      "File not found!\n",
      "File not found!\n",
      "File not found!\n",
      "File not found!\n",
      "File not found!\n",
      "File not found!\n",
      "File not found!\n",
      "File not found!\n",
      "File not found!\n",
      "File not found!\n",
      "File not found!\n",
      "File not found!\n",
      "File not found!\n",
      "File not found!\n",
      "File not found!\n",
      "File not found!\n",
      "File not found!\n",
      "File not found!\n",
      "File not found!\n",
      "File not found!\n",
      "File not found!\n",
      "File not found!\n"
     ]
    }
   ],
   "source": [
    "for file in download_tab['Local Path']:\n",
    "    try:\n",
    "        os.rename(file,join(downdir,os.path.basename(file)))\n",
    "    except:\n",
    "        print(\"File not found!\")\n",
    "shutil.rmtree(join(downdir,'mastDownload'))"
   ]
  },
  {
   "cell_type": "code",
   "execution_count": 4,
   "id": "f482d33a-7220-4485-b152-75858372c61e",
   "metadata": {
    "collapsed": true,
    "jupyter": {
     "outputs_hidden": true
    },
    "tags": []
   },
   "outputs": [
    {
     "name": "stdout",
     "output_type": "stream",
     "text": [
      "Downloading URL https://mast.stsci.edu/api/v0.1/Download/file?uri=mast:HST/product/hst_16241_83_wfc3_uvis_f225w_ieag83z6_flc.fits to ./mastDownload/HST/hst_16241_83_wfc3_uvis_f225w_ieag83z6/hst_16241_83_wfc3_uvis_f225w_ieag83z6_flc.fits ... [Done]\n",
      "Downloading URL https://mast.stsci.edu/api/v0.1/Download/file?uri=mast:HST/product/hst_16241_83_wfc3_uvis_f225w_ieag83z7_flc.fits to ./mastDownload/HST/hst_16241_83_wfc3_uvis_f225w_ieag83z7/hst_16241_83_wfc3_uvis_f225w_ieag83z7_flc.fits ... [Done]\n",
      "Downloading URL https://mast.stsci.edu/api/v0.1/Download/file?uri=mast:HST/product/hst_16241_83_wfc3_uvis_f225w_ieag83za_flc.fits to ./mastDownload/HST/hst_16241_83_wfc3_uvis_f225w_ieag83za/hst_16241_83_wfc3_uvis_f225w_ieag83za_flc.fits ... [Done]\n",
      "Downloading URL https://mast.stsci.edu/api/v0.1/Download/file?uri=mast:HST/product/hst_16241_83_wfc3_uvis_f225w_ieag83zf_flc.fits to ./mastDownload/HST/hst_16241_83_wfc3_uvis_f225w_ieag83zf/hst_16241_83_wfc3_uvis_f225w_ieag83zf_flc.fits ... [Done]\n",
      "Downloading URL https://mast.stsci.edu/api/v0.1/Download/file?uri=mast:HST/product/ieag83z6q_flc.fits to ./mastDownload/HST/ieag83z6q/ieag83z6q_flc.fits ... [Done]\n",
      "Downloading URL https://mast.stsci.edu/api/v0.1/Download/file?uri=mast:HST/product/ieag83z6q_flt.fits to ./mastDownload/HST/ieag83z6q/ieag83z6q_flt.fits ... [Done]\n",
      "Downloading URL https://mast.stsci.edu/api/v0.1/Download/file?uri=mast:HST/product/ieag83z7q_flc.fits to ./mastDownload/HST/ieag83z7q/ieag83z7q_flc.fits ... [Done]\n",
      "Downloading URL https://mast.stsci.edu/api/v0.1/Download/file?uri=mast:HST/product/ieag83z7q_flt.fits to ./mastDownload/HST/ieag83z7q/ieag83z7q_flt.fits ... [Done]\n",
      "Downloading URL https://mast.stsci.edu/api/v0.1/Download/file?uri=mast:HST/product/ieag83zaq_flc.fits to ./mastDownload/HST/ieag83zaq/ieag83zaq_flc.fits ... [Done]\n",
      "Downloading URL https://mast.stsci.edu/api/v0.1/Download/file?uri=mast:HST/product/ieag83zaq_flt.fits to ./mastDownload/HST/ieag83zaq/ieag83zaq_flt.fits ... [Done]\n",
      "Downloading URL https://mast.stsci.edu/api/v0.1/Download/file?uri=mast:HST/product/ieag83zfq_flc.fits to ./mastDownload/HST/ieag83zfq/ieag83zfq_flc.fits ... [Done]\n",
      "Downloading URL https://mast.stsci.edu/api/v0.1/Download/file?uri=mast:HST/product/ieag83zfq_flt.fits to ./mastDownload/HST/ieag83zfq/ieag83zfq_flt.fits ... [Done]\n",
      "INFO: Found cached file ./mastDownload/HST/hst_16241_83_wfc3_uvis_f225w_ieag83z6/hst_16241_83_wfc3_uvis_f225w_ieag83z6_flc.fits with expected size 2862720. [astroquery.query]\n",
      "INFO: Found cached file ./mastDownload/HST/hst_16241_83_wfc3_uvis_f225w_ieag83z7/hst_16241_83_wfc3_uvis_f225w_ieag83z7_flc.fits with expected size 168439680. [astroquery.query]\n",
      "INFO: Found cached file ./mastDownload/HST/hst_16241_83_wfc3_uvis_f225w_ieag83za/hst_16241_83_wfc3_uvis_f225w_ieag83za_flc.fits with expected size 168439680. [astroquery.query]\n",
      "INFO: Found cached file ./mastDownload/HST/hst_16241_83_wfc3_uvis_f225w_ieag83zf/hst_16241_83_wfc3_uvis_f225w_ieag83zf_flc.fits with expected size 168439680. [astroquery.query]\n",
      "INFO: Found cached file ./mastDownload/HST/ieag83z6q/ieag83z6q_flc.fits with expected size 2862720. [astroquery.query]\n",
      "INFO: Found cached file ./mastDownload/HST/ieag83z6q/ieag83z6q_flt.fits with expected size 2862720. [astroquery.query]\n",
      "INFO: Found cached file ./mastDownload/HST/ieag83z7q/ieag83z7q_flc.fits with expected size 168439680. [astroquery.query]\n",
      "INFO: Found cached file ./mastDownload/HST/ieag83z7q/ieag83z7q_flt.fits with expected size 168439680. [astroquery.query]\n",
      "INFO: Found cached file ./mastDownload/HST/ieag83zaq/ieag83zaq_flc.fits with expected size 168439680. [astroquery.query]\n",
      "INFO: Found cached file ./mastDownload/HST/ieag83zaq/ieag83zaq_flt.fits with expected size 168439680. [astroquery.query]\n",
      "INFO: Found cached file ./mastDownload/HST/ieag83zfq/ieag83zfq_flc.fits with expected size 168439680. [astroquery.query]\n",
      "INFO: Found cached file ./mastDownload/HST/ieag83zfq/ieag83zfq_flt.fits with expected size 168439680. [astroquery.query]\n",
      "INFO: Found cached file ./mastDownload/HST/hst_16241_83_wfc3_uvis_f225w_ieag83z6/hst_16241_83_wfc3_uvis_f225w_ieag83z6_flc.fits with expected size 2862720. [astroquery.query]\n",
      "INFO: Found cached file ./mastDownload/HST/hst_16241_83_wfc3_uvis_f225w_ieag83z7/hst_16241_83_wfc3_uvis_f225w_ieag83z7_flc.fits with expected size 168439680. [astroquery.query]\n",
      "INFO: Found cached file ./mastDownload/HST/hst_16241_83_wfc3_uvis_f225w_ieag83za/hst_16241_83_wfc3_uvis_f225w_ieag83za_flc.fits with expected size 168439680. [astroquery.query]\n",
      "INFO: Found cached file ./mastDownload/HST/hst_16241_83_wfc3_uvis_f225w_ieag83zf/hst_16241_83_wfc3_uvis_f225w_ieag83zf_flc.fits with expected size 168439680. [astroquery.query]\n",
      "INFO: Found cached file ./mastDownload/HST/hst_16241_83_wfc3_uvis_f225w_ieag83z7/hst_16241_83_wfc3_uvis_f225w_ieag83z7_flc.fits with expected size 168439680. [astroquery.query]\n",
      "INFO: Found cached file ./mastDownload/HST/hst_16241_83_wfc3_uvis_f225w_ieag83za/hst_16241_83_wfc3_uvis_f225w_ieag83za_flc.fits with expected size 168439680. [astroquery.query]\n",
      "INFO: Found cached file ./mastDownload/HST/hst_16241_83_wfc3_uvis_f225w_ieag83zf/hst_16241_83_wfc3_uvis_f225w_ieag83zf_flc.fits with expected size 168439680. [astroquery.query]\n",
      "INFO: Found cached file ./mastDownload/HST/ieag83z7q/ieag83z7q_flc.fits with expected size 168439680. [astroquery.query]\n",
      "INFO: Found cached file ./mastDownload/HST/ieag83z7q/ieag83z7q_flt.fits with expected size 168439680. [astroquery.query]\n",
      "INFO: Found cached file ./mastDownload/HST/ieag83zaq/ieag83zaq_flc.fits with expected size 168439680. [astroquery.query]\n",
      "INFO: Found cached file ./mastDownload/HST/ieag83zaq/ieag83zaq_flt.fits with expected size 168439680. [astroquery.query]\n",
      "INFO: Found cached file ./mastDownload/HST/ieag83zfq/ieag83zfq_flc.fits with expected size 168439680. [astroquery.query]\n",
      "INFO: Found cached file ./mastDownload/HST/ieag83zfq/ieag83zfq_flt.fits with expected size 168439680. [astroquery.query]\n",
      "INFO: Found cached file ./mastDownload/HST/hst_16241_83_wfc3_uvis_f225w_ieag83z6/hst_16241_83_wfc3_uvis_f225w_ieag83z6_flc.fits with expected size 2862720. [astroquery.query]\n",
      "INFO: Found cached file ./mastDownload/HST/ieag83z6q/ieag83z6q_flc.fits with expected size 2862720. [astroquery.query]\n",
      "INFO: Found cached file ./mastDownload/HST/ieag83z6q/ieag83z6q_flt.fits with expected size 2862720. [astroquery.query]\n"
     ]
    }
   ],
   "source": [
    "down_ftab=Observations.download_products(ftab['obsid'],productSubGroupDescription=['FLC','FLT'])"
   ]
  },
  {
   "cell_type": "code",
   "execution_count": 16,
   "id": "83151764-4da6-4419-ad78-ef73f035aee5",
   "metadata": {},
   "outputs": [],
   "source": [
    "downdir='/home/yuanze/s{0}test'.format(tarnum)\n",
    "for file in download_tab['Local Path']:\n",
    "    os.rename(file,join(downdir,os.path.basename(file)))\n",
    "    "
   ]
  },
  {
   "cell_type": "code",
   "execution_count": 6,
   "id": "e0836b48-b6bc-42bd-8da6-b3bb4790109c",
   "metadata": {},
   "outputs": [],
   "source": [
    "os.environ['CRDS_SERVER_URL'] = 'https://hst-crds.stsci.edu'\n",
    "os.environ['CRDS_PATH'] = os.path.abspath(join('/home/yuanze/hstdata/s1', 'reference_files'))"
   ]
  },
  {
   "cell_type": "code",
   "execution_count": 9,
   "id": "df073185-0bed-4273-ac19-c38fccd28f68",
   "metadata": {
    "scrolled": true
   },
   "outputs": [
    {
     "ename": "CalledProcessError",
     "evalue": "Command 'crds bestrefs --files /home/yuanze/hstdata/s1/iby807cnq_flt.fits --sync-references=1 --update-bestrefs' returned non-zero exit status 127.",
     "output_type": "error",
     "traceback": [
      "\u001b[0;31m---------------------------------------------------------------------------\u001b[0m",
      "\u001b[0;31mCalledProcessError\u001b[0m                        Traceback (most recent call last)",
      "\u001b[0;32m<ipython-input-9-07e3841e663b>\u001b[0m in \u001b[0;36m<module>\u001b[0;34m\u001b[0m\n\u001b[1;32m      5\u001b[0m \u001b[0mfltlist\u001b[0m\u001b[0;34m=\u001b[0m\u001b[0;34m[\u001b[0m\u001b[0mflist\u001b[0m\u001b[0;34m[\u001b[0m\u001b[0mi\u001b[0m\u001b[0;34m]\u001b[0m \u001b[0;32mfor\u001b[0m \u001b[0mi\u001b[0m \u001b[0;32min\u001b[0m \u001b[0mrange\u001b[0m\u001b[0;34m(\u001b[0m\u001b[0mlen\u001b[0m\u001b[0;34m(\u001b[0m\u001b[0mflist\u001b[0m\u001b[0;34m)\u001b[0m\u001b[0;34m)\u001b[0m \u001b[0;32mif\u001b[0m \u001b[0mre\u001b[0m\u001b[0;34m.\u001b[0m\u001b[0mfindall\u001b[0m\u001b[0;34m(\u001b[0m\u001b[0;34m\".*flt.fits\"\u001b[0m\u001b[0;34m,\u001b[0m\u001b[0mflist\u001b[0m\u001b[0;34m[\u001b[0m\u001b[0mi\u001b[0m\u001b[0;34m]\u001b[0m\u001b[0;34m)\u001b[0m \u001b[0;34m!=\u001b[0m \u001b[0;34m[\u001b[0m\u001b[0;34m]\u001b[0m\u001b[0;34m]\u001b[0m\u001b[0;34m\u001b[0m\u001b[0;34m\u001b[0m\u001b[0m\n\u001b[1;32m      6\u001b[0m \u001b[0mos\u001b[0m\u001b[0;34m.\u001b[0m\u001b[0mchdir\u001b[0m\u001b[0;34m(\u001b[0m\u001b[0mdatapath\u001b[0m\u001b[0;34m)\u001b[0m\u001b[0;34m\u001b[0m\u001b[0;34m\u001b[0m\u001b[0m\n\u001b[0;32m----> 7\u001b[0;31m \u001b[0msubprocess\u001b[0m\u001b[0;34m.\u001b[0m\u001b[0mcheck_output\u001b[0m\u001b[0;34m(\u001b[0m\u001b[0;34m'crds bestrefs --files {0} --sync-references=1 --update-bestrefs'\u001b[0m\u001b[0;34m.\u001b[0m\u001b[0mformat\u001b[0m\u001b[0;34m(\u001b[0m\u001b[0mjoin\u001b[0m\u001b[0;34m(\u001b[0m\u001b[0mdatapath\u001b[0m\u001b[0;34m,\u001b[0m\u001b[0mfltlist\u001b[0m\u001b[0;34m[\u001b[0m\u001b[0;36m0\u001b[0m\u001b[0;34m]\u001b[0m\u001b[0;34m)\u001b[0m\u001b[0;34m)\u001b[0m\u001b[0;34m,\u001b[0m \u001b[0mshell\u001b[0m\u001b[0;34m=\u001b[0m\u001b[0;32mTrue\u001b[0m\u001b[0;34m,\u001b[0m \u001b[0mstderr\u001b[0m\u001b[0;34m=\u001b[0m\u001b[0msubprocess\u001b[0m\u001b[0;34m.\u001b[0m\u001b[0mDEVNULL\u001b[0m\u001b[0;34m)\u001b[0m\u001b[0;34m\u001b[0m\u001b[0;34m\u001b[0m\u001b[0m\n\u001b[0m\u001b[1;32m      8\u001b[0m \u001b[0;34m\u001b[0m\u001b[0m\n",
      "\u001b[0;32m~/anaconda3/lib/python3.8/subprocess.py\u001b[0m in \u001b[0;36mcheck_output\u001b[0;34m(timeout, *popenargs, **kwargs)\u001b[0m\n\u001b[1;32m    413\u001b[0m         \u001b[0mkwargs\u001b[0m\u001b[0;34m[\u001b[0m\u001b[0;34m'input'\u001b[0m\u001b[0;34m]\u001b[0m \u001b[0;34m=\u001b[0m \u001b[0mempty\u001b[0m\u001b[0;34m\u001b[0m\u001b[0;34m\u001b[0m\u001b[0m\n\u001b[1;32m    414\u001b[0m \u001b[0;34m\u001b[0m\u001b[0m\n\u001b[0;32m--> 415\u001b[0;31m     return run(*popenargs, stdout=PIPE, timeout=timeout, check=True,\n\u001b[0m\u001b[1;32m    416\u001b[0m                **kwargs).stdout\n\u001b[1;32m    417\u001b[0m \u001b[0;34m\u001b[0m\u001b[0m\n",
      "\u001b[0;32m~/anaconda3/lib/python3.8/subprocess.py\u001b[0m in \u001b[0;36mrun\u001b[0;34m(input, capture_output, timeout, check, *popenargs, **kwargs)\u001b[0m\n\u001b[1;32m    514\u001b[0m         \u001b[0mretcode\u001b[0m \u001b[0;34m=\u001b[0m \u001b[0mprocess\u001b[0m\u001b[0;34m.\u001b[0m\u001b[0mpoll\u001b[0m\u001b[0;34m(\u001b[0m\u001b[0;34m)\u001b[0m\u001b[0;34m\u001b[0m\u001b[0;34m\u001b[0m\u001b[0m\n\u001b[1;32m    515\u001b[0m         \u001b[0;32mif\u001b[0m \u001b[0mcheck\u001b[0m \u001b[0;32mand\u001b[0m \u001b[0mretcode\u001b[0m\u001b[0;34m:\u001b[0m\u001b[0;34m\u001b[0m\u001b[0;34m\u001b[0m\u001b[0m\n\u001b[0;32m--> 516\u001b[0;31m             raise CalledProcessError(retcode, process.args,\n\u001b[0m\u001b[1;32m    517\u001b[0m                                      output=stdout, stderr=stderr)\n\u001b[1;32m    518\u001b[0m     \u001b[0;32mreturn\u001b[0m \u001b[0mCompletedProcess\u001b[0m\u001b[0;34m(\u001b[0m\u001b[0mprocess\u001b[0m\u001b[0;34m.\u001b[0m\u001b[0margs\u001b[0m\u001b[0;34m,\u001b[0m \u001b[0mretcode\u001b[0m\u001b[0;34m,\u001b[0m \u001b[0mstdout\u001b[0m\u001b[0;34m,\u001b[0m \u001b[0mstderr\u001b[0m\u001b[0;34m)\u001b[0m\u001b[0;34m\u001b[0m\u001b[0;34m\u001b[0m\u001b[0m\n",
      "\u001b[0;31mCalledProcessError\u001b[0m: Command 'crds bestrefs --files /home/yuanze/hstdata/s1/iby807cnq_flt.fits --sync-references=1 --update-bestrefs' returned non-zero exit status 127."
     ]
    }
   ],
   "source": [
    "targNum=1\n",
    "datapath='/home/yuanze/hstdata/s{0}'.format(targNum)\n",
    "#psfpath='/Users/ding/Desktop/AGN/HSTpsf'\n",
    "flist=os.listdir(datapath)\n",
    "fltlist=[flist[i] for i in range(len(flist)) if re.findall(\".*flt.fits\",flist[i]) != []]\n",
    "os.chdir(datapath)\n",
    "subprocess.check_output('crds bestrefs --files {0} --sync-references=1 --update-bestrefs'.format(join(datapath,fltlist[0])), shell=True, stderr=subprocess.DEVNULL)\n",
    "\n"
   ]
  },
  {
   "cell_type": "code",
   "execution_count": 15,
   "id": "fd875428-2d30-4c51-ac69-54ca6d3752fc",
   "metadata": {
    "scrolled": false
   },
   "outputs": [
    {
     "name": "stdout",
     "output_type": "stream",
     "text": [
      "       file          asn_id  detector filter exptime  postarg1  postarg2\n",
      "------------------ --------- -------- ------ ------- --------- ---------\n",
      "ib5e07zmq_flc.fits IB5E07010     UVIS  F547M    10.0 -0.148078 -1.994511\n",
      "ib5e07znq_flc.fits IB5E07010     UVIS  F547M   100.0 -0.148078 -1.994511\n",
      "ib5e07zoq_flc.fits IB5E07010     UVIS  F547M  1020.0 -0.148078 -1.994511\n",
      "ib5e07zqq_flc.fits IB5E07010     UVIS  F547M    10.0  0.148078  1.994511\n",
      "ib5e07zrq_flc.fits IB5E07010     UVIS  F547M  1020.0  0.148078  1.994511\n",
      "ib5e07ztq_flc.fits IB5E07010     UVIS  F547M   100.0  0.148078  1.994511\n",
      "ibly04fpq_flc.fits IBLY04010     UVIS FQ508N   289.0       0.0       0.0\n",
      "ibly04fqq_flc.fits IBLY04010     UVIS FQ508N   289.0       0.0       0.0\n",
      "ibly04frq_flc.fits IBLY04020     UVIS  F665N    10.0       0.0       0.0\n",
      "ibly04fsq_flc.fits IBLY04020     UVIS  F665N   226.0       0.0       0.0\n",
      "ibly04ftq_flc.fits IBLY04020     UVIS  F665N   226.0       0.0       0.0\n",
      "ibly04fvq_flc.fits      NONE     UVIS  F621M   206.0       0.0       0.0\n",
      "ibly04fwq_flc.fits      NONE     UVIS  F680N   318.0       0.0       0.0\n",
      "ieag52fbq_flc.fits IEAG52010     UVIS  F225W   350.0       0.0       0.0\n",
      "ieag52fdq_flc.fits IEAG52010     UVIS  F225W   350.0   0.09235   0.09848\n",
      "ieag52ffq_flc.fits IEAG52010     UVIS  F225W   350.0   0.18469   0.19695\n",
      "['ieag52fdq_flc.fits', 'ieag52fbq_flc.fits', 'ibly04fsq_flc.fits', 'ib5e07zqq_flc.fits', 'ibly04frq_flc.fits', 'ib5e07zmq_flc.fits', 'ib5e07zoq_flc.fits', 'ibly04fwq_flc.fits', 'ib5e07znq_flc.fits', 'ieag52ffq_flc.fits', 'ibly04fvq_flc.fits', 'ibly04fpq_flc.fits', 'ib5e07ztq_flc.fits', 'ibly04ftq_flc.fits', 'ib5e07zrq_flc.fits', 'ibly04fqq_flc.fits']\n"
     ]
    }
   ],
   "source": [
    "WFC3_IR=('F105W','F110W','F125W','F814W')\n",
    "WFC3_UVIS=('F438W','F475W','F547M','F555W','F606W')\n",
    "subband={\n",
    "    \"I\":WFC3_IR,\n",
    "    \"B\":WFC3_UVIS\n",
    "}\n",
    "\n",
    "pixsize={\n",
    "    \"B\":0.04,\n",
    "    \"I\":0.13\n",
    "}\n",
    "psfpixsize={\n",
    "    \"B\":0.03,\n",
    "    \"I\":0.06\n",
    "}\n",
    "\n",
    "##-------------------Source definition---------------------##\n",
    "targname='NGC 5548'\n",
    "targNum=\"6\"\n",
    "\n",
    "##-------------------Source properties---------------------##\n",
    "ra=214.498058\n",
    "dec=25.13679\n",
    "z = 0.017\n",
    "#ebv = 0.0550\n",
    "#Av=0.1705\n",
    "\"\"\"\n",
    "cosmo = FlatLambdaCDM(H0=67.8 * u.km / u.s / u.Mpc, Tcmb0=2.725 * u.K, Om0=0.308)\n",
    "d=cosmo.luminosity_distance(z)\n",
    "dc=d.to(u.cm)\n",
    "dis=dc.value\n",
    "C_unit=1./(4*np.pi*dis**2)\n",
    "cutsize = 15. ##cut regime: a 30*30 arcsec box\n",
    "spec_aperturesize = 2.\n",
    "\"\"\"\n",
    "\n",
    "##-------------------Source data file----------------------##\n",
    "datapath='/home/yuanze/hstdata/s{0}'.format(targNum)\n",
    "#datapath='/home/yuanze/s{0}test'.format(targNum)\n",
    "#psfpath='/Users/ding/Desktop/AGN/HSTpsf'\n",
    "flist=os.listdir(datapath)\n",
    "psfpath=\"/home/yuanze/HSTpsf\"\n",
    "FLTlist=[flist[i] for i in range(len(flist)) if re.findall(\".*flt.fits\",flist[i])  != []]\n",
    "FLClist=[flist[i] for i in range(len(flist)) if re.findall(\".*flc.fits\",flist[i])  != []]\n",
    "collect = ImageFileCollection(datapath,\n",
    "                              keywords=[\"asn_id\", \"detector\", \"filter\", \"exptime\", \"postarg1\", \"postarg2\"],\n",
    "                              glob_include=\"*flc.fits\", ext=0)\n",
    "out_table = collect.summary\n",
    "print(out_table)\n",
    "print(FLClist)"
   ]
  },
  {
   "cell_type": "code",
   "execution_count": 7,
   "id": "dadea9f7",
   "metadata": {},
   "outputs": [],
   "source": [
    "#UVISlist=out_table[out_table['detector']=='UVIS']['file']\n",
    "UVISlist=FLClist.copy()\n",
    "IRlist=out_table[out_table['detector']=='IR']['file']\n",
    "HRClist=out_table[out_table['detector']=='HRC']['file']\n",
    "#print(IRlist)"
   ]
  },
  {
   "cell_type": "code",
   "execution_count": 46,
   "id": "827d76c6",
   "metadata": {},
   "outputs": [],
   "source": [
    "np.savetxt(join(datapath,\"WFC3_UVIS.lis\"),UVISlist.pformat(show_name=False),fmt='%s')\n",
    "np.savetxt(join(datapath,\"WFC3_IR.lis\"),IRlist.pformat(show_name=False),fmt='%s')"
   ]
  },
  {
   "cell_type": "code",
   "execution_count": 8,
   "id": "36f6d0b2",
   "metadata": {},
   "outputs": [],
   "source": [
    "fltfilelist={\n",
    "    'WFC3_IR':IRlist.pformat(show_name=False),\n",
    "    'WFC3_UVIS':UVISlist,\n",
    "    'ACS_HRC':HRClist.pformat(show_name=False)\n",
    "}\n",
    "\n"
   ]
  },
  {
   "cell_type": "markdown",
   "id": "34eb2427",
   "metadata": {},
   "source": [
    "# Define the input FLT/C file list"
   ]
  },
  {
   "cell_type": "code",
   "execution_count": 9,
   "id": "87e64c1d",
   "metadata": {
    "scrolled": true
   },
   "outputs": [],
   "source": [
    "telescope1='WFC3_IR'\n",
    "telescope2='WFC3_UVIS'\n",
    "telescope3='ACS_HRC'\n",
    "conv={\n",
    "    'WFC3_IR':2.5,\n",
    "    'WFC3_UVIS':3.5\n",
    "}\n",
    "allfile=fltfilelist[telescope1].copy()\n",
    "allfile[len(allfile):len(allfile)]=fltfilelist[telescope2].copy()\n",
    "inputlist=[join(datapath,file) for file in fltfilelist[telescope2]]\n",
    "\n",
    "#print(allfile)\n",
    "extinputlist=[join(datapath,file) for file in allfile]\n"
   ]
  },
  {
   "cell_type": "markdown",
   "id": "47a82cb1",
   "metadata": {},
   "source": [
    "# Catalog Alignment: Use SDSS/Gaia Catalogs to align the flatfileded data"
   ]
  },
  {
   "cell_type": "code",
   "execution_count": 243,
   "id": "a8f1adbc",
   "metadata": {},
   "outputs": [],
   "source": [
    "RA=dalist[tarnum].split(\"\\t\")[0]\n",
    "Dec=dalist[tarnum].split(\"\\t\")[1]\n",
    "coord = SkyCoord(ra=RA, dec=Dec, unit=(u.deg, u.deg))\n",
    "radius = Quantity(15., u.arcsec)\n",
    "#Get the object list\n",
    "sdss_query = SDSS.query_region(coord, radius=radius, spectro=False, fields=['ra', 'dec', 'g'])\n",
    "sdss_query.write(join(datapath,'sdss.cat'),overwrite=True, format='ascii.commented_header')"
   ]
  },
  {
   "cell_type": "code",
   "execution_count": 244,
   "id": "cdfa50aa",
   "metadata": {},
   "outputs": [
    {
     "name": "stderr",
     "output_type": "stream",
     "text": [
      "INFO:astropy:Query finished.\n"
     ]
    },
    {
     "name": "stdout",
     "output_type": "stream",
     "text": [
      "INFO: Query finished. [astroquery.utils.tap.core]\n"
     ]
    }
   ],
   "source": [
    "gaia_query = Gaia.query_object_async(coordinate=coord, radius=radius)\n",
    "reduced_query = gaia_query['ra', 'dec', 'phot_g_mean_mag']\n",
    "reduced_query.write(join(datapath,'gaia.cat'),overwrite=True, format='ascii.commented_header')\n"
   ]
  },
  {
   "cell_type": "code",
   "execution_count": 302,
   "id": "7b8fb429",
   "metadata": {},
   "outputs": [
    {
     "name": "stderr",
     "output_type": "stream",
     "text": [
      "INFO:drizzlepac.util:Setting up logfile :  tweakreg.log\n"
     ]
    },
    {
     "name": "stdout",
     "output_type": "stream",
     "text": [
      "Setting up logfile :  tweakreg.log\n"
     ]
    },
    {
     "name": "stderr",
     "output_type": "stream",
     "text": [
      "INFO:drizzlepac.tweakreg:TweakReg Version 1.4.7(18-April-2018) started at: 15:44:14.946 (22/07/2022) \n"
     ]
    },
    {
     "name": "stdout",
     "output_type": "stream",
     "text": [
      "TweakReg Version 1.4.7(18-April-2018) started at: 15:44:14.946 (22/07/2022) \n"
     ]
    },
    {
     "name": "stderr",
     "output_type": "stream",
     "text": [
      "INFO:drizzlepac.tweakreg:\n"
     ]
    },
    {
     "name": "stdout",
     "output_type": "stream",
     "text": [
      "\n"
     ]
    },
    {
     "name": "stderr",
     "output_type": "stream",
     "text": [
      "INFO:drizzlepac.util:Version Information\n"
     ]
    },
    {
     "name": "stdout",
     "output_type": "stream",
     "text": [
      "Version Information\n"
     ]
    },
    {
     "name": "stderr",
     "output_type": "stream",
     "text": [
      "INFO:drizzlepac.util:--------------------\n"
     ]
    },
    {
     "name": "stdout",
     "output_type": "stream",
     "text": [
      "--------------------\n"
     ]
    },
    {
     "name": "stderr",
     "output_type": "stream",
     "text": [
      "INFO:drizzlepac.util:Python Version [GCC 7.5.0]\n"
     ]
    },
    {
     "name": "stdout",
     "output_type": "stream",
     "text": [
      "Python Version [GCC 7.5.0]\n"
     ]
    },
    {
     "name": "stderr",
     "output_type": "stream",
     "text": [
      "INFO:drizzlepac.util:3.7.13 (default, Mar 29 2022, 02:18:16) \n"
     ]
    },
    {
     "name": "stdout",
     "output_type": "stream",
     "text": [
      "3.7.13 (default, Mar 29 2022, 02:18:16) \n"
     ]
    },
    {
     "name": "stderr",
     "output_type": "stream",
     "text": [
      "INFO:drizzlepac.util:numpy Version -> 1.21.5 \n"
     ]
    },
    {
     "name": "stdout",
     "output_type": "stream",
     "text": [
      "numpy Version -> 1.21.5 \n"
     ]
    },
    {
     "name": "stderr",
     "output_type": "stream",
     "text": [
      "INFO:drizzlepac.util:astropy Version -> 4.3.1 \n"
     ]
    },
    {
     "name": "stdout",
     "output_type": "stream",
     "text": [
      "astropy Version -> 4.3.1 \n"
     ]
    },
    {
     "name": "stderr",
     "output_type": "stream",
     "text": [
      "INFO:drizzlepac.util:stwcs Version -> 1.6.1 \n"
     ]
    },
    {
     "name": "stdout",
     "output_type": "stream",
     "text": [
      "stwcs Version -> 1.6.1 \n"
     ]
    },
    {
     "name": "stderr",
     "output_type": "stream",
     "text": [
      "INFO:drizzlepac.tweakreg:\n",
      "INFO:drizzlepac.tweakreg:USER INPUT PARAMETERS common to all Processing Steps:\n",
      "INFO:drizzlepac.tweakreg:\tclean :\tFalse\n",
      "INFO:drizzlepac.tweakreg:\tenforce_user_order :\tTrue\n",
      "INFO:drizzlepac.tweakreg:\texclusions :\t\n",
      "INFO:drizzlepac.tweakreg:\texpand_refcat :\tFalse\n",
      "INFO:drizzlepac.tweakreg:\tinput :\t['/home/yuanze/hstdata/s1/iby807cmq_flt.fits', '/home/yuanze/hstdata/s1/iby807cnq_flt.fits', '/home/yuanze/hstdata/s1/iby807coq_flt.fits', '/home/yuanze/hstdata/s1/iby807cpq_flt.fits']\n",
      "INFO:drizzlepac.tweakreg:\tinteractive :\tFalse\n",
      "INFO:drizzlepac.tweakreg:\trefimage :\t\n",
      "INFO:drizzlepac.tweakreg:\trunfile :\ttweakreg.log\n",
      "INFO:drizzlepac.tweakreg:\tupdatewcs :\tFalse\n",
      "INFO:drizzlepac.tweakreg:\tverbose :\tFalse\n",
      "INFO:drizzlepac.tweakreg:\twritecat :\tTrue\n",
      "INFO:drizzlepac.tweakreg:\n"
     ]
    },
    {
     "name": "stdout",
     "output_type": "stream",
     "text": [
      "\n"
     ]
    },
    {
     "name": "stderr",
     "output_type": "stream",
     "text": [
      "INFO:drizzlepac.tweakreg:Finding shifts for: \n"
     ]
    },
    {
     "name": "stdout",
     "output_type": "stream",
     "text": [
      "Finding shifts for: \n"
     ]
    },
    {
     "name": "stderr",
     "output_type": "stream",
     "text": [
      "INFO:drizzlepac.tweakreg:    /home/yuanze/hstdata/s1/iby807cmq_flt.fits\n"
     ]
    },
    {
     "name": "stdout",
     "output_type": "stream",
     "text": [
      "    /home/yuanze/hstdata/s1/iby807cmq_flt.fits\n"
     ]
    },
    {
     "name": "stderr",
     "output_type": "stream",
     "text": [
      "INFO:drizzlepac.tweakreg:    /home/yuanze/hstdata/s1/iby807cnq_flt.fits\n"
     ]
    },
    {
     "name": "stdout",
     "output_type": "stream",
     "text": [
      "    /home/yuanze/hstdata/s1/iby807cnq_flt.fits\n"
     ]
    },
    {
     "name": "stderr",
     "output_type": "stream",
     "text": [
      "INFO:drizzlepac.tweakreg:    /home/yuanze/hstdata/s1/iby807coq_flt.fits\n"
     ]
    },
    {
     "name": "stdout",
     "output_type": "stream",
     "text": [
      "    /home/yuanze/hstdata/s1/iby807coq_flt.fits\n"
     ]
    },
    {
     "name": "stderr",
     "output_type": "stream",
     "text": [
      "INFO:drizzlepac.tweakreg:    /home/yuanze/hstdata/s1/iby807cpq_flt.fits\n"
     ]
    },
    {
     "name": "stdout",
     "output_type": "stream",
     "text": [
      "    /home/yuanze/hstdata/s1/iby807cpq_flt.fits\n"
     ]
    },
    {
     "name": "stderr",
     "output_type": "stream",
     "text": [
      "INFO:drizzlepac.tweakreg:\n"
     ]
    },
    {
     "name": "stdout",
     "output_type": "stream",
     "text": [
      "\n"
     ]
    },
    {
     "name": "stderr",
     "output_type": "stream",
     "text": [
      "INFO:drizzlepac.tweakreg:USER INPUT PARAMETERS for finding sources for each input image:\n",
      "INFO:drizzlepac.tweakreg:\tclean :\tFalse\n",
      "INFO:drizzlepac.tweakreg:\tcomputesig :\tTrue\n",
      "INFO:drizzlepac.tweakreg:\tconv_width :\t2.5\n",
      "INFO:drizzlepac.tweakreg:\tdqbit :\t0\n",
      "INFO:drizzlepac.tweakreg:\tdqbits :\t\n",
      "INFO:drizzlepac.tweakreg:\tenforce_user_order :\tTrue\n",
      "INFO:drizzlepac.tweakreg:\texpand_refcat :\tFalse\n",
      "INFO:drizzlepac.tweakreg:\tfluxmax :\tNone\n",
      "INFO:drizzlepac.tweakreg:\tfluxmin :\tNone\n",
      "INFO:drizzlepac.tweakreg:\tinput :\t['/home/yuanze/hstdata/s1/iby807cmq_flt.fits', '/home/yuanze/hstdata/s1/iby807cnq_flt.fits', '/home/yuanze/hstdata/s1/iby807coq_flt.fits', '/home/yuanze/hstdata/s1/iby807cpq_flt.fits']\n",
      "INFO:drizzlepac.tweakreg:\tinteractive :\tFalse\n",
      "INFO:drizzlepac.tweakreg:\tnsigma :\t1.5\n",
      "INFO:drizzlepac.tweakreg:\tpeakmax :\tNone\n",
      "INFO:drizzlepac.tweakreg:\tpeakmin :\tNone\n",
      "INFO:drizzlepac.tweakreg:\tratio :\t1.0\n",
      "INFO:drizzlepac.tweakreg:\trefimage :\t\n",
      "INFO:drizzlepac.tweakreg:\troundhi :\t1.0\n",
      "INFO:drizzlepac.tweakreg:\troundlo :\t-1.0\n",
      "INFO:drizzlepac.tweakreg:\trunfile :\ttweakreg.log\n",
      "INFO:drizzlepac.tweakreg:\tsharphi :\t1.0\n",
      "INFO:drizzlepac.tweakreg:\tsharplo :\t0.2\n",
      "INFO:drizzlepac.tweakreg:\tskysigma :\t0.0\n",
      "INFO:drizzlepac.tweakreg:\ttheta :\t0.0\n",
      "INFO:drizzlepac.tweakreg:\tthreshold :\t200.0\n",
      "INFO:drizzlepac.tweakreg:\tupdatehdr :\tTrue\n",
      "INFO:drizzlepac.tweakreg:\tupdatewcs :\tFalse\n",
      "INFO:drizzlepac.tweakreg:\tuse_sharp_round :\tFalse\n",
      "INFO:drizzlepac.tweakreg:\tverbose :\tFalse\n",
      "INFO:drizzlepac.tweakreg:\twritecat :\tTrue\n",
      "INFO:drizzlepac.tweakreg:\txyunits :\tpixels\n",
      "INFO:drizzlepac.tweakreg:\n",
      "INFO:drizzlepac.imgclasses:===  Source finding for image '/home/yuanze/hstdata/s1/iby807cmq_flt.fits':\n"
     ]
    },
    {
     "name": "stdout",
     "output_type": "stream",
     "text": [
      "===  Source finding for image '/home/yuanze/hstdata/s1/iby807cmq_flt.fits':\n"
     ]
    },
    {
     "name": "stderr",
     "output_type": "stream",
     "text": [
      "INFO:drizzlepac.catalogs:  #  Source finding for '/home/yuanze/hstdata/s1/iby807cmq_flt.fits', EXT=('SCI', 1) started at: 15:44:15.200 (22/07/2022)\n"
     ]
    },
    {
     "name": "stdout",
     "output_type": "stream",
     "text": [
      "  #  Source finding for '/home/yuanze/hstdata/s1/iby807cmq_flt.fits', EXT=('SCI', 1) started at: 15:44:15.200 (22/07/2022)\n"
     ]
    },
    {
     "name": "stderr",
     "output_type": "stream",
     "text": [
      "INFO:drizzlepac.catalogs:   Finding sources using sky sigma = 1.182600\n",
      "INFO:drizzlepac.catalogs:###Source finding finished at: 15:44:15.215 (22/07/2022)\n",
      "INFO:drizzlepac.catalogs:     Found 4 objects.\n"
     ]
    },
    {
     "name": "stdout",
     "output_type": "stream",
     "text": [
      "     Found 4 objects.\n"
     ]
    },
    {
     "name": "stderr",
     "output_type": "stream",
     "text": [
      "INFO:drizzlepac.imgclasses:===  FINAL number of objects in image '/home/yuanze/hstdata/s1/iby807cmq_flt.fits': 4\n"
     ]
    },
    {
     "name": "stdout",
     "output_type": "stream",
     "text": [
      "===  FINAL number of objects in image '/home/yuanze/hstdata/s1/iby807cmq_flt.fits': 4\n"
     ]
    },
    {
     "name": "stderr",
     "output_type": "stream",
     "text": [
      "INFO:drizzlepac.imgclasses:\n"
     ]
    },
    {
     "name": "stdout",
     "output_type": "stream",
     "text": [
      "\n"
     ]
    },
    {
     "name": "stderr",
     "output_type": "stream",
     "text": [
      "INFO:drizzlepac.imgclasses:===  Source finding for image '/home/yuanze/hstdata/s1/iby807cnq_flt.fits':\n"
     ]
    },
    {
     "name": "stdout",
     "output_type": "stream",
     "text": [
      "===  Source finding for image '/home/yuanze/hstdata/s1/iby807cnq_flt.fits':\n"
     ]
    },
    {
     "name": "stderr",
     "output_type": "stream",
     "text": [
      "INFO:drizzlepac.catalogs:  #  Source finding for '/home/yuanze/hstdata/s1/iby807cnq_flt.fits', EXT=('SCI', 1) started at: 15:44:15.318 (22/07/2022)\n"
     ]
    },
    {
     "name": "stdout",
     "output_type": "stream",
     "text": [
      "  #  Source finding for '/home/yuanze/hstdata/s1/iby807cnq_flt.fits', EXT=('SCI', 1) started at: 15:44:15.318 (22/07/2022)\n"
     ]
    },
    {
     "name": "stderr",
     "output_type": "stream",
     "text": [
      "INFO:drizzlepac.catalogs:   Finding sources using sky sigma = 1.348211\n",
      "INFO:drizzlepac.catalogs:###Source finding finished at: 15:44:15.333 (22/07/2022)\n",
      "INFO:drizzlepac.catalogs:     Found 3 objects.\n"
     ]
    },
    {
     "name": "stdout",
     "output_type": "stream",
     "text": [
      "     Found 3 objects.\n"
     ]
    },
    {
     "name": "stderr",
     "output_type": "stream",
     "text": [
      "INFO:drizzlepac.imgclasses:===  FINAL number of objects in image '/home/yuanze/hstdata/s1/iby807cnq_flt.fits': 3\n"
     ]
    },
    {
     "name": "stdout",
     "output_type": "stream",
     "text": [
      "===  FINAL number of objects in image '/home/yuanze/hstdata/s1/iby807cnq_flt.fits': 3\n"
     ]
    },
    {
     "name": "stderr",
     "output_type": "stream",
     "text": [
      "INFO:drizzlepac.imgclasses:\n"
     ]
    },
    {
     "name": "stdout",
     "output_type": "stream",
     "text": [
      "\n"
     ]
    },
    {
     "name": "stderr",
     "output_type": "stream",
     "text": [
      "INFO:drizzlepac.imgclasses:===  Source finding for image '/home/yuanze/hstdata/s1/iby807coq_flt.fits':\n"
     ]
    },
    {
     "name": "stdout",
     "output_type": "stream",
     "text": [
      "===  Source finding for image '/home/yuanze/hstdata/s1/iby807coq_flt.fits':\n"
     ]
    },
    {
     "name": "stderr",
     "output_type": "stream",
     "text": [
      "INFO:drizzlepac.catalogs:  #  Source finding for '/home/yuanze/hstdata/s1/iby807coq_flt.fits', EXT=('SCI', 1) started at: 15:44:15.431 (22/07/2022)\n"
     ]
    },
    {
     "name": "stdout",
     "output_type": "stream",
     "text": [
      "  #  Source finding for '/home/yuanze/hstdata/s1/iby807coq_flt.fits', EXT=('SCI', 1) started at: 15:44:15.431 (22/07/2022)\n"
     ]
    },
    {
     "name": "stderr",
     "output_type": "stream",
     "text": [
      "INFO:drizzlepac.catalogs:   Finding sources using sky sigma = 1.387190\n",
      "INFO:drizzlepac.catalogs:###Source finding finished at: 15:44:15.446 (22/07/2022)\n",
      "INFO:drizzlepac.catalogs:     Found 3 objects.\n"
     ]
    },
    {
     "name": "stdout",
     "output_type": "stream",
     "text": [
      "     Found 3 objects.\n"
     ]
    },
    {
     "name": "stderr",
     "output_type": "stream",
     "text": [
      "INFO:drizzlepac.imgclasses:===  FINAL number of objects in image '/home/yuanze/hstdata/s1/iby807coq_flt.fits': 3\n"
     ]
    },
    {
     "name": "stdout",
     "output_type": "stream",
     "text": [
      "===  FINAL number of objects in image '/home/yuanze/hstdata/s1/iby807coq_flt.fits': 3\n"
     ]
    },
    {
     "name": "stderr",
     "output_type": "stream",
     "text": [
      "INFO:drizzlepac.imgclasses:\n"
     ]
    },
    {
     "name": "stdout",
     "output_type": "stream",
     "text": [
      "\n"
     ]
    },
    {
     "name": "stderr",
     "output_type": "stream",
     "text": [
      "INFO:drizzlepac.imgclasses:===  Source finding for image '/home/yuanze/hstdata/s1/iby807cpq_flt.fits':\n"
     ]
    },
    {
     "name": "stdout",
     "output_type": "stream",
     "text": [
      "===  Source finding for image '/home/yuanze/hstdata/s1/iby807cpq_flt.fits':\n"
     ]
    },
    {
     "name": "stderr",
     "output_type": "stream",
     "text": [
      "INFO:drizzlepac.catalogs:  #  Source finding for '/home/yuanze/hstdata/s1/iby807cpq_flt.fits', EXT=('SCI', 1) started at: 15:44:15.544 (22/07/2022)\n"
     ]
    },
    {
     "name": "stdout",
     "output_type": "stream",
     "text": [
      "  #  Source finding for '/home/yuanze/hstdata/s1/iby807cpq_flt.fits', EXT=('SCI', 1) started at: 15:44:15.544 (22/07/2022)\n"
     ]
    },
    {
     "name": "stderr",
     "output_type": "stream",
     "text": [
      "INFO:drizzlepac.catalogs:   Finding sources using sky sigma = 1.620377\n",
      "INFO:drizzlepac.catalogs:###Source finding finished at: 15:44:15.558 (22/07/2022)\n",
      "INFO:drizzlepac.catalogs:     Found 4 objects.\n"
     ]
    },
    {
     "name": "stdout",
     "output_type": "stream",
     "text": [
      "     Found 4 objects.\n"
     ]
    },
    {
     "name": "stderr",
     "output_type": "stream",
     "text": [
      "INFO:drizzlepac.imgclasses:===  FINAL number of objects in image '/home/yuanze/hstdata/s1/iby807cpq_flt.fits': 4\n"
     ]
    },
    {
     "name": "stdout",
     "output_type": "stream",
     "text": [
      "===  FINAL number of objects in image '/home/yuanze/hstdata/s1/iby807cpq_flt.fits': 4\n"
     ]
    },
    {
     "name": "stderr",
     "output_type": "stream",
     "text": [
      "INFO:drizzlepac.imgclasses:\n"
     ]
    },
    {
     "name": "stdout",
     "output_type": "stream",
     "text": [
      "\n"
     ]
    },
    {
     "name": "stderr",
     "output_type": "stream",
     "text": [
      "INFO:drizzlepac.imgclasses:Converting RA/Dec positions of reference sources from \"/home/yuanze/hstdata/s1/iby807cmq_flt.fits\" to X,Y positions in reference WCS...\n",
      "INFO:drizzlepac.tweakreg:\n"
     ]
    },
    {
     "name": "stdout",
     "output_type": "stream",
     "text": [
      "\n"
     ]
    },
    {
     "name": "stderr",
     "output_type": "stream",
     "text": [
      "INFO:drizzlepac.tweakreg:===============================================================\n"
     ]
    },
    {
     "name": "stdout",
     "output_type": "stream",
     "text": [
      "===============================================================\n"
     ]
    },
    {
     "name": "stderr",
     "output_type": "stream",
     "text": [
      "INFO:drizzlepac.tweakreg:Performing alignment in the projection plane defined by the WCS\n"
     ]
    },
    {
     "name": "stdout",
     "output_type": "stream",
     "text": [
      "Performing alignment in the projection plane defined by the WCS\n"
     ]
    },
    {
     "name": "stderr",
     "output_type": "stream",
     "text": [
      "INFO:drizzlepac.tweakreg:derived from '/home/yuanze/hstdata/s1/iby807cmq_flt.fits'\n"
     ]
    },
    {
     "name": "stdout",
     "output_type": "stream",
     "text": [
      "derived from '/home/yuanze/hstdata/s1/iby807cmq_flt.fits'\n"
     ]
    },
    {
     "name": "stderr",
     "output_type": "stream",
     "text": [
      "INFO:drizzlepac.tweakreg:===============================================================\n"
     ]
    },
    {
     "name": "stdout",
     "output_type": "stream",
     "text": [
      "===============================================================\n"
     ]
    },
    {
     "name": "stderr",
     "output_type": "stream",
     "text": [
      "INFO:drizzlepac.tweakreg:\n"
     ]
    },
    {
     "name": "stdout",
     "output_type": "stream",
     "text": [
      "\n"
     ]
    },
    {
     "name": "stderr",
     "output_type": "stream",
     "text": [
      "INFO:drizzlepac.tweakreg:USER INPUT PARAMETERS for matching sources:\n",
      "INFO:drizzlepac.tweakreg:\tminobj :\t2\n",
      "INFO:drizzlepac.tweakreg:\tresidplot :\tboth\n",
      "INFO:drizzlepac.tweakreg:\tsearchrad :\t2.0\n",
      "INFO:drizzlepac.tweakreg:\tsearchunits :\tarcseconds\n",
      "INFO:drizzlepac.tweakreg:\tsee2dplot :\tFalse\n",
      "INFO:drizzlepac.tweakreg:\tseparation :\t0.5\n",
      "INFO:drizzlepac.tweakreg:\ttolerance :\t1.0\n",
      "INFO:drizzlepac.tweakreg:\tuse2dhist :\tTrue\n",
      "INFO:drizzlepac.tweakreg:\txoffset :\t0.0\n",
      "INFO:drizzlepac.tweakreg:\tyoffset :\t0.0\n",
      "INFO:drizzlepac.tweakreg:\n",
      "INFO:drizzlepac.tweakreg:USER INPUT PARAMETERS for fitting source lists:\n",
      "INFO:drizzlepac.tweakreg:\tfitgeometry :\tshift\n",
      "INFO:drizzlepac.tweakreg:\tlabelsize :\t8\n",
      "INFO:drizzlepac.tweakreg:\tminobj :\t2\n",
      "INFO:drizzlepac.tweakreg:\tnclip :\t3\n",
      "INFO:drizzlepac.tweakreg:\tresidplot :\tboth\n",
      "INFO:drizzlepac.tweakreg:\tsigma :\t3.0\n",
      "INFO:drizzlepac.tweakreg:\tylimit :\tNone\n",
      "INFO:drizzlepac.tweakreg:\n",
      "INFO:drizzlepac.tweakreg:USER INPUT PARAMETERS for creating a shiftfile:\n",
      "INFO:drizzlepac.tweakreg:\toutshifts :\tMY_shifts.txt\n",
      "INFO:drizzlepac.tweakreg:\toutwcs :\tshifts_wcs.fits\n",
      "INFO:drizzlepac.tweakreg:\tshiftfile :\tTrue\n",
      "INFO:drizzlepac.tweakreg:\n"
     ]
    },
    {
     "name": "stdout",
     "output_type": "stream",
     "text": [
      "\n"
     ]
    },
    {
     "name": "stderr",
     "output_type": "stream",
     "text": [
      "INFO:drizzlepac.tweakreg:====================\n"
     ]
    },
    {
     "name": "stdout",
     "output_type": "stream",
     "text": [
      "====================\n"
     ]
    },
    {
     "name": "stderr",
     "output_type": "stream",
     "text": [
      "INFO:drizzlepac.tweakreg:Performing fit for: /home/yuanze/hstdata/s1/iby807cnq_flt.fits\n"
     ]
    },
    {
     "name": "stdout",
     "output_type": "stream",
     "text": [
      "Performing fit for: /home/yuanze/hstdata/s1/iby807cnq_flt.fits\n"
     ]
    },
    {
     "name": "stderr",
     "output_type": "stream",
     "text": [
      "INFO:drizzlepac.tweakreg:\n"
     ]
    },
    {
     "name": "stdout",
     "output_type": "stream",
     "text": [
      "\n"
     ]
    },
    {
     "name": "stderr",
     "output_type": "stream",
     "text": [
      "INFO:drizzlepac.imgclasses:Matching sources from '/home/yuanze/hstdata/s1/iby807cnq_flt.fits' with sources from reference image '/home/yuanze/hstdata/s1/iby807cmq_flt.fits'\n"
     ]
    },
    {
     "name": "stdout",
     "output_type": "stream",
     "text": [
      "Matching sources from '/home/yuanze/hstdata/s1/iby807cnq_flt.fits' with sources from reference image '/home/yuanze/hstdata/s1/iby807cmq_flt.fits'\n"
     ]
    },
    {
     "name": "stderr",
     "output_type": "stream",
     "text": [
      "INFO:drizzlepac.imgclasses:Computing initial guess for X and Y shifts...\n"
     ]
    },
    {
     "name": "stdout",
     "output_type": "stream",
     "text": [
      "Computing initial guess for X and Y shifts...\n"
     ]
    },
    {
     "name": "stderr",
     "output_type": "stream",
     "text": [
      "INFO:drizzlepac.imgclasses:Found initial X and Y shifts of 0.4055, 0.4055 based on a single non-zero bin and 3 matches\n"
     ]
    },
    {
     "name": "stdout",
     "output_type": "stream",
     "text": [
      "Found initial X and Y shifts of 0.4055, 0.4055 based on a single non-zero bin and 3 matches\n"
     ]
    },
    {
     "name": "stderr",
     "output_type": "stream",
     "text": [
      "INFO:drizzlepac.imgclasses:Found 3 matches for /home/yuanze/hstdata/s1/iby807cnq_flt.fits...\n"
     ]
    },
    {
     "name": "stdout",
     "output_type": "stream",
     "text": [
      "Found 3 matches for /home/yuanze/hstdata/s1/iby807cnq_flt.fits...\n"
     ]
    },
    {
     "name": "stderr",
     "output_type": "stream",
     "text": [
      "INFO:drizzlepac.linearfit:Performing \"shift\" fit\n",
      "INFO:drizzlepac.linearfit:Performing \"shift\" fit\n",
      "INFO:drizzlepac.linearfit:Performing \"shift\" fit\n",
      "INFO:drizzlepac.linearfit:Performing \"shift\" fit\n",
      "INFO:drizzlepac.imgclasses:Computed  shift  fit for  /home/yuanze/hstdata/s1/iby807cnq_flt.fits : \n"
     ]
    },
    {
     "name": "stdout",
     "output_type": "stream",
     "text": [
      "Computed  shift  fit for  /home/yuanze/hstdata/s1/iby807cnq_flt.fits : \n"
     ]
    },
    {
     "name": "stderr",
     "output_type": "stream",
     "text": [
      "INFO:drizzlepac.imgclasses:XSH: 0.0000  YSH: 0.0000\n"
     ]
    },
    {
     "name": "stdout",
     "output_type": "stream",
     "text": [
      "XSH: 0.0000  YSH: 0.0000\n"
     ]
    },
    {
     "name": "stderr",
     "output_type": "stream",
     "text": [
      "INFO:drizzlepac.imgclasses:FIT XRMS: 0.024      FIT YRMS: 0.025  \n"
     ]
    },
    {
     "name": "stdout",
     "output_type": "stream",
     "text": [
      "FIT XRMS: 0.024      FIT YRMS: 0.025  \n"
     ]
    },
    {
     "name": "stderr",
     "output_type": "stream",
     "text": [
      "INFO:drizzlepac.imgclasses:FIT RMSE: 0.035      FIT MAE: 0.032  \n"
     ]
    },
    {
     "name": "stdout",
     "output_type": "stream",
     "text": [
      "FIT RMSE: 0.035      FIT MAE: 0.032  \n"
     ]
    },
    {
     "name": "stderr",
     "output_type": "stream",
     "text": [
      "INFO:drizzlepac.imgclasses:\n"
     ]
    },
    {
     "name": "stdout",
     "output_type": "stream",
     "text": [
      "\n"
     ]
    },
    {
     "name": "stderr",
     "output_type": "stream",
     "text": [
      "INFO:drizzlepac.imgclasses:RMS_RA: 1.3e-06 (deg)   RMS_DEC: 1.3e-07 (deg)\n"
     ]
    },
    {
     "name": "stdout",
     "output_type": "stream",
     "text": [
      "RMS_RA: 1.3e-06 (deg)   RMS_DEC: 1.3e-07 (deg)\n"
     ]
    },
    {
     "name": "stderr",
     "output_type": "stream",
     "text": [
      "INFO:drizzlepac.imgclasses:\n"
     ]
    },
    {
     "name": "stdout",
     "output_type": "stream",
     "text": [
      "\n"
     ]
    },
    {
     "name": "stderr",
     "output_type": "stream",
     "text": [
      "INFO:drizzlepac.imgclasses:Final solution based on  3  objects.\n"
     ]
    },
    {
     "name": "stdout",
     "output_type": "stream",
     "text": [
      "Final solution based on  3  objects.\n"
     ]
    },
    {
     "name": "stderr",
     "output_type": "stream",
     "text": [
      "INFO:drizzlepac.imgclasses:Creating catalog for the fit: iby807cnq_flt_catalog_fit.match\n",
      "INFO:drizzlepac.tweakutils:wrote XY data to:  iby807cnq_flt_catalog_fit.match\n"
     ]
    },
    {
     "name": "stdout",
     "output_type": "stream",
     "text": [
      "wrote XY data to:  iby807cnq_flt_catalog_fit.match\n"
     ]
    },
    {
     "name": "stderr",
     "output_type": "stream",
     "text": [
      "INFO:drizzlepac.tweakutils:Total # points: 3\n"
     ]
    },
    {
     "name": "stdout",
     "output_type": "stream",
     "text": [
      "Total # points: 3\n"
     ]
    },
    {
     "name": "stderr",
     "output_type": "stream",
     "text": [
      "INFO:drizzlepac.tweakutils:# of points after clipping: 3\n"
     ]
    },
    {
     "name": "stdout",
     "output_type": "stream",
     "text": [
      "# of points after clipping: 3\n"
     ]
    },
    {
     "name": "stderr",
     "output_type": "stream",
     "text": [
      "INFO:drizzlepac.tweakutils:Total # points: 3\n"
     ]
    },
    {
     "name": "stdout",
     "output_type": "stream",
     "text": [
      "Total # points: 3\n"
     ]
    },
    {
     "name": "stderr",
     "output_type": "stream",
     "text": [
      "INFO:drizzlepac.tweakutils:# of points after clipping: 3\n"
     ]
    },
    {
     "name": "stdout",
     "output_type": "stream",
     "text": [
      "# of points after clipping: 3\n"
     ]
    },
    {
     "name": "stderr",
     "output_type": "stream",
     "text": [
      "INFO:drizzlepac.updatehdr:\n"
     ]
    },
    {
     "name": "stdout",
     "output_type": "stream",
     "text": [
      "\n"
     ]
    },
    {
     "name": "stderr",
     "output_type": "stream",
     "text": [
      "INFO:drizzlepac.updatehdr:....Updating header for '/home/yuanze/hstdata/s1/iby807cnq_flt.fits' ...\n"
     ]
    },
    {
     "name": "stdout",
     "output_type": "stream",
     "text": [
      "....Updating header for '/home/yuanze/hstdata/s1/iby807cnq_flt.fits' ...\n"
     ]
    },
    {
     "name": "stderr",
     "output_type": "stream",
     "text": [
      "INFO:drizzlepac.updatehdr:\n"
     ]
    },
    {
     "name": "stdout",
     "output_type": "stream",
     "text": [
      "\n"
     ]
    },
    {
     "name": "stderr",
     "output_type": "stream",
     "text": [
      "INFO:drizzlepac.updatehdr:\n"
     ]
    },
    {
     "name": "stdout",
     "output_type": "stream",
     "text": [
      "\n"
     ]
    },
    {
     "name": "stderr",
     "output_type": "stream",
     "text": [
      "INFO:drizzlepac.updatehdr:Processing /home/yuanze/hstdata/s1/iby807cnq_flt.fits['SCI',1]\n"
     ]
    },
    {
     "name": "stdout",
     "output_type": "stream",
     "text": [
      "Processing /home/yuanze/hstdata/s1/iby807cnq_flt.fits['SCI',1]\n"
     ]
    },
    {
     "name": "stderr",
     "output_type": "stream",
     "text": [
      "INFO:drizzlepac.updatehdr:\n"
     ]
    },
    {
     "name": "stdout",
     "output_type": "stream",
     "text": [
      "\n"
     ]
    },
    {
     "name": "stderr",
     "output_type": "stream",
     "text": [
      "INFO:drizzlepac.updatehdr:Updating header for /home/yuanze/hstdata/s1/iby807cnq_flt.fits[1]\n"
     ]
    },
    {
     "name": "stdout",
     "output_type": "stream",
     "text": [
      "Updating header for /home/yuanze/hstdata/s1/iby807cnq_flt.fits[1]\n"
     ]
    },
    {
     "name": "stderr",
     "output_type": "stream",
     "text": [
      "INFO:drizzlepac.updatehdr:    with WCS of\n",
      "INFO:stwcs.wcsutil.hstwcs:WCS Keywords\n"
     ]
    },
    {
     "name": "stdout",
     "output_type": "stream",
     "text": [
      "WCS Keywords\n"
     ]
    },
    {
     "name": "stderr",
     "output_type": "stream",
     "text": [
      "INFO:stwcs.wcsutil.hstwcs:\n"
     ]
    },
    {
     "name": "stdout",
     "output_type": "stream",
     "text": [
      "\n"
     ]
    },
    {
     "name": "stderr",
     "output_type": "stream",
     "text": [
      "INFO:stwcs.wcsutil.hstwcs:CD_11  CD_12: -2.236107979287015e-05 -2.7124096205695035e-05\n"
     ]
    },
    {
     "name": "stdout",
     "output_type": "stream",
     "text": [
      "CD_11  CD_12: -2.236107979287015e-05 -2.7124096205695035e-05\n"
     ]
    },
    {
     "name": "stderr",
     "output_type": "stream",
     "text": [
      "INFO:stwcs.wcsutil.hstwcs:CD_21  CD_22: -3.0268417740654594e-05 1.9878284648610762e-05\n"
     ]
    },
    {
     "name": "stdout",
     "output_type": "stream",
     "text": [
      "CD_21  CD_22: -3.0268417740654594e-05 1.9878284648610762e-05\n"
     ]
    },
    {
     "name": "stderr",
     "output_type": "stream",
     "text": [
      "INFO:stwcs.wcsutil.hstwcs:CRVAL    : 13.395837289695258 12.692929150709379\n"
     ]
    },
    {
     "name": "stdout",
     "output_type": "stream",
     "text": [
      "CRVAL    : 13.395837289695258 12.692929150709379\n"
     ]
    },
    {
     "name": "stderr",
     "output_type": "stream",
     "text": [
      "INFO:stwcs.wcsutil.hstwcs:CRPIX    : 266.0 266.0\n"
     ]
    },
    {
     "name": "stdout",
     "output_type": "stream",
     "text": [
      "CRPIX    : 266.0 266.0\n"
     ]
    },
    {
     "name": "stderr",
     "output_type": "stream",
     "text": [
      "INFO:stwcs.wcsutil.hstwcs:NAXIS    : 512 512\n"
     ]
    },
    {
     "name": "stdout",
     "output_type": "stream",
     "text": [
      "NAXIS    : 512 512\n"
     ]
    },
    {
     "name": "stderr",
     "output_type": "stream",
     "text": [
      "INFO:stwcs.wcsutil.hstwcs:Plate Scale : 0.13547651908317526\n"
     ]
    },
    {
     "name": "stdout",
     "output_type": "stream",
     "text": [
      "Plate Scale : 0.13547651908317526\n"
     ]
    },
    {
     "name": "stderr",
     "output_type": "stream",
     "text": [
      "INFO:stwcs.wcsutil.hstwcs:ORIENTAT : -53.76363785473951\n"
     ]
    },
    {
     "name": "stdout",
     "output_type": "stream",
     "text": [
      "ORIENTAT : -53.76363785473951\n"
     ]
    },
    {
     "name": "stderr",
     "output_type": "stream",
     "text": [
      "INFO:drizzlepac.updatehdr:WCSNAME  :  TWEAK\n"
     ]
    },
    {
     "name": "stdout",
     "output_type": "stream",
     "text": [
      "WCSNAME  :  TWEAK\n"
     ]
    },
    {
     "name": "stderr",
     "output_type": "stream",
     "text": [
      "INFO:drizzlepac.imgclasses:Updating WCSCORR table with new WCS solution \"TWEAK\"\n",
      "INFO:drizzlepac.tweakreg:\n"
     ]
    },
    {
     "name": "stdout",
     "output_type": "stream",
     "text": [
      "\n"
     ]
    },
    {
     "name": "stderr",
     "output_type": "stream",
     "text": [
      "INFO:drizzlepac.tweakreg:====================\n"
     ]
    },
    {
     "name": "stdout",
     "output_type": "stream",
     "text": [
      "====================\n"
     ]
    },
    {
     "name": "stderr",
     "output_type": "stream",
     "text": [
      "INFO:drizzlepac.tweakreg:Performing fit for: /home/yuanze/hstdata/s1/iby807coq_flt.fits\n"
     ]
    },
    {
     "name": "stdout",
     "output_type": "stream",
     "text": [
      "Performing fit for: /home/yuanze/hstdata/s1/iby807coq_flt.fits\n"
     ]
    },
    {
     "name": "stderr",
     "output_type": "stream",
     "text": [
      "INFO:drizzlepac.tweakreg:\n"
     ]
    },
    {
     "name": "stdout",
     "output_type": "stream",
     "text": [
      "\n"
     ]
    },
    {
     "name": "stderr",
     "output_type": "stream",
     "text": [
      "INFO:drizzlepac.imgclasses:Matching sources from '/home/yuanze/hstdata/s1/iby807coq_flt.fits' with sources from reference image '/home/yuanze/hstdata/s1/iby807cmq_flt.fits'\n"
     ]
    },
    {
     "name": "stdout",
     "output_type": "stream",
     "text": [
      "Matching sources from '/home/yuanze/hstdata/s1/iby807coq_flt.fits' with sources from reference image '/home/yuanze/hstdata/s1/iby807cmq_flt.fits'\n"
     ]
    },
    {
     "name": "stderr",
     "output_type": "stream",
     "text": [
      "INFO:drizzlepac.imgclasses:Computing initial guess for X and Y shifts...\n"
     ]
    },
    {
     "name": "stdout",
     "output_type": "stream",
     "text": [
      "Computing initial guess for X and Y shifts...\n"
     ]
    },
    {
     "name": "stderr",
     "output_type": "stream",
     "text": [
      "INFO:drizzlepac.imgclasses:Found initial X and Y shifts of 0.4055, 0.4055 based on a single non-zero bin and 3 matches\n"
     ]
    },
    {
     "name": "stdout",
     "output_type": "stream",
     "text": [
      "Found initial X and Y shifts of 0.4055, 0.4055 based on a single non-zero bin and 3 matches\n"
     ]
    },
    {
     "name": "stderr",
     "output_type": "stream",
     "text": [
      "INFO:drizzlepac.imgclasses:Found 3 matches for /home/yuanze/hstdata/s1/iby807coq_flt.fits...\n"
     ]
    },
    {
     "name": "stdout",
     "output_type": "stream",
     "text": [
      "Found 3 matches for /home/yuanze/hstdata/s1/iby807coq_flt.fits...\n"
     ]
    },
    {
     "name": "stderr",
     "output_type": "stream",
     "text": [
      "INFO:drizzlepac.linearfit:Performing \"shift\" fit\n",
      "INFO:drizzlepac.linearfit:Performing \"shift\" fit\n",
      "INFO:drizzlepac.linearfit:Performing \"shift\" fit\n",
      "INFO:drizzlepac.linearfit:Performing \"shift\" fit\n",
      "INFO:drizzlepac.imgclasses:Computed  shift  fit for  /home/yuanze/hstdata/s1/iby807coq_flt.fits : \n"
     ]
    },
    {
     "name": "stdout",
     "output_type": "stream",
     "text": [
      "Computed  shift  fit for  /home/yuanze/hstdata/s1/iby807coq_flt.fits : \n"
     ]
    },
    {
     "name": "stderr",
     "output_type": "stream",
     "text": [
      "INFO:drizzlepac.imgclasses:XSH: -0.0000  YSH: -0.0000\n"
     ]
    },
    {
     "name": "stdout",
     "output_type": "stream",
     "text": [
      "XSH: -0.0000  YSH: -0.0000\n"
     ]
    },
    {
     "name": "stderr",
     "output_type": "stream",
     "text": [
      "INFO:drizzlepac.imgclasses:FIT XRMS: 0.03       FIT YRMS: 0.0053 \n"
     ]
    },
    {
     "name": "stdout",
     "output_type": "stream",
     "text": [
      "FIT XRMS: 0.03       FIT YRMS: 0.0053 \n"
     ]
    },
    {
     "name": "stderr",
     "output_type": "stream",
     "text": [
      "INFO:drizzlepac.imgclasses:FIT RMSE: 0.031      FIT MAE: 0.029  \n"
     ]
    },
    {
     "name": "stdout",
     "output_type": "stream",
     "text": [
      "FIT RMSE: 0.031      FIT MAE: 0.029  \n"
     ]
    },
    {
     "name": "stderr",
     "output_type": "stream",
     "text": [
      "INFO:drizzlepac.imgclasses:\n"
     ]
    },
    {
     "name": "stdout",
     "output_type": "stream",
     "text": [
      "\n"
     ]
    },
    {
     "name": "stderr",
     "output_type": "stream",
     "text": [
      "INFO:drizzlepac.imgclasses:RMS_RA: 8.2e-07 (deg)   RMS_DEC: 7.5e-07 (deg)\n"
     ]
    },
    {
     "name": "stdout",
     "output_type": "stream",
     "text": [
      "RMS_RA: 8.2e-07 (deg)   RMS_DEC: 7.5e-07 (deg)\n"
     ]
    },
    {
     "name": "stderr",
     "output_type": "stream",
     "text": [
      "INFO:drizzlepac.imgclasses:\n"
     ]
    },
    {
     "name": "stdout",
     "output_type": "stream",
     "text": [
      "\n"
     ]
    },
    {
     "name": "stderr",
     "output_type": "stream",
     "text": [
      "INFO:drizzlepac.imgclasses:Final solution based on  3  objects.\n"
     ]
    },
    {
     "name": "stdout",
     "output_type": "stream",
     "text": [
      "Final solution based on  3  objects.\n"
     ]
    },
    {
     "name": "stderr",
     "output_type": "stream",
     "text": [
      "INFO:drizzlepac.imgclasses:Creating catalog for the fit: iby807coq_flt_catalog_fit.match\n",
      "INFO:drizzlepac.tweakutils:wrote XY data to:  iby807coq_flt_catalog_fit.match\n"
     ]
    },
    {
     "name": "stdout",
     "output_type": "stream",
     "text": [
      "wrote XY data to:  iby807coq_flt_catalog_fit.match\n"
     ]
    },
    {
     "name": "stderr",
     "output_type": "stream",
     "text": [
      "INFO:drizzlepac.tweakutils:Total # points: 3\n"
     ]
    },
    {
     "name": "stdout",
     "output_type": "stream",
     "text": [
      "Total # points: 3\n"
     ]
    },
    {
     "name": "stderr",
     "output_type": "stream",
     "text": [
      "INFO:drizzlepac.tweakutils:# of points after clipping: 3\n"
     ]
    },
    {
     "name": "stdout",
     "output_type": "stream",
     "text": [
      "# of points after clipping: 3\n"
     ]
    },
    {
     "name": "stderr",
     "output_type": "stream",
     "text": [
      "INFO:drizzlepac.tweakutils:Total # points: 3\n"
     ]
    },
    {
     "name": "stdout",
     "output_type": "stream",
     "text": [
      "Total # points: 3\n"
     ]
    },
    {
     "name": "stderr",
     "output_type": "stream",
     "text": [
      "INFO:drizzlepac.tweakutils:# of points after clipping: 3\n"
     ]
    },
    {
     "name": "stdout",
     "output_type": "stream",
     "text": [
      "# of points after clipping: 3\n"
     ]
    },
    {
     "name": "stderr",
     "output_type": "stream",
     "text": [
      "INFO:drizzlepac.updatehdr:\n"
     ]
    },
    {
     "name": "stdout",
     "output_type": "stream",
     "text": [
      "\n"
     ]
    },
    {
     "name": "stderr",
     "output_type": "stream",
     "text": [
      "INFO:drizzlepac.updatehdr:....Updating header for '/home/yuanze/hstdata/s1/iby807coq_flt.fits' ...\n"
     ]
    },
    {
     "name": "stdout",
     "output_type": "stream",
     "text": [
      "....Updating header for '/home/yuanze/hstdata/s1/iby807coq_flt.fits' ...\n"
     ]
    },
    {
     "name": "stderr",
     "output_type": "stream",
     "text": [
      "INFO:drizzlepac.updatehdr:\n"
     ]
    },
    {
     "name": "stdout",
     "output_type": "stream",
     "text": [
      "\n"
     ]
    },
    {
     "name": "stderr",
     "output_type": "stream",
     "text": [
      "INFO:drizzlepac.updatehdr:\n"
     ]
    },
    {
     "name": "stdout",
     "output_type": "stream",
     "text": [
      "\n"
     ]
    },
    {
     "name": "stderr",
     "output_type": "stream",
     "text": [
      "INFO:drizzlepac.updatehdr:Processing /home/yuanze/hstdata/s1/iby807coq_flt.fits['SCI',1]\n"
     ]
    },
    {
     "name": "stdout",
     "output_type": "stream",
     "text": [
      "Processing /home/yuanze/hstdata/s1/iby807coq_flt.fits['SCI',1]\n"
     ]
    },
    {
     "name": "stderr",
     "output_type": "stream",
     "text": [
      "INFO:drizzlepac.updatehdr:\n"
     ]
    },
    {
     "name": "stdout",
     "output_type": "stream",
     "text": [
      "\n"
     ]
    },
    {
     "name": "stderr",
     "output_type": "stream",
     "text": [
      "INFO:drizzlepac.updatehdr:Updating header for /home/yuanze/hstdata/s1/iby807coq_flt.fits[1]\n"
     ]
    },
    {
     "name": "stdout",
     "output_type": "stream",
     "text": [
      "Updating header for /home/yuanze/hstdata/s1/iby807coq_flt.fits[1]\n"
     ]
    },
    {
     "name": "stderr",
     "output_type": "stream",
     "text": [
      "INFO:drizzlepac.updatehdr:    with WCS of\n",
      "INFO:stwcs.wcsutil.hstwcs:WCS Keywords\n"
     ]
    },
    {
     "name": "stdout",
     "output_type": "stream",
     "text": [
      "WCS Keywords\n"
     ]
    },
    {
     "name": "stderr",
     "output_type": "stream",
     "text": [
      "INFO:stwcs.wcsutil.hstwcs:\n"
     ]
    },
    {
     "name": "stdout",
     "output_type": "stream",
     "text": [
      "\n"
     ]
    },
    {
     "name": "stderr",
     "output_type": "stream",
     "text": [
      "INFO:stwcs.wcsutil.hstwcs:CD_11  CD_12: -2.239158636463422e-05 -2.711359518522335e-05\n"
     ]
    },
    {
     "name": "stdout",
     "output_type": "stream",
     "text": [
      "CD_11  CD_12: -2.239158636463422e-05 -2.711359518522335e-05\n"
     ]
    },
    {
     "name": "stderr",
     "output_type": "stream",
     "text": [
      "INFO:stwcs.wcsutil.hstwcs:CD_21  CD_22: -3.0259110021642607e-05 1.9908483181844175e-05\n"
     ]
    },
    {
     "name": "stdout",
     "output_type": "stream",
     "text": [
      "CD_21  CD_22: -3.0259110021642607e-05 1.9908483181844175e-05\n"
     ]
    },
    {
     "name": "stderr",
     "output_type": "stream",
     "text": [
      "INFO:stwcs.wcsutil.hstwcs:CRVAL    : 13.395859547412638 12.692878911078347\n"
     ]
    },
    {
     "name": "stdout",
     "output_type": "stream",
     "text": [
      "CRVAL    : 13.395859547412638 12.692878911078347\n"
     ]
    },
    {
     "name": "stderr",
     "output_type": "stream",
     "text": [
      "INFO:stwcs.wcsutil.hstwcs:CRPIX    : 266.0 266.0\n"
     ]
    },
    {
     "name": "stdout",
     "output_type": "stream",
     "text": [
      "CRPIX    : 266.0 266.0\n"
     ]
    },
    {
     "name": "stderr",
     "output_type": "stream",
     "text": [
      "INFO:stwcs.wcsutil.hstwcs:NAXIS    : 512 512\n"
     ]
    },
    {
     "name": "stdout",
     "output_type": "stream",
     "text": [
      "NAXIS    : 512 512\n"
     ]
    },
    {
     "name": "stderr",
     "output_type": "stream",
     "text": [
      "INFO:stwcs.wcsutil.hstwcs:Plate Scale : 0.13551486840248614\n"
     ]
    },
    {
     "name": "stdout",
     "output_type": "stream",
     "text": [
      "Plate Scale : 0.13551486840248614\n"
     ]
    },
    {
     "name": "stderr",
     "output_type": "stream",
     "text": [
      "INFO:stwcs.wcsutil.hstwcs:ORIENTAT : -53.711575802267625\n"
     ]
    },
    {
     "name": "stdout",
     "output_type": "stream",
     "text": [
      "ORIENTAT : -53.711575802267625\n"
     ]
    },
    {
     "name": "stderr",
     "output_type": "stream",
     "text": [
      "INFO:drizzlepac.updatehdr:WCSNAME  :  TWEAK\n"
     ]
    },
    {
     "name": "stdout",
     "output_type": "stream",
     "text": [
      "WCSNAME  :  TWEAK\n"
     ]
    },
    {
     "name": "stderr",
     "output_type": "stream",
     "text": [
      "INFO:drizzlepac.imgclasses:Updating WCSCORR table with new WCS solution \"TWEAK\"\n",
      "INFO:drizzlepac.tweakreg:\n"
     ]
    },
    {
     "name": "stdout",
     "output_type": "stream",
     "text": [
      "\n"
     ]
    },
    {
     "name": "stderr",
     "output_type": "stream",
     "text": [
      "INFO:drizzlepac.tweakreg:====================\n"
     ]
    },
    {
     "name": "stdout",
     "output_type": "stream",
     "text": [
      "====================\n"
     ]
    },
    {
     "name": "stderr",
     "output_type": "stream",
     "text": [
      "INFO:drizzlepac.tweakreg:Performing fit for: /home/yuanze/hstdata/s1/iby807cpq_flt.fits\n"
     ]
    },
    {
     "name": "stdout",
     "output_type": "stream",
     "text": [
      "Performing fit for: /home/yuanze/hstdata/s1/iby807cpq_flt.fits\n"
     ]
    },
    {
     "name": "stderr",
     "output_type": "stream",
     "text": [
      "INFO:drizzlepac.tweakreg:\n"
     ]
    },
    {
     "name": "stdout",
     "output_type": "stream",
     "text": [
      "\n"
     ]
    },
    {
     "name": "stderr",
     "output_type": "stream",
     "text": [
      "INFO:drizzlepac.imgclasses:Matching sources from '/home/yuanze/hstdata/s1/iby807cpq_flt.fits' with sources from reference image '/home/yuanze/hstdata/s1/iby807cmq_flt.fits'\n"
     ]
    },
    {
     "name": "stdout",
     "output_type": "stream",
     "text": [
      "Matching sources from '/home/yuanze/hstdata/s1/iby807cpq_flt.fits' with sources from reference image '/home/yuanze/hstdata/s1/iby807cmq_flt.fits'\n"
     ]
    },
    {
     "name": "stderr",
     "output_type": "stream",
     "text": [
      "INFO:drizzlepac.imgclasses:Computing initial guess for X and Y shifts...\n"
     ]
    },
    {
     "name": "stdout",
     "output_type": "stream",
     "text": [
      "Computing initial guess for X and Y shifts...\n"
     ]
    },
    {
     "name": "stderr",
     "output_type": "stream",
     "text": [
      "INFO:drizzlepac.imgclasses:Found initial X and Y shifts of 0.4055, 0.4055 based on a single non-zero bin and 3 matches\n"
     ]
    },
    {
     "name": "stdout",
     "output_type": "stream",
     "text": [
      "Found initial X and Y shifts of 0.4055, 0.4055 based on a single non-zero bin and 3 matches\n"
     ]
    },
    {
     "name": "stderr",
     "output_type": "stream",
     "text": [
      "INFO:drizzlepac.imgclasses:Found 3 matches for /home/yuanze/hstdata/s1/iby807cpq_flt.fits...\n"
     ]
    },
    {
     "name": "stdout",
     "output_type": "stream",
     "text": [
      "Found 3 matches for /home/yuanze/hstdata/s1/iby807cpq_flt.fits...\n"
     ]
    },
    {
     "name": "stderr",
     "output_type": "stream",
     "text": [
      "INFO:drizzlepac.linearfit:Performing \"shift\" fit\n",
      "INFO:drizzlepac.linearfit:Performing \"shift\" fit\n",
      "INFO:drizzlepac.linearfit:Performing \"shift\" fit\n",
      "INFO:drizzlepac.linearfit:Performing \"shift\" fit\n",
      "INFO:drizzlepac.imgclasses:Computed  shift  fit for  /home/yuanze/hstdata/s1/iby807cpq_flt.fits : \n"
     ]
    },
    {
     "name": "stdout",
     "output_type": "stream",
     "text": [
      "Computed  shift  fit for  /home/yuanze/hstdata/s1/iby807cpq_flt.fits : \n"
     ]
    },
    {
     "name": "stderr",
     "output_type": "stream",
     "text": [
      "INFO:drizzlepac.imgclasses:XSH: 0.0135  YSH: -0.0055\n"
     ]
    },
    {
     "name": "stdout",
     "output_type": "stream",
     "text": [
      "XSH: 0.0135  YSH: -0.0055\n"
     ]
    },
    {
     "name": "stderr",
     "output_type": "stream",
     "text": [
      "INFO:drizzlepac.imgclasses:FIT XRMS: 0.03       FIT YRMS: 0.03   \n"
     ]
    },
    {
     "name": "stdout",
     "output_type": "stream",
     "text": [
      "FIT XRMS: 0.03       FIT YRMS: 0.03   \n"
     ]
    },
    {
     "name": "stderr",
     "output_type": "stream",
     "text": [
      "INFO:drizzlepac.imgclasses:FIT RMSE: 0.042      FIT MAE: 0.042  \n"
     ]
    },
    {
     "name": "stdout",
     "output_type": "stream",
     "text": [
      "FIT RMSE: 0.042      FIT MAE: 0.042  \n"
     ]
    },
    {
     "name": "stderr",
     "output_type": "stream",
     "text": [
      "INFO:drizzlepac.imgclasses:\n"
     ]
    },
    {
     "name": "stdout",
     "output_type": "stream",
     "text": [
      "\n"
     ]
    },
    {
     "name": "stderr",
     "output_type": "stream",
     "text": [
      "INFO:drizzlepac.imgclasses:RMS_RA: 1.5e-06 (deg)   RMS_DEC: 2.1e-07 (deg)\n"
     ]
    },
    {
     "name": "stdout",
     "output_type": "stream",
     "text": [
      "RMS_RA: 1.5e-06 (deg)   RMS_DEC: 2.1e-07 (deg)\n"
     ]
    },
    {
     "name": "stderr",
     "output_type": "stream",
     "text": [
      "INFO:drizzlepac.imgclasses:\n"
     ]
    },
    {
     "name": "stdout",
     "output_type": "stream",
     "text": [
      "\n"
     ]
    },
    {
     "name": "stderr",
     "output_type": "stream",
     "text": [
      "INFO:drizzlepac.imgclasses:Final solution based on  3  objects.\n"
     ]
    },
    {
     "name": "stdout",
     "output_type": "stream",
     "text": [
      "Final solution based on  3  objects.\n"
     ]
    },
    {
     "name": "stderr",
     "output_type": "stream",
     "text": [
      "INFO:drizzlepac.imgclasses:Creating catalog for the fit: iby807cpq_flt_catalog_fit.match\n",
      "INFO:drizzlepac.tweakutils:wrote XY data to:  iby807cpq_flt_catalog_fit.match\n"
     ]
    },
    {
     "name": "stdout",
     "output_type": "stream",
     "text": [
      "wrote XY data to:  iby807cpq_flt_catalog_fit.match\n"
     ]
    },
    {
     "name": "stderr",
     "output_type": "stream",
     "text": [
      "INFO:drizzlepac.tweakutils:Total # points: 3\n"
     ]
    },
    {
     "name": "stdout",
     "output_type": "stream",
     "text": [
      "Total # points: 3\n"
     ]
    },
    {
     "name": "stderr",
     "output_type": "stream",
     "text": [
      "INFO:drizzlepac.tweakutils:# of points after clipping: 3\n"
     ]
    },
    {
     "name": "stdout",
     "output_type": "stream",
     "text": [
      "# of points after clipping: 3\n"
     ]
    },
    {
     "name": "stderr",
     "output_type": "stream",
     "text": [
      "INFO:drizzlepac.tweakutils:Total # points: 3\n"
     ]
    },
    {
     "name": "stdout",
     "output_type": "stream",
     "text": [
      "Total # points: 3\n"
     ]
    },
    {
     "name": "stderr",
     "output_type": "stream",
     "text": [
      "INFO:drizzlepac.tweakutils:# of points after clipping: 3\n"
     ]
    },
    {
     "name": "stdout",
     "output_type": "stream",
     "text": [
      "# of points after clipping: 3\n"
     ]
    },
    {
     "name": "stderr",
     "output_type": "stream",
     "text": [
      "INFO:drizzlepac.updatehdr:\n"
     ]
    },
    {
     "name": "stdout",
     "output_type": "stream",
     "text": [
      "\n"
     ]
    },
    {
     "name": "stderr",
     "output_type": "stream",
     "text": [
      "INFO:drizzlepac.updatehdr:....Updating header for '/home/yuanze/hstdata/s1/iby807cpq_flt.fits' ...\n"
     ]
    },
    {
     "name": "stdout",
     "output_type": "stream",
     "text": [
      "....Updating header for '/home/yuanze/hstdata/s1/iby807cpq_flt.fits' ...\n"
     ]
    },
    {
     "name": "stderr",
     "output_type": "stream",
     "text": [
      "INFO:drizzlepac.updatehdr:\n"
     ]
    },
    {
     "name": "stdout",
     "output_type": "stream",
     "text": [
      "\n"
     ]
    },
    {
     "name": "stderr",
     "output_type": "stream",
     "text": [
      "INFO:drizzlepac.updatehdr:\n"
     ]
    },
    {
     "name": "stdout",
     "output_type": "stream",
     "text": [
      "\n"
     ]
    },
    {
     "name": "stderr",
     "output_type": "stream",
     "text": [
      "INFO:drizzlepac.updatehdr:Processing /home/yuanze/hstdata/s1/iby807cpq_flt.fits['SCI',1]\n"
     ]
    },
    {
     "name": "stdout",
     "output_type": "stream",
     "text": [
      "Processing /home/yuanze/hstdata/s1/iby807cpq_flt.fits['SCI',1]\n"
     ]
    },
    {
     "name": "stderr",
     "output_type": "stream",
     "text": [
      "INFO:drizzlepac.updatehdr:\n"
     ]
    },
    {
     "name": "stdout",
     "output_type": "stream",
     "text": [
      "\n"
     ]
    },
    {
     "name": "stderr",
     "output_type": "stream",
     "text": [
      "INFO:drizzlepac.updatehdr:Updating header for /home/yuanze/hstdata/s1/iby807cpq_flt.fits[1]\n"
     ]
    },
    {
     "name": "stdout",
     "output_type": "stream",
     "text": [
      "Updating header for /home/yuanze/hstdata/s1/iby807cpq_flt.fits[1]\n"
     ]
    },
    {
     "name": "stderr",
     "output_type": "stream",
     "text": [
      "INFO:drizzlepac.updatehdr:    with WCS of\n",
      "INFO:stwcs.wcsutil.hstwcs:WCS Keywords\n"
     ]
    },
    {
     "name": "stdout",
     "output_type": "stream",
     "text": [
      "WCS Keywords\n"
     ]
    },
    {
     "name": "stderr",
     "output_type": "stream",
     "text": [
      "INFO:stwcs.wcsutil.hstwcs:\n"
     ]
    },
    {
     "name": "stdout",
     "output_type": "stream",
     "text": [
      "\n"
     ]
    },
    {
     "name": "stderr",
     "output_type": "stream",
     "text": [
      "INFO:stwcs.wcsutil.hstwcs:CD_11  CD_12: -2.2386088741549318e-05 -2.7127115681466257e-05\n"
     ]
    },
    {
     "name": "stdout",
     "output_type": "stream",
     "text": [
      "CD_11  CD_12: -2.2386088741549318e-05 -2.7127115681466257e-05\n"
     ]
    },
    {
     "name": "stderr",
     "output_type": "stream",
     "text": [
      "INFO:stwcs.wcsutil.hstwcs:CD_21  CD_22: -3.027148240253907e-05 1.9900373964896626e-05\n"
     ]
    },
    {
     "name": "stdout",
     "output_type": "stream",
     "text": [
      "CD_21  CD_22: -3.027148240253907e-05 1.9900373964896626e-05\n"
     ]
    },
    {
     "name": "stderr",
     "output_type": "stream",
     "text": [
      "INFO:stwcs.wcsutil.hstwcs:CRVAL    : 13.395719830751332 12.69281511785132\n"
     ]
    },
    {
     "name": "stdout",
     "output_type": "stream",
     "text": [
      "CRVAL    : 13.395719830751332 12.69281511785132\n"
     ]
    },
    {
     "name": "stderr",
     "output_type": "stream",
     "text": [
      "INFO:stwcs.wcsutil.hstwcs:CRPIX    : 266.0 266.0\n"
     ]
    },
    {
     "name": "stdout",
     "output_type": "stream",
     "text": [
      "CRPIX    : 266.0 266.0\n"
     ]
    },
    {
     "name": "stderr",
     "output_type": "stream",
     "text": [
      "INFO:stwcs.wcsutil.hstwcs:NAXIS    : 512 512\n"
     ]
    },
    {
     "name": "stdout",
     "output_type": "stream",
     "text": [
      "NAXIS    : 512 512\n"
     ]
    },
    {
     "name": "stderr",
     "output_type": "stream",
     "text": [
      "INFO:stwcs.wcsutil.hstwcs:Plate Scale : 0.13553890601077923\n"
     ]
    },
    {
     "name": "stdout",
     "output_type": "stream",
     "text": [
      "Plate Scale : 0.13553890601077923\n"
     ]
    },
    {
     "name": "stderr",
     "output_type": "stream",
     "text": [
      "INFO:stwcs.wcsutil.hstwcs:ORIENTAT : -53.736335082765514\n"
     ]
    },
    {
     "name": "stdout",
     "output_type": "stream",
     "text": [
      "ORIENTAT : -53.736335082765514\n"
     ]
    },
    {
     "name": "stderr",
     "output_type": "stream",
     "text": [
      "INFO:drizzlepac.updatehdr:WCSNAME  :  TWEAK\n"
     ]
    },
    {
     "name": "stdout",
     "output_type": "stream",
     "text": [
      "WCSNAME  :  TWEAK\n"
     ]
    },
    {
     "name": "stderr",
     "output_type": "stream",
     "text": [
      "INFO:drizzlepac.imgclasses:Updating WCSCORR table with new WCS solution \"TWEAK\"\n",
      "INFO:drizzlepac.imgclasses:\n"
     ]
    },
    {
     "name": "stdout",
     "output_type": "stream",
     "text": [
      "\n"
     ]
    },
    {
     "name": "stderr",
     "output_type": "stream",
     "text": [
      "INFO:drizzlepac.imgclasses:Processing /home/yuanze/hstdata/s1/iby807cmq_flt.fits['SCI',1]\n"
     ]
    },
    {
     "name": "stdout",
     "output_type": "stream",
     "text": [
      "Processing /home/yuanze/hstdata/s1/iby807cmq_flt.fits['SCI',1]\n"
     ]
    },
    {
     "name": "stderr",
     "output_type": "stream",
     "text": [
      "INFO:drizzlepac.imgclasses:\n"
     ]
    },
    {
     "name": "stdout",
     "output_type": "stream",
     "text": [
      "\n"
     ]
    },
    {
     "name": "stderr",
     "output_type": "stream",
     "text": [
      "INFO:drizzlepac.updatehdr:Updating header for /home/yuanze/hstdata/s1/iby807cmq_flt.fits[('SCI', 1)]\n"
     ]
    },
    {
     "name": "stdout",
     "output_type": "stream",
     "text": [
      "Updating header for /home/yuanze/hstdata/s1/iby807cmq_flt.fits[('SCI', 1)]\n"
     ]
    },
    {
     "name": "stderr",
     "output_type": "stream",
     "text": [
      "INFO:drizzlepac.updatehdr:    with WCS of\n",
      "INFO:stwcs.wcsutil.hstwcs:WCS Keywords\n"
     ]
    },
    {
     "name": "stdout",
     "output_type": "stream",
     "text": [
      "WCS Keywords\n"
     ]
    },
    {
     "name": "stderr",
     "output_type": "stream",
     "text": [
      "INFO:stwcs.wcsutil.hstwcs:\n"
     ]
    },
    {
     "name": "stdout",
     "output_type": "stream",
     "text": [
      "\n"
     ]
    },
    {
     "name": "stderr",
     "output_type": "stream",
     "text": [
      "INFO:stwcs.wcsutil.hstwcs:CD_11  CD_12: -2.2383912384262e-05 -2.7108259981844e-05\n"
     ]
    },
    {
     "name": "stdout",
     "output_type": "stream",
     "text": [
      "CD_11  CD_12: -2.2383912384262e-05 -2.7108259981844e-05\n"
     ]
    },
    {
     "name": "stderr",
     "output_type": "stream",
     "text": [
      "INFO:stwcs.wcsutil.hstwcs:CD_21  CD_22: -3.0251780192271e-05 1.9900074088643e-05\n"
     ]
    },
    {
     "name": "stdout",
     "output_type": "stream",
     "text": [
      "CD_21  CD_22: -3.0251780192271e-05 1.9900074088643e-05\n"
     ]
    },
    {
     "name": "stderr",
     "output_type": "stream",
     "text": [
      "INFO:stwcs.wcsutil.hstwcs:CRVAL    : 13.395720777571 12.692809861572\n"
     ]
    },
    {
     "name": "stdout",
     "output_type": "stream",
     "text": [
      "CRVAL    : 13.395720777571 12.692809861572\n"
     ]
    },
    {
     "name": "stderr",
     "output_type": "stream",
     "text": [
      "INFO:stwcs.wcsutil.hstwcs:CRPIX    : 266.0 266.0\n"
     ]
    },
    {
     "name": "stdout",
     "output_type": "stream",
     "text": [
      "CRPIX    : 266.0 266.0\n"
     ]
    },
    {
     "name": "stderr",
     "output_type": "stream",
     "text": [
      "INFO:stwcs.wcsutil.hstwcs:NAXIS    : 512 512\n"
     ]
    },
    {
     "name": "stdout",
     "output_type": "stream",
     "text": [
      "NAXIS    : 512 512\n"
     ]
    },
    {
     "name": "stderr",
     "output_type": "stream",
     "text": [
      "INFO:stwcs.wcsutil.hstwcs:Plate Scale : 0.13547722395304776\n"
     ]
    },
    {
     "name": "stdout",
     "output_type": "stream",
     "text": [
      "Plate Scale : 0.13547722395304776\n"
     ]
    },
    {
     "name": "stderr",
     "output_type": "stream",
     "text": [
      "INFO:stwcs.wcsutil.hstwcs:ORIENTAT : -53.71774435780359\n"
     ]
    },
    {
     "name": "stdout",
     "output_type": "stream",
     "text": [
      "ORIENTAT : -53.71774435780359\n"
     ]
    },
    {
     "name": "stderr",
     "output_type": "stream",
     "text": [
      "INFO:drizzlepac.updatehdr:WCSNAME  :  TWEAK\n"
     ]
    },
    {
     "name": "stdout",
     "output_type": "stream",
     "text": [
      "WCSNAME  :  TWEAK\n"
     ]
    },
    {
     "name": "stderr",
     "output_type": "stream",
     "text": [
      "INFO:drizzlepac.imgclasses:Updating WCSCORR table with new WCS solution \"TWEAK\"\n",
      "INFO:drizzlepac.tweakutils:Writing out shiftfile : MY_shifts.txt\n"
     ]
    },
    {
     "name": "stdout",
     "output_type": "stream",
     "text": [
      "Writing out shiftfile : MY_shifts.txt\n"
     ]
    },
    {
     "name": "stderr",
     "output_type": "stream",
     "text": [
      "INFO:drizzlepac.util:Trailer file written to:  tweakreg.log\n"
     ]
    },
    {
     "name": "stdout",
     "output_type": "stream",
     "text": [
      "Trailer file written to:  tweakreg.log\n"
     ]
    },
    {
     "data": {
      "image/png": "[encoded data removed]",
      "text/plain": [
       "<Figure size 432x288 with 1 Axes>"
      ]
     },
     "metadata": {
      "needs_background": "light"
     },
     "output_type": "display_data"
    },
    {
     "data": {
      "image/png": "[encoded data removed]",
      "text/plain": [
       "<Figure size 432x288 with 4 Axes>"
      ]
     },
     "metadata": {
      "needs_background": "light"
     },
     "output_type": "display_data"
    }
   ],
   "source": [
    "wcsname = 'MY'\n",
    "refcat = join(datapath,'{0}.cat'.format(wcsname.lower()))\n",
    "os.chdir(\"/home/yuanze/my_work/twfile\")\n",
    "tweakreg.TweakReg(inputlist,  # Pass input images\n",
    "                  updatehdr=True,  # update header with new WCS solution\n",
    "                  imagefindcfg={'threshold':200.,'conv_width':2.5,'dqbit':0},  # Detection parameters, threshold varies for different data\n",
    "                  #refcat=refcat,  # Use user supplied catalog \n",
    "                  interactive=False,\n",
    "                  see2dplot=False,\n",
    "                  #expand_refcat=True,\n",
    "                  shiftfile=True,  # Save out shift file (so we can look at shifts later)\n",
    "                  outshifts='{0}_shifts.txt'.format(wcsname),  # name of the shift file\n",
    "                  #wcsname=wcsname,  # Give our WCS a new name\n",
    "                  reusename=True,\n",
    "                  minobj=2,\n",
    "                  searchrad=2.0,\n",
    "                 fitgeometry='shift')  # Use the 6 parameter fit"
   ]
  },
  {
   "cell_type": "code",
   "execution_count": 13,
   "id": "40598b64",
   "metadata": {
    "scrolled": true
   },
   "outputs": [
    {
     "data": {
      "text/plain": [
       "Text(0.5, 1.0, 'Match: UVIS1 to SDSS(Ref)')"
      ]
     },
     "execution_count": 13,
     "metadata": {},
     "output_type": "execute_result"
    },
    {
     "data": {
      "image/png": "[encoded data removed]",
      "text/plain": [
       "<Figure size 1440x504 with 1 Axes>"
      ]
     },
     "metadata": {
      "needs_background": "light"
     },
     "output_type": "display_data"
    }
   ],
   "source": [
    "plt.figure(figsize = (20, 7))\n",
    "data = fits.open(inputlist[2])['SCI', 1].data\n",
    "zscale = ZScaleInterval()\n",
    "z1, z2 = zscale.get_limits(data)\n",
    "plt.imshow(data, cmap='Greys', origin='lower', vmin=z1, vmax=z2)\n",
    "match_tab = ascii.read('/home/yuanze/my_work/twfile/iby807cnq_flt_catalog_fit.match')  # load match file in astropy table\n",
    "x_coord, y_coord = match_tab['col11'], match_tab['col12']\n",
    "plt.scatter(x_coord, y_coord, s=30, edgecolor='r', facecolor='None')\n",
    "\n",
    "source_tab=ascii.read('/home/yuanze/my_work/twfile/iby807cnq_flt_sci1_xy_catalog.coo')\n",
    "sx, sy=source_tab['col1'],source_tab['col2']\n",
    "#plt.scatter(sx, sy, s=30, edgecolor='b', facecolor='None')\n",
    "#plt.ylim(0, 1014)\n",
    "#plt.xlim(0, 1014)\n",
    "plt.title('Match: UVIS1 to SDSS(Ref)', fontsize=20)"
   ]
  },
  {
   "cell_type": "code",
   "execution_count": 301,
   "id": "2fe75d83",
   "metadata": {
    "scrolled": true
   },
   "outputs": [
    {
     "data": {
      "text/html": [
       "<div><i>Table length=4</i>\n",
       "<table id=\"table139982656118352\" class=\"table-striped table-bordered table-condensed\">\n",
       "<thead><tr><th>file</th><th>dx</th><th>dy</th><th>rot</th><th>scale</th><th>xrms</th><th>yrms</th></tr></thead>\n",
       "<thead><tr><th>str42</th><th>float64</th><th>float64</th><th>float64</th><th>float64</th><th>float64</th><th>float64</th></tr></thead>\n",
       "<tr><td>/home/yuanze/hstdata/s1/iby807cmq_flt.fits</td><td>0.00</td><td>0.00</td><td>0.000</td><td>1.00000</td><td>0.00</td><td>0.00</td></tr>\n",
       "<tr><td>/home/yuanze/hstdata/s1/iby807cnq_flt.fits</td><td>0.00</td><td>0.00</td><td>0.000</td><td>1.00000</td><td>0.02</td><td>0.03</td></tr>\n",
       "<tr><td>/home/yuanze/hstdata/s1/iby807coq_flt.fits</td><td>-0.00</td><td>-0.00</td><td>0.000</td><td>1.00000</td><td>0.03</td><td>0.01</td></tr>\n",
       "<tr><td>/home/yuanze/hstdata/s1/iby807cpq_flt.fits</td><td>0.01</td><td>-0.01</td><td>0.000</td><td>1.00000</td><td>0.03</td><td>0.03</td></tr>\n",
       "</table></div>"
      ],
      "text/plain": [
       "<Table length=4>\n",
       "                   file                       dx      dy   ...   xrms    yrms \n",
       "                  str42                    float64 float64 ... float64 float64\n",
       "------------------------------------------ ------- ------- ... ------- -------\n",
       "/home/yuanze/hstdata/s1/iby807cmq_flt.fits    0.00    0.00 ...    0.00    0.00\n",
       "/home/yuanze/hstdata/s1/iby807cnq_flt.fits    0.00    0.00 ...    0.02    0.03\n",
       "/home/yuanze/hstdata/s1/iby807coq_flt.fits   -0.00   -0.00 ...    0.03    0.01\n",
       "/home/yuanze/hstdata/s1/iby807cpq_flt.fits    0.01   -0.01 ...    0.03    0.03"
      ]
     },
     "execution_count": 301,
     "metadata": {},
     "output_type": "execute_result"
    }
   ],
   "source": [
    "shift_table = Table.read('/home/yuanze/my_work/twfile/{0}_shifts.txt'.format(wcsname), format='ascii.no_header', \n",
    "                       names=['file', 'dx', 'dy', 'rot', 'scale', 'xrms', 'yrms'])\n",
    "formats = ['.2f', '.2f', '.3f', '.5f', '.2f', '.2f']\n",
    "for i, col in enumerate(shift_table.colnames[1:]):\n",
    "    shift_table[col].format = formats[i]\n",
    "shift_table"
   ]
  },
  {
   "cell_type": "code",
   "execution_count": 162,
   "id": "e9dabfb6",
   "metadata": {},
   "outputs": [
    {
     "name": "stderr",
     "output_type": "stream",
     "text": [
      "INFO:drizzlepac.util:Setting up logfile :  tweakreg.log\n"
     ]
    },
    {
     "name": "stdout",
     "output_type": "stream",
     "text": [
      "Setting up logfile :  tweakreg.log\n"
     ]
    },
    {
     "name": "stderr",
     "output_type": "stream",
     "text": [
      "INFO:drizzlepac.tweakreg:TweakReg Version 1.4.7(18-April-2018) started at: 13:52:54.328 (22/07/2022) \n"
     ]
    },
    {
     "name": "stdout",
     "output_type": "stream",
     "text": [
      "TweakReg Version 1.4.7(18-April-2018) started at: 13:52:54.328 (22/07/2022) \n"
     ]
    },
    {
     "name": "stderr",
     "output_type": "stream",
     "text": [
      "INFO:drizzlepac.tweakreg:\n"
     ]
    },
    {
     "name": "stdout",
     "output_type": "stream",
     "text": [
      "\n"
     ]
    },
    {
     "name": "stderr",
     "output_type": "stream",
     "text": [
      "INFO:drizzlepac.util:Version Information\n"
     ]
    },
    {
     "name": "stdout",
     "output_type": "stream",
     "text": [
      "Version Information\n"
     ]
    },
    {
     "name": "stderr",
     "output_type": "stream",
     "text": [
      "INFO:drizzlepac.util:--------------------\n"
     ]
    },
    {
     "name": "stdout",
     "output_type": "stream",
     "text": [
      "--------------------\n"
     ]
    },
    {
     "name": "stderr",
     "output_type": "stream",
     "text": [
      "INFO:drizzlepac.util:Python Version [GCC 7.5.0]\n"
     ]
    },
    {
     "name": "stdout",
     "output_type": "stream",
     "text": [
      "Python Version [GCC 7.5.0]\n"
     ]
    },
    {
     "name": "stderr",
     "output_type": "stream",
     "text": [
      "INFO:drizzlepac.util:3.7.13 (default, Mar 29 2022, 02:18:16) \n"
     ]
    },
    {
     "name": "stdout",
     "output_type": "stream",
     "text": [
      "3.7.13 (default, Mar 29 2022, 02:18:16) \n"
     ]
    },
    {
     "name": "stderr",
     "output_type": "stream",
     "text": [
      "INFO:drizzlepac.util:numpy Version -> 1.21.5 \n"
     ]
    },
    {
     "name": "stdout",
     "output_type": "stream",
     "text": [
      "numpy Version -> 1.21.5 \n"
     ]
    },
    {
     "name": "stderr",
     "output_type": "stream",
     "text": [
      "INFO:drizzlepac.util:astropy Version -> 4.3.1 \n"
     ]
    },
    {
     "name": "stdout",
     "output_type": "stream",
     "text": [
      "astropy Version -> 4.3.1 \n"
     ]
    },
    {
     "name": "stderr",
     "output_type": "stream",
     "text": [
      "INFO:drizzlepac.util:stwcs Version -> 1.6.1 \n"
     ]
    },
    {
     "name": "stdout",
     "output_type": "stream",
     "text": [
      "stwcs Version -> 1.6.1 \n"
     ]
    },
    {
     "name": "stderr",
     "output_type": "stream",
     "text": [
      "INFO:drizzlepac.tweakreg:\n",
      "INFO:drizzlepac.tweakreg:USER INPUT PARAMETERS common to all Processing Steps:\n",
      "INFO:drizzlepac.tweakreg:\tclean :\tTrue\n",
      "INFO:drizzlepac.tweakreg:\tenforce_user_order :\tTrue\n",
      "INFO:drizzlepac.tweakreg:\texclusions :\t\n",
      "INFO:drizzlepac.tweakreg:\texpand_refcat :\tFalse\n",
      "INFO:drizzlepac.tweakreg:\tinput :\t['/home/yuanze/hstdata/s1/iby807cmq_flt.fits', '/home/yuanze/hstdata/s1/iby807cnq_flt.fits', '/home/yuanze/hstdata/s1/iby807coq_flt.fits', '/home/yuanze/hstdata/s1/iby807cpq_flt.fits', '/home/yuanze/hstdata/s1/iby807cjq_flt.fits', '/home/yuanze/hstdata/s1/iby807ckq_flt.fits', '/home/yuanze/hstdata/s1/iby807clq_flt.fits']\n",
      "INFO:drizzlepac.tweakreg:\tinteractive :\tFalse\n",
      "INFO:drizzlepac.tweakreg:\trefimage :\t\n",
      "INFO:drizzlepac.tweakreg:\trunfile :\ttweakreg.log\n",
      "INFO:drizzlepac.tweakreg:\tupdatewcs :\tFalse\n",
      "INFO:drizzlepac.tweakreg:\tverbose :\tFalse\n",
      "INFO:drizzlepac.tweakreg:\twritecat :\tTrue\n",
      "INFO:drizzlepac.tweakreg:\n"
     ]
    },
    {
     "name": "stdout",
     "output_type": "stream",
     "text": [
      "\n"
     ]
    },
    {
     "name": "stderr",
     "output_type": "stream",
     "text": [
      "INFO:drizzlepac.tweakreg:Finding shifts for: \n"
     ]
    },
    {
     "name": "stdout",
     "output_type": "stream",
     "text": [
      "Finding shifts for: \n"
     ]
    },
    {
     "name": "stderr",
     "output_type": "stream",
     "text": [
      "INFO:drizzlepac.tweakreg:    /home/yuanze/hstdata/s1/iby807cmq_flt.fits\n"
     ]
    },
    {
     "name": "stdout",
     "output_type": "stream",
     "text": [
      "    /home/yuanze/hstdata/s1/iby807cmq_flt.fits\n"
     ]
    },
    {
     "name": "stderr",
     "output_type": "stream",
     "text": [
      "INFO:drizzlepac.tweakreg:    /home/yuanze/hstdata/s1/iby807cnq_flt.fits\n"
     ]
    },
    {
     "name": "stdout",
     "output_type": "stream",
     "text": [
      "    /home/yuanze/hstdata/s1/iby807cnq_flt.fits\n"
     ]
    },
    {
     "name": "stderr",
     "output_type": "stream",
     "text": [
      "INFO:drizzlepac.tweakreg:    /home/yuanze/hstdata/s1/iby807coq_flt.fits\n"
     ]
    },
    {
     "name": "stdout",
     "output_type": "stream",
     "text": [
      "    /home/yuanze/hstdata/s1/iby807coq_flt.fits\n"
     ]
    },
    {
     "name": "stderr",
     "output_type": "stream",
     "text": [
      "INFO:drizzlepac.tweakreg:    /home/yuanze/hstdata/s1/iby807cpq_flt.fits\n"
     ]
    },
    {
     "name": "stdout",
     "output_type": "stream",
     "text": [
      "    /home/yuanze/hstdata/s1/iby807cpq_flt.fits\n"
     ]
    },
    {
     "name": "stderr",
     "output_type": "stream",
     "text": [
      "INFO:drizzlepac.tweakreg:    /home/yuanze/hstdata/s1/iby807cjq_flt.fits\n"
     ]
    },
    {
     "name": "stdout",
     "output_type": "stream",
     "text": [
      "    /home/yuanze/hstdata/s1/iby807cjq_flt.fits\n"
     ]
    },
    {
     "name": "stderr",
     "output_type": "stream",
     "text": [
      "INFO:drizzlepac.tweakreg:    /home/yuanze/hstdata/s1/iby807ckq_flt.fits\n"
     ]
    },
    {
     "name": "stdout",
     "output_type": "stream",
     "text": [
      "    /home/yuanze/hstdata/s1/iby807ckq_flt.fits\n"
     ]
    },
    {
     "name": "stderr",
     "output_type": "stream",
     "text": [
      "INFO:drizzlepac.tweakreg:    /home/yuanze/hstdata/s1/iby807clq_flt.fits\n"
     ]
    },
    {
     "name": "stdout",
     "output_type": "stream",
     "text": [
      "    /home/yuanze/hstdata/s1/iby807clq_flt.fits\n"
     ]
    },
    {
     "name": "stderr",
     "output_type": "stream",
     "text": [
      "INFO:drizzlepac.tweakreg:\n"
     ]
    },
    {
     "name": "stdout",
     "output_type": "stream",
     "text": [
      "\n"
     ]
    },
    {
     "name": "stderr",
     "output_type": "stream",
     "text": [
      "INFO:drizzlepac.tweakreg:USER INPUT PARAMETERS for finding sources for each input image:\n",
      "INFO:drizzlepac.tweakreg:\tclean :\tTrue\n",
      "INFO:drizzlepac.tweakreg:\tcomputesig :\tTrue\n",
      "INFO:drizzlepac.tweakreg:\tconv_width :\t3.0\n",
      "INFO:drizzlepac.tweakreg:\tdqbit :\t0\n",
      "INFO:drizzlepac.tweakreg:\tdqbits :\t\n",
      "INFO:drizzlepac.tweakreg:\tenforce_user_order :\tTrue\n",
      "INFO:drizzlepac.tweakreg:\texpand_refcat :\tFalse\n",
      "INFO:drizzlepac.tweakreg:\tfluxmax :\tNone\n",
      "INFO:drizzlepac.tweakreg:\tfluxmin :\tNone\n",
      "INFO:drizzlepac.tweakreg:\tinput :\t['/home/yuanze/hstdata/s1/iby807cmq_flt.fits', '/home/yuanze/hstdata/s1/iby807cnq_flt.fits', '/home/yuanze/hstdata/s1/iby807coq_flt.fits', '/home/yuanze/hstdata/s1/iby807cpq_flt.fits', '/home/yuanze/hstdata/s1/iby807cjq_flt.fits', '/home/yuanze/hstdata/s1/iby807ckq_flt.fits', '/home/yuanze/hstdata/s1/iby807clq_flt.fits']\n",
      "INFO:drizzlepac.tweakreg:\tinteractive :\tFalse\n",
      "INFO:drizzlepac.tweakreg:\tnsigma :\t1.5\n",
      "INFO:drizzlepac.tweakreg:\tpeakmax :\tNone\n",
      "INFO:drizzlepac.tweakreg:\tpeakmin :\tNone\n",
      "INFO:drizzlepac.tweakreg:\tratio :\t1.0\n",
      "INFO:drizzlepac.tweakreg:\trefimage :\t\n",
      "INFO:drizzlepac.tweakreg:\troundhi :\t1.0\n",
      "INFO:drizzlepac.tweakreg:\troundlo :\t-1.0\n",
      "INFO:drizzlepac.tweakreg:\trunfile :\ttweakreg.log\n",
      "INFO:drizzlepac.tweakreg:\tsharphi :\t1.0\n",
      "INFO:drizzlepac.tweakreg:\tsharplo :\t0.2\n",
      "INFO:drizzlepac.tweakreg:\tskysigma :\t0.0\n",
      "INFO:drizzlepac.tweakreg:\ttheta :\t0.0\n",
      "INFO:drizzlepac.tweakreg:\tthreshold :\t100\n",
      "INFO:drizzlepac.tweakreg:\tupdatehdr :\tFalse\n",
      "INFO:drizzlepac.tweakreg:\tupdatewcs :\tFalse\n",
      "INFO:drizzlepac.tweakreg:\tuse_sharp_round :\tFalse\n",
      "INFO:drizzlepac.tweakreg:\tverbose :\tFalse\n",
      "INFO:drizzlepac.tweakreg:\twritecat :\tTrue\n",
      "INFO:drizzlepac.tweakreg:\txyunits :\tpixels\n",
      "INFO:drizzlepac.tweakreg:\n",
      "INFO:drizzlepac.imgclasses:===  Source finding for image '/home/yuanze/hstdata/s1/iby807cmq_flt.fits':\n"
     ]
    },
    {
     "name": "stdout",
     "output_type": "stream",
     "text": [
      "===  Source finding for image '/home/yuanze/hstdata/s1/iby807cmq_flt.fits':\n"
     ]
    },
    {
     "name": "stderr",
     "output_type": "stream",
     "text": [
      "INFO:drizzlepac.catalogs:  #  Source finding for '/home/yuanze/hstdata/s1/iby807cmq_flt.fits', EXT=('SCI', 1) started at: 13:52:54.454 (22/07/2022)\n"
     ]
    },
    {
     "name": "stdout",
     "output_type": "stream",
     "text": [
      "  #  Source finding for '/home/yuanze/hstdata/s1/iby807cmq_flt.fits', EXT=('SCI', 1) started at: 13:52:54.454 (22/07/2022)\n"
     ]
    },
    {
     "name": "stderr",
     "output_type": "stream",
     "text": [
      "INFO:drizzlepac.catalogs:   Finding sources using sky sigma = 1.182600\n",
      "INFO:drizzlepac.catalogs:###Source finding finished at: 13:52:54.470 (22/07/2022)\n",
      "INFO:drizzlepac.catalogs:     Found 4 objects.\n"
     ]
    },
    {
     "name": "stdout",
     "output_type": "stream",
     "text": [
      "     Found 4 objects.\n"
     ]
    },
    {
     "name": "stderr",
     "output_type": "stream",
     "text": [
      "INFO:drizzlepac.imgclasses:===  FINAL number of objects in image '/home/yuanze/hstdata/s1/iby807cmq_flt.fits': 4\n"
     ]
    },
    {
     "name": "stdout",
     "output_type": "stream",
     "text": [
      "===  FINAL number of objects in image '/home/yuanze/hstdata/s1/iby807cmq_flt.fits': 4\n"
     ]
    },
    {
     "name": "stderr",
     "output_type": "stream",
     "text": [
      "INFO:drizzlepac.imgclasses:\n"
     ]
    },
    {
     "name": "stdout",
     "output_type": "stream",
     "text": [
      "\n"
     ]
    },
    {
     "name": "stderr",
     "output_type": "stream",
     "text": [
      "INFO:drizzlepac.imgclasses:===  Source finding for image '/home/yuanze/hstdata/s1/iby807cnq_flt.fits':\n"
     ]
    },
    {
     "name": "stdout",
     "output_type": "stream",
     "text": [
      "===  Source finding for image '/home/yuanze/hstdata/s1/iby807cnq_flt.fits':\n"
     ]
    },
    {
     "name": "stderr",
     "output_type": "stream",
     "text": [
      "INFO:drizzlepac.catalogs:  #  Source finding for '/home/yuanze/hstdata/s1/iby807cnq_flt.fits', EXT=('SCI', 1) started at: 13:52:54.55 (22/07/2022)\n"
     ]
    },
    {
     "name": "stdout",
     "output_type": "stream",
     "text": [
      "  #  Source finding for '/home/yuanze/hstdata/s1/iby807cnq_flt.fits', EXT=('SCI', 1) started at: 13:52:54.55 (22/07/2022)\n"
     ]
    },
    {
     "name": "stderr",
     "output_type": "stream",
     "text": [
      "INFO:drizzlepac.catalogs:   Finding sources using sky sigma = 1.348211\n",
      "INFO:drizzlepac.catalogs:###Source finding finished at: 13:52:54.569 (22/07/2022)\n",
      "INFO:drizzlepac.catalogs:     Found 4 objects.\n"
     ]
    },
    {
     "name": "stdout",
     "output_type": "stream",
     "text": [
      "     Found 4 objects.\n"
     ]
    },
    {
     "name": "stderr",
     "output_type": "stream",
     "text": [
      "INFO:drizzlepac.imgclasses:===  FINAL number of objects in image '/home/yuanze/hstdata/s1/iby807cnq_flt.fits': 4\n"
     ]
    },
    {
     "name": "stdout",
     "output_type": "stream",
     "text": [
      "===  FINAL number of objects in image '/home/yuanze/hstdata/s1/iby807cnq_flt.fits': 4\n"
     ]
    },
    {
     "name": "stderr",
     "output_type": "stream",
     "text": [
      "INFO:drizzlepac.imgclasses:\n"
     ]
    },
    {
     "name": "stdout",
     "output_type": "stream",
     "text": [
      "\n"
     ]
    },
    {
     "name": "stderr",
     "output_type": "stream",
     "text": [
      "INFO:drizzlepac.imgclasses:===  Source finding for image '/home/yuanze/hstdata/s1/iby807coq_flt.fits':\n"
     ]
    },
    {
     "name": "stdout",
     "output_type": "stream",
     "text": [
      "===  Source finding for image '/home/yuanze/hstdata/s1/iby807coq_flt.fits':\n"
     ]
    },
    {
     "name": "stderr",
     "output_type": "stream",
     "text": [
      "INFO:drizzlepac.catalogs:  #  Source finding for '/home/yuanze/hstdata/s1/iby807coq_flt.fits', EXT=('SCI', 1) started at: 13:52:54.654 (22/07/2022)\n"
     ]
    },
    {
     "name": "stdout",
     "output_type": "stream",
     "text": [
      "  #  Source finding for '/home/yuanze/hstdata/s1/iby807coq_flt.fits', EXT=('SCI', 1) started at: 13:52:54.654 (22/07/2022)\n"
     ]
    },
    {
     "name": "stderr",
     "output_type": "stream",
     "text": [
      "INFO:drizzlepac.catalogs:   Finding sources using sky sigma = 1.387190\n",
      "INFO:drizzlepac.catalogs:###Source finding finished at: 13:52:54.669 (22/07/2022)\n",
      "INFO:drizzlepac.catalogs:     Found 4 objects.\n"
     ]
    },
    {
     "name": "stdout",
     "output_type": "stream",
     "text": [
      "     Found 4 objects.\n"
     ]
    },
    {
     "name": "stderr",
     "output_type": "stream",
     "text": [
      "INFO:drizzlepac.imgclasses:===  FINAL number of objects in image '/home/yuanze/hstdata/s1/iby807coq_flt.fits': 4\n"
     ]
    },
    {
     "name": "stdout",
     "output_type": "stream",
     "text": [
      "===  FINAL number of objects in image '/home/yuanze/hstdata/s1/iby807coq_flt.fits': 4\n"
     ]
    },
    {
     "name": "stderr",
     "output_type": "stream",
     "text": [
      "INFO:drizzlepac.imgclasses:\n"
     ]
    },
    {
     "name": "stdout",
     "output_type": "stream",
     "text": [
      "\n"
     ]
    },
    {
     "name": "stderr",
     "output_type": "stream",
     "text": [
      "INFO:drizzlepac.imgclasses:===  Source finding for image '/home/yuanze/hstdata/s1/iby807cpq_flt.fits':\n"
     ]
    },
    {
     "name": "stdout",
     "output_type": "stream",
     "text": [
      "===  Source finding for image '/home/yuanze/hstdata/s1/iby807cpq_flt.fits':\n"
     ]
    },
    {
     "name": "stderr",
     "output_type": "stream",
     "text": [
      "INFO:drizzlepac.catalogs:  #  Source finding for '/home/yuanze/hstdata/s1/iby807cpq_flt.fits', EXT=('SCI', 1) started at: 13:52:54.7 (22/07/2022)\n"
     ]
    },
    {
     "name": "stdout",
     "output_type": "stream",
     "text": [
      "  #  Source finding for '/home/yuanze/hstdata/s1/iby807cpq_flt.fits', EXT=('SCI', 1) started at: 13:52:54.7 (22/07/2022)\n"
     ]
    },
    {
     "name": "stderr",
     "output_type": "stream",
     "text": [
      "INFO:drizzlepac.catalogs:   Finding sources using sky sigma = 1.620377\n",
      "INFO:drizzlepac.catalogs:###Source finding finished at: 13:52:54.767 (22/07/2022)\n",
      "INFO:drizzlepac.catalogs:     Found 5 objects.\n"
     ]
    },
    {
     "name": "stdout",
     "output_type": "stream",
     "text": [
      "     Found 5 objects.\n"
     ]
    },
    {
     "name": "stderr",
     "output_type": "stream",
     "text": [
      "INFO:drizzlepac.imgclasses:===  FINAL number of objects in image '/home/yuanze/hstdata/s1/iby807cpq_flt.fits': 5\n"
     ]
    },
    {
     "name": "stdout",
     "output_type": "stream",
     "text": [
      "===  FINAL number of objects in image '/home/yuanze/hstdata/s1/iby807cpq_flt.fits': 5\n"
     ]
    },
    {
     "name": "stderr",
     "output_type": "stream",
     "text": [
      "INFO:drizzlepac.imgclasses:\n"
     ]
    },
    {
     "name": "stdout",
     "output_type": "stream",
     "text": [
      "\n"
     ]
    },
    {
     "name": "stderr",
     "output_type": "stream",
     "text": [
      "INFO:drizzlepac.imgclasses:===  Source finding for image '/home/yuanze/hstdata/s1/iby807cjq_flt.fits':\n"
     ]
    },
    {
     "name": "stdout",
     "output_type": "stream",
     "text": [
      "===  Source finding for image '/home/yuanze/hstdata/s1/iby807cjq_flt.fits':\n"
     ]
    },
    {
     "name": "stderr",
     "output_type": "stream",
     "text": [
      "INFO:drizzlepac.catalogs:  #  Source finding for '/home/yuanze/hstdata/s1/iby807cjq_flt.fits', EXT=('SCI', 1) started at: 13:52:54.87 (22/07/2022)\n"
     ]
    },
    {
     "name": "stdout",
     "output_type": "stream",
     "text": [
      "  #  Source finding for '/home/yuanze/hstdata/s1/iby807cjq_flt.fits', EXT=('SCI', 1) started at: 13:52:54.87 (22/07/2022)\n"
     ]
    },
    {
     "name": "stderr",
     "output_type": "stream",
     "text": [
      "INFO:drizzlepac.catalogs:   Finding sources using sky sigma = 2.871821\n",
      "INFO:drizzlepac.catalogs:###Source finding finished at: 13:52:54.945 (22/07/2022)\n",
      "INFO:drizzlepac.catalogs:     Found 364 objects.\n"
     ]
    },
    {
     "name": "stdout",
     "output_type": "stream",
     "text": [
      "     Found 364 objects.\n"
     ]
    },
    {
     "name": "stderr",
     "output_type": "stream",
     "text": [
      "INFO:drizzlepac.imgclasses:===  FINAL number of objects in image '/home/yuanze/hstdata/s1/iby807cjq_flt.fits': 364\n"
     ]
    },
    {
     "name": "stdout",
     "output_type": "stream",
     "text": [
      "===  FINAL number of objects in image '/home/yuanze/hstdata/s1/iby807cjq_flt.fits': 364\n"
     ]
    },
    {
     "name": "stderr",
     "output_type": "stream",
     "text": [
      "INFO:drizzlepac.imgclasses:\n"
     ]
    },
    {
     "name": "stdout",
     "output_type": "stream",
     "text": [
      "\n"
     ]
    },
    {
     "name": "stderr",
     "output_type": "stream",
     "text": [
      "INFO:drizzlepac.imgclasses:===  Source finding for image '/home/yuanze/hstdata/s1/iby807ckq_flt.fits':\n"
     ]
    },
    {
     "name": "stdout",
     "output_type": "stream",
     "text": [
      "===  Source finding for image '/home/yuanze/hstdata/s1/iby807ckq_flt.fits':\n"
     ]
    },
    {
     "name": "stderr",
     "output_type": "stream",
     "text": [
      "INFO:drizzlepac.catalogs:  #  Source finding for '/home/yuanze/hstdata/s1/iby807ckq_flt.fits', EXT=('SCI', 1) started at: 13:52:55.059 (22/07/2022)\n"
     ]
    },
    {
     "name": "stdout",
     "output_type": "stream",
     "text": [
      "  #  Source finding for '/home/yuanze/hstdata/s1/iby807ckq_flt.fits', EXT=('SCI', 1) started at: 13:52:55.059 (22/07/2022)\n"
     ]
    },
    {
     "name": "stderr",
     "output_type": "stream",
     "text": [
      "INFO:drizzlepac.catalogs:   Finding sources using sky sigma = 2.873695\n",
      "INFO:drizzlepac.catalogs:###Source finding finished at: 13:52:55.121 (22/07/2022)\n",
      "INFO:drizzlepac.catalogs:     Found 288 objects.\n"
     ]
    },
    {
     "name": "stdout",
     "output_type": "stream",
     "text": [
      "     Found 288 objects.\n"
     ]
    },
    {
     "name": "stderr",
     "output_type": "stream",
     "text": [
      "INFO:drizzlepac.imgclasses:===  FINAL number of objects in image '/home/yuanze/hstdata/s1/iby807ckq_flt.fits': 288\n"
     ]
    },
    {
     "name": "stdout",
     "output_type": "stream",
     "text": [
      "===  FINAL number of objects in image '/home/yuanze/hstdata/s1/iby807ckq_flt.fits': 288\n"
     ]
    },
    {
     "name": "stderr",
     "output_type": "stream",
     "text": [
      "INFO:drizzlepac.imgclasses:\n"
     ]
    },
    {
     "name": "stdout",
     "output_type": "stream",
     "text": [
      "\n"
     ]
    },
    {
     "name": "stderr",
     "output_type": "stream",
     "text": [
      "INFO:drizzlepac.imgclasses:===  Source finding for image '/home/yuanze/hstdata/s1/iby807clq_flt.fits':\n"
     ]
    },
    {
     "name": "stdout",
     "output_type": "stream",
     "text": [
      "===  Source finding for image '/home/yuanze/hstdata/s1/iby807clq_flt.fits':\n"
     ]
    },
    {
     "name": "stderr",
     "output_type": "stream",
     "text": [
      "INFO:drizzlepac.catalogs:  #  Source finding for '/home/yuanze/hstdata/s1/iby807clq_flt.fits', EXT=('SCI', 1) started at: 13:52:55.236 (22/07/2022)\n"
     ]
    },
    {
     "name": "stdout",
     "output_type": "stream",
     "text": [
      "  #  Source finding for '/home/yuanze/hstdata/s1/iby807clq_flt.fits', EXT=('SCI', 1) started at: 13:52:55.236 (22/07/2022)\n"
     ]
    },
    {
     "name": "stderr",
     "output_type": "stream",
     "text": [
      "INFO:drizzlepac.catalogs:   Finding sources using sky sigma = 2.878746\n",
      "INFO:drizzlepac.catalogs:###Source finding finished at: 13:52:55.305 (22/07/2022)\n",
      "INFO:drizzlepac.catalogs:     Found 347 objects.\n"
     ]
    },
    {
     "name": "stdout",
     "output_type": "stream",
     "text": [
      "     Found 347 objects.\n"
     ]
    },
    {
     "name": "stderr",
     "output_type": "stream",
     "text": [
      "INFO:drizzlepac.imgclasses:===  FINAL number of objects in image '/home/yuanze/hstdata/s1/iby807clq_flt.fits': 347\n"
     ]
    },
    {
     "name": "stdout",
     "output_type": "stream",
     "text": [
      "===  FINAL number of objects in image '/home/yuanze/hstdata/s1/iby807clq_flt.fits': 347\n"
     ]
    },
    {
     "name": "stderr",
     "output_type": "stream",
     "text": [
      "INFO:drizzlepac.imgclasses:\n"
     ]
    },
    {
     "name": "stdout",
     "output_type": "stream",
     "text": [
      "\n"
     ]
    },
    {
     "name": "stderr",
     "output_type": "stream",
     "text": [
      "INFO:drizzlepac.imgclasses:Converting RA/Dec positions of reference sources from \"/home/yuanze/hstdata/s1/iby807cmq_flt.fits\" to X,Y positions in reference WCS...\n",
      "INFO:drizzlepac.tweakreg:\n"
     ]
    },
    {
     "name": "stdout",
     "output_type": "stream",
     "text": [
      "\n"
     ]
    },
    {
     "name": "stderr",
     "output_type": "stream",
     "text": [
      "INFO:drizzlepac.tweakreg:===============================================================\n"
     ]
    },
    {
     "name": "stdout",
     "output_type": "stream",
     "text": [
      "===============================================================\n"
     ]
    },
    {
     "name": "stderr",
     "output_type": "stream",
     "text": [
      "INFO:drizzlepac.tweakreg:Performing alignment in the projection plane defined by the WCS\n"
     ]
    },
    {
     "name": "stdout",
     "output_type": "stream",
     "text": [
      "Performing alignment in the projection plane defined by the WCS\n"
     ]
    },
    {
     "name": "stderr",
     "output_type": "stream",
     "text": [
      "INFO:drizzlepac.tweakreg:derived from '/home/yuanze/hstdata/s1/iby807cmq_flt.fits'\n"
     ]
    },
    {
     "name": "stdout",
     "output_type": "stream",
     "text": [
      "derived from '/home/yuanze/hstdata/s1/iby807cmq_flt.fits'\n"
     ]
    },
    {
     "name": "stderr",
     "output_type": "stream",
     "text": [
      "INFO:drizzlepac.tweakreg:===============================================================\n"
     ]
    },
    {
     "name": "stdout",
     "output_type": "stream",
     "text": [
      "===============================================================\n"
     ]
    },
    {
     "name": "stderr",
     "output_type": "stream",
     "text": [
      "INFO:drizzlepac.tweakreg:\n"
     ]
    },
    {
     "name": "stdout",
     "output_type": "stream",
     "text": [
      "\n"
     ]
    },
    {
     "name": "stderr",
     "output_type": "stream",
     "text": [
      "INFO:drizzlepac.tweakreg:USER INPUT PARAMETERS for matching sources:\n",
      "INFO:drizzlepac.tweakreg:\tminobj :\t2\n",
      "INFO:drizzlepac.tweakreg:\tresidplot :\tboth\n",
      "INFO:drizzlepac.tweakreg:\tsearchrad :\t1.0\n",
      "INFO:drizzlepac.tweakreg:\tsearchunits :\tarcseconds\n",
      "INFO:drizzlepac.tweakreg:\tsee2dplot :\tTrue\n",
      "INFO:drizzlepac.tweakreg:\tseparation :\t0.5\n",
      "INFO:drizzlepac.tweakreg:\ttolerance :\t1.0\n",
      "INFO:drizzlepac.tweakreg:\tuse2dhist :\tTrue\n",
      "INFO:drizzlepac.tweakreg:\txoffset :\t0.0\n",
      "INFO:drizzlepac.tweakreg:\tyoffset :\t0.0\n",
      "INFO:drizzlepac.tweakreg:\n",
      "INFO:drizzlepac.tweakreg:USER INPUT PARAMETERS for fitting source lists:\n",
      "INFO:drizzlepac.tweakreg:\tfitgeometry :\tshift\n",
      "INFO:drizzlepac.tweakreg:\tlabelsize :\t8\n",
      "INFO:drizzlepac.tweakreg:\tminobj :\t2\n",
      "INFO:drizzlepac.tweakreg:\tnclip :\t3\n",
      "INFO:drizzlepac.tweakreg:\tresidplot :\tboth\n",
      "INFO:drizzlepac.tweakreg:\tsigma :\t3.0\n",
      "INFO:drizzlepac.tweakreg:\tylimit :\tNone\n",
      "INFO:drizzlepac.tweakreg:\n",
      "INFO:drizzlepac.tweakreg:USER INPUT PARAMETERS for creating a shiftfile:\n",
      "INFO:drizzlepac.tweakreg:\toutshifts :\tshiftWFC3_UVIS_flc_test1.txt\n",
      "INFO:drizzlepac.tweakreg:\toutwcs :\tshifts_wcs.fits\n",
      "INFO:drizzlepac.tweakreg:\tshiftfile :\tTrue\n",
      "INFO:drizzlepac.tweakreg:\n"
     ]
    },
    {
     "name": "stdout",
     "output_type": "stream",
     "text": [
      "\n"
     ]
    },
    {
     "name": "stderr",
     "output_type": "stream",
     "text": [
      "INFO:drizzlepac.tweakreg:====================\n"
     ]
    },
    {
     "name": "stdout",
     "output_type": "stream",
     "text": [
      "====================\n"
     ]
    },
    {
     "name": "stderr",
     "output_type": "stream",
     "text": [
      "INFO:drizzlepac.tweakreg:Performing fit for: /home/yuanze/hstdata/s1/iby807cnq_flt.fits\n"
     ]
    },
    {
     "name": "stdout",
     "output_type": "stream",
     "text": [
      "Performing fit for: /home/yuanze/hstdata/s1/iby807cnq_flt.fits\n"
     ]
    },
    {
     "name": "stderr",
     "output_type": "stream",
     "text": [
      "INFO:drizzlepac.tweakreg:\n"
     ]
    },
    {
     "name": "stdout",
     "output_type": "stream",
     "text": [
      "\n"
     ]
    },
    {
     "name": "stderr",
     "output_type": "stream",
     "text": [
      "INFO:drizzlepac.imgclasses:Matching sources from '/home/yuanze/hstdata/s1/iby807cnq_flt.fits' with sources from reference image '/home/yuanze/hstdata/s1/iby807cmq_flt.fits'\n"
     ]
    },
    {
     "name": "stdout",
     "output_type": "stream",
     "text": [
      "Matching sources from '/home/yuanze/hstdata/s1/iby807cnq_flt.fits' with sources from reference image '/home/yuanze/hstdata/s1/iby807cmq_flt.fits'\n"
     ]
    },
    {
     "name": "stderr",
     "output_type": "stream",
     "text": [
      "INFO:drizzlepac.imgclasses:Computing initial guess for X and Y shifts...\n"
     ]
    },
    {
     "name": "stdout",
     "output_type": "stream",
     "text": [
      "Computing initial guess for X and Y shifts...\n"
     ]
    },
    {
     "name": "stderr",
     "output_type": "stream",
     "text": [
      "INFO:drizzlepac.imgclasses:Found initial X and Y shifts of 0.2027, 0.2027 based on a single non-zero bin and 3 matches\n"
     ]
    },
    {
     "name": "stdout",
     "output_type": "stream",
     "text": [
      "Found initial X and Y shifts of 0.2027, 0.2027 based on a single non-zero bin and 3 matches\n"
     ]
    },
    {
     "name": "stderr",
     "output_type": "stream",
     "text": [
      "INFO:drizzlepac.imgclasses:Found 3 matches for /home/yuanze/hstdata/s1/iby807cnq_flt.fits...\n"
     ]
    },
    {
     "name": "stdout",
     "output_type": "stream",
     "text": [
      "Found 3 matches for /home/yuanze/hstdata/s1/iby807cnq_flt.fits...\n"
     ]
    },
    {
     "name": "stderr",
     "output_type": "stream",
     "text": [
      "INFO:drizzlepac.linearfit:Performing \"shift\" fit\n",
      "INFO:drizzlepac.linearfit:Performing \"shift\" fit\n",
      "INFO:drizzlepac.linearfit:Performing \"shift\" fit\n",
      "INFO:drizzlepac.linearfit:Performing \"shift\" fit\n",
      "INFO:drizzlepac.imgclasses:Computed  shift  fit for  /home/yuanze/hstdata/s1/iby807cnq_flt.fits : \n"
     ]
    },
    {
     "name": "stdout",
     "output_type": "stream",
     "text": [
      "Computed  shift  fit for  /home/yuanze/hstdata/s1/iby807cnq_flt.fits : \n"
     ]
    },
    {
     "name": "stderr",
     "output_type": "stream",
     "text": [
      "INFO:drizzlepac.imgclasses:XSH: -0.0082  YSH: -0.0005\n"
     ]
    },
    {
     "name": "stdout",
     "output_type": "stream",
     "text": [
      "XSH: -0.0082  YSH: -0.0005\n"
     ]
    },
    {
     "name": "stderr",
     "output_type": "stream",
     "text": [
      "INFO:drizzlepac.imgclasses:FIT XRMS: 0.023      FIT YRMS: 0.033  \n"
     ]
    },
    {
     "name": "stdout",
     "output_type": "stream",
     "text": [
      "FIT XRMS: 0.023      FIT YRMS: 0.033  \n"
     ]
    },
    {
     "name": "stderr",
     "output_type": "stream",
     "text": [
      "INFO:drizzlepac.imgclasses:FIT RMSE: 0.04       FIT MAE: 0.036  \n"
     ]
    },
    {
     "name": "stdout",
     "output_type": "stream",
     "text": [
      "FIT RMSE: 0.04       FIT MAE: 0.036  \n"
     ]
    },
    {
     "name": "stderr",
     "output_type": "stream",
     "text": [
      "INFO:drizzlepac.imgclasses:\n"
     ]
    },
    {
     "name": "stdout",
     "output_type": "stream",
     "text": [
      "\n"
     ]
    },
    {
     "name": "stderr",
     "output_type": "stream",
     "text": [
      "INFO:drizzlepac.imgclasses:RMS_RA: 1.5e-06 (deg)   RMS_DEC: 5.6e-08 (deg)\n"
     ]
    },
    {
     "name": "stdout",
     "output_type": "stream",
     "text": [
      "RMS_RA: 1.5e-06 (deg)   RMS_DEC: 5.6e-08 (deg)\n"
     ]
    },
    {
     "name": "stderr",
     "output_type": "stream",
     "text": [
      "INFO:drizzlepac.imgclasses:\n"
     ]
    },
    {
     "name": "stdout",
     "output_type": "stream",
     "text": [
      "\n"
     ]
    },
    {
     "name": "stderr",
     "output_type": "stream",
     "text": [
      "INFO:drizzlepac.imgclasses:Final solution based on  3  objects.\n"
     ]
    },
    {
     "name": "stdout",
     "output_type": "stream",
     "text": [
      "Final solution based on  3  objects.\n"
     ]
    },
    {
     "name": "stderr",
     "output_type": "stream",
     "text": [
      "INFO:drizzlepac.imgclasses:Creating catalog for the fit: iby807cnq_flt_catalog_fit.match\n",
      "INFO:drizzlepac.tweakutils:wrote XY data to:  iby807cnq_flt_catalog_fit.match\n"
     ]
    },
    {
     "name": "stdout",
     "output_type": "stream",
     "text": [
      "wrote XY data to:  iby807cnq_flt_catalog_fit.match\n"
     ]
    },
    {
     "name": "stderr",
     "output_type": "stream",
     "text": [
      "INFO:drizzlepac.tweakutils:Total # points: 3\n"
     ]
    },
    {
     "name": "stdout",
     "output_type": "stream",
     "text": [
      "Total # points: 3\n"
     ]
    },
    {
     "name": "stderr",
     "output_type": "stream",
     "text": [
      "INFO:drizzlepac.tweakutils:# of points after clipping: 3\n"
     ]
    },
    {
     "name": "stdout",
     "output_type": "stream",
     "text": [
      "# of points after clipping: 3\n"
     ]
    },
    {
     "name": "stderr",
     "output_type": "stream",
     "text": [
      "INFO:drizzlepac.tweakutils:Total # points: 3\n"
     ]
    },
    {
     "name": "stdout",
     "output_type": "stream",
     "text": [
      "Total # points: 3\n"
     ]
    },
    {
     "name": "stderr",
     "output_type": "stream",
     "text": [
      "INFO:drizzlepac.tweakutils:# of points after clipping: 3\n"
     ]
    },
    {
     "name": "stdout",
     "output_type": "stream",
     "text": [
      "# of points after clipping: 3\n"
     ]
    },
    {
     "name": "stderr",
     "output_type": "stream",
     "text": [
      "INFO:drizzlepac.updatehdr:....Updating header for '/home/yuanze/hstdata/s1/iby807cnq_flt.fits' ...\n",
      "INFO:drizzlepac.updatehdr:Processing /home/yuanze/hstdata/s1/iby807cnq_flt.fits['SCI',1]\n",
      "INFO:drizzlepac.updatehdr:Updating header for /home/yuanze/hstdata/s1/iby807cnq_flt.fits[1]\n",
      "INFO:drizzlepac.imgclasses:Deleting intermediate match file: iby807cnq_flt_xy_catalog.match\n",
      "INFO:drizzlepac.imgclasses:Deleting intermediate match file: iby807cnq_flt_catalog_fit.match\n",
      "INFO:drizzlepac.tweakreg:\n"
     ]
    },
    {
     "name": "stdout",
     "output_type": "stream",
     "text": [
      "\n"
     ]
    },
    {
     "name": "stderr",
     "output_type": "stream",
     "text": [
      "INFO:drizzlepac.tweakreg:====================\n"
     ]
    },
    {
     "name": "stdout",
     "output_type": "stream",
     "text": [
      "====================\n"
     ]
    },
    {
     "name": "stderr",
     "output_type": "stream",
     "text": [
      "INFO:drizzlepac.tweakreg:Performing fit for: /home/yuanze/hstdata/s1/iby807coq_flt.fits\n"
     ]
    },
    {
     "name": "stdout",
     "output_type": "stream",
     "text": [
      "Performing fit for: /home/yuanze/hstdata/s1/iby807coq_flt.fits\n"
     ]
    },
    {
     "name": "stderr",
     "output_type": "stream",
     "text": [
      "INFO:drizzlepac.tweakreg:\n"
     ]
    },
    {
     "name": "stdout",
     "output_type": "stream",
     "text": [
      "\n"
     ]
    },
    {
     "name": "stderr",
     "output_type": "stream",
     "text": [
      "INFO:drizzlepac.imgclasses:Matching sources from '/home/yuanze/hstdata/s1/iby807coq_flt.fits' with sources from reference image '/home/yuanze/hstdata/s1/iby807cmq_flt.fits'\n"
     ]
    },
    {
     "name": "stdout",
     "output_type": "stream",
     "text": [
      "Matching sources from '/home/yuanze/hstdata/s1/iby807coq_flt.fits' with sources from reference image '/home/yuanze/hstdata/s1/iby807cmq_flt.fits'\n"
     ]
    },
    {
     "name": "stderr",
     "output_type": "stream",
     "text": [
      "INFO:drizzlepac.imgclasses:Computing initial guess for X and Y shifts...\n"
     ]
    },
    {
     "name": "stdout",
     "output_type": "stream",
     "text": [
      "Computing initial guess for X and Y shifts...\n"
     ]
    },
    {
     "name": "stderr",
     "output_type": "stream",
     "text": [
      "INFO:drizzlepac.imgclasses:Found initial X and Y shifts of 0.2027, 0.2027 based on a single non-zero bin and 3 matches\n"
     ]
    },
    {
     "name": "stdout",
     "output_type": "stream",
     "text": [
      "Found initial X and Y shifts of 0.2027, 0.2027 based on a single non-zero bin and 3 matches\n"
     ]
    },
    {
     "name": "stderr",
     "output_type": "stream",
     "text": [
      "INFO:drizzlepac.imgclasses:Found 3 matches for /home/yuanze/hstdata/s1/iby807coq_flt.fits...\n"
     ]
    },
    {
     "name": "stdout",
     "output_type": "stream",
     "text": [
      "Found 3 matches for /home/yuanze/hstdata/s1/iby807coq_flt.fits...\n"
     ]
    },
    {
     "name": "stderr",
     "output_type": "stream",
     "text": [
      "INFO:drizzlepac.linearfit:Performing \"shift\" fit\n",
      "INFO:drizzlepac.linearfit:Performing \"shift\" fit\n",
      "INFO:drizzlepac.linearfit:Performing \"shift\" fit\n",
      "INFO:drizzlepac.linearfit:Performing \"shift\" fit\n",
      "INFO:drizzlepac.imgclasses:Computed  shift  fit for  /home/yuanze/hstdata/s1/iby807coq_flt.fits : \n"
     ]
    },
    {
     "name": "stdout",
     "output_type": "stream",
     "text": [
      "Computed  shift  fit for  /home/yuanze/hstdata/s1/iby807coq_flt.fits : \n"
     ]
    },
    {
     "name": "stderr",
     "output_type": "stream",
     "text": [
      "INFO:drizzlepac.imgclasses:XSH: -0.0087  YSH: 0.0001\n"
     ]
    },
    {
     "name": "stdout",
     "output_type": "stream",
     "text": [
      "XSH: -0.0087  YSH: 0.0001\n"
     ]
    },
    {
     "name": "stderr",
     "output_type": "stream",
     "text": [
      "INFO:drizzlepac.imgclasses:FIT XRMS: 0.039      FIT YRMS: 0.0056 \n"
     ]
    },
    {
     "name": "stdout",
     "output_type": "stream",
     "text": [
      "FIT XRMS: 0.039      FIT YRMS: 0.0056 \n"
     ]
    },
    {
     "name": "stderr",
     "output_type": "stream",
     "text": [
      "INFO:drizzlepac.imgclasses:FIT RMSE: 0.039      FIT MAE: 0.035  \n"
     ]
    },
    {
     "name": "stdout",
     "output_type": "stream",
     "text": [
      "FIT RMSE: 0.039      FIT MAE: 0.035  \n"
     ]
    },
    {
     "name": "stderr",
     "output_type": "stream",
     "text": [
      "INFO:drizzlepac.imgclasses:\n"
     ]
    },
    {
     "name": "stdout",
     "output_type": "stream",
     "text": [
      "\n"
     ]
    },
    {
     "name": "stderr",
     "output_type": "stream",
     "text": [
      "INFO:drizzlepac.imgclasses:RMS_RA: 1e-06 (deg)   RMS_DEC: 9.8e-07 (deg)\n"
     ]
    },
    {
     "name": "stdout",
     "output_type": "stream",
     "text": [
      "RMS_RA: 1e-06 (deg)   RMS_DEC: 9.8e-07 (deg)\n"
     ]
    },
    {
     "name": "stderr",
     "output_type": "stream",
     "text": [
      "INFO:drizzlepac.imgclasses:\n"
     ]
    },
    {
     "name": "stdout",
     "output_type": "stream",
     "text": [
      "\n"
     ]
    },
    {
     "name": "stderr",
     "output_type": "stream",
     "text": [
      "INFO:drizzlepac.imgclasses:Final solution based on  3  objects.\n"
     ]
    },
    {
     "name": "stdout",
     "output_type": "stream",
     "text": [
      "Final solution based on  3  objects.\n"
     ]
    },
    {
     "name": "stderr",
     "output_type": "stream",
     "text": [
      "INFO:drizzlepac.imgclasses:Creating catalog for the fit: iby807coq_flt_catalog_fit.match\n",
      "INFO:drizzlepac.tweakutils:wrote XY data to:  iby807coq_flt_catalog_fit.match\n"
     ]
    },
    {
     "name": "stdout",
     "output_type": "stream",
     "text": [
      "wrote XY data to:  iby807coq_flt_catalog_fit.match\n"
     ]
    },
    {
     "name": "stderr",
     "output_type": "stream",
     "text": [
      "INFO:drizzlepac.tweakutils:Total # points: 3\n"
     ]
    },
    {
     "name": "stdout",
     "output_type": "stream",
     "text": [
      "Total # points: 3\n"
     ]
    },
    {
     "name": "stderr",
     "output_type": "stream",
     "text": [
      "INFO:drizzlepac.tweakutils:# of points after clipping: 3\n"
     ]
    },
    {
     "name": "stdout",
     "output_type": "stream",
     "text": [
      "# of points after clipping: 3\n"
     ]
    },
    {
     "name": "stderr",
     "output_type": "stream",
     "text": [
      "INFO:drizzlepac.tweakutils:Total # points: 3\n"
     ]
    },
    {
     "name": "stdout",
     "output_type": "stream",
     "text": [
      "Total # points: 3\n"
     ]
    },
    {
     "name": "stderr",
     "output_type": "stream",
     "text": [
      "INFO:drizzlepac.tweakutils:# of points after clipping: 3\n"
     ]
    },
    {
     "name": "stdout",
     "output_type": "stream",
     "text": [
      "# of points after clipping: 3\n"
     ]
    },
    {
     "name": "stderr",
     "output_type": "stream",
     "text": [
      "INFO:drizzlepac.updatehdr:....Updating header for '/home/yuanze/hstdata/s1/iby807coq_flt.fits' ...\n",
      "INFO:drizzlepac.updatehdr:Processing /home/yuanze/hstdata/s1/iby807coq_flt.fits['SCI',1]\n",
      "INFO:drizzlepac.updatehdr:Updating header for /home/yuanze/hstdata/s1/iby807coq_flt.fits[1]\n",
      "INFO:drizzlepac.imgclasses:Deleting intermediate match file: iby807coq_flt_xy_catalog.match\n",
      "INFO:drizzlepac.imgclasses:Deleting intermediate match file: iby807coq_flt_catalog_fit.match\n",
      "INFO:drizzlepac.tweakreg:\n"
     ]
    },
    {
     "name": "stdout",
     "output_type": "stream",
     "text": [
      "\n"
     ]
    },
    {
     "name": "stderr",
     "output_type": "stream",
     "text": [
      "INFO:drizzlepac.tweakreg:====================\n"
     ]
    },
    {
     "name": "stdout",
     "output_type": "stream",
     "text": [
      "====================\n"
     ]
    },
    {
     "name": "stderr",
     "output_type": "stream",
     "text": [
      "INFO:drizzlepac.tweakreg:Performing fit for: /home/yuanze/hstdata/s1/iby807cpq_flt.fits\n"
     ]
    },
    {
     "name": "stdout",
     "output_type": "stream",
     "text": [
      "Performing fit for: /home/yuanze/hstdata/s1/iby807cpq_flt.fits\n"
     ]
    },
    {
     "name": "stderr",
     "output_type": "stream",
     "text": [
      "INFO:drizzlepac.tweakreg:\n"
     ]
    },
    {
     "name": "stdout",
     "output_type": "stream",
     "text": [
      "\n"
     ]
    },
    {
     "name": "stderr",
     "output_type": "stream",
     "text": [
      "INFO:drizzlepac.imgclasses:Matching sources from '/home/yuanze/hstdata/s1/iby807cpq_flt.fits' with sources from reference image '/home/yuanze/hstdata/s1/iby807cmq_flt.fits'\n"
     ]
    },
    {
     "name": "stdout",
     "output_type": "stream",
     "text": [
      "Matching sources from '/home/yuanze/hstdata/s1/iby807cpq_flt.fits' with sources from reference image '/home/yuanze/hstdata/s1/iby807cmq_flt.fits'\n"
     ]
    },
    {
     "name": "stderr",
     "output_type": "stream",
     "text": [
      "INFO:drizzlepac.imgclasses:Computing initial guess for X and Y shifts...\n"
     ]
    },
    {
     "name": "stdout",
     "output_type": "stream",
     "text": [
      "Computing initial guess for X and Y shifts...\n"
     ]
    },
    {
     "name": "stderr",
     "output_type": "stream",
     "text": [
      "INFO:drizzlepac.imgclasses:Found initial X and Y shifts of 0.2027, 0.2027 based on a single non-zero bin and 4 matches\n"
     ]
    },
    {
     "name": "stdout",
     "output_type": "stream",
     "text": [
      "Found initial X and Y shifts of 0.2027, 0.2027 based on a single non-zero bin and 4 matches\n"
     ]
    },
    {
     "name": "stderr",
     "output_type": "stream",
     "text": [
      "INFO:drizzlepac.imgclasses:Found 4 matches for /home/yuanze/hstdata/s1/iby807cpq_flt.fits...\n"
     ]
    },
    {
     "name": "stdout",
     "output_type": "stream",
     "text": [
      "Found 4 matches for /home/yuanze/hstdata/s1/iby807cpq_flt.fits...\n"
     ]
    },
    {
     "name": "stderr",
     "output_type": "stream",
     "text": [
      "INFO:drizzlepac.linearfit:Performing \"shift\" fit\n",
      "INFO:drizzlepac.linearfit:Performing \"shift\" fit\n",
      "INFO:drizzlepac.linearfit:Performing \"shift\" fit\n",
      "INFO:drizzlepac.linearfit:Performing \"shift\" fit\n",
      "INFO:drizzlepac.imgclasses:Computed  shift  fit for  /home/yuanze/hstdata/s1/iby807cpq_flt.fits : \n"
     ]
    },
    {
     "name": "stdout",
     "output_type": "stream",
     "text": [
      "Computed  shift  fit for  /home/yuanze/hstdata/s1/iby807cpq_flt.fits : \n"
     ]
    },
    {
     "name": "stderr",
     "output_type": "stream",
     "text": [
      "INFO:drizzlepac.imgclasses:XSH: -0.0012  YSH: 0.0020\n"
     ]
    },
    {
     "name": "stdout",
     "output_type": "stream",
     "text": [
      "XSH: -0.0012  YSH: 0.0020\n"
     ]
    },
    {
     "name": "stderr",
     "output_type": "stream",
     "text": [
      "INFO:drizzlepac.imgclasses:FIT XRMS: 0.035      FIT YRMS: 0.026  \n"
     ]
    },
    {
     "name": "stdout",
     "output_type": "stream",
     "text": [
      "FIT XRMS: 0.035      FIT YRMS: 0.026  \n"
     ]
    },
    {
     "name": "stderr",
     "output_type": "stream",
     "text": [
      "INFO:drizzlepac.imgclasses:FIT RMSE: 0.043      FIT MAE: 0.043  \n"
     ]
    },
    {
     "name": "stdout",
     "output_type": "stream",
     "text": [
      "FIT RMSE: 0.043      FIT MAE: 0.043  \n"
     ]
    },
    {
     "name": "stderr",
     "output_type": "stream",
     "text": [
      "INFO:drizzlepac.imgclasses:\n"
     ]
    },
    {
     "name": "stdout",
     "output_type": "stream",
     "text": [
      "\n"
     ]
    },
    {
     "name": "stderr",
     "output_type": "stream",
     "text": [
      "INFO:drizzlepac.imgclasses:RMS_RA: 1.5e-06 (deg)   RMS_DEC: 4.4e-07 (deg)\n"
     ]
    },
    {
     "name": "stdout",
     "output_type": "stream",
     "text": [
      "RMS_RA: 1.5e-06 (deg)   RMS_DEC: 4.4e-07 (deg)\n"
     ]
    },
    {
     "name": "stderr",
     "output_type": "stream",
     "text": [
      "INFO:drizzlepac.imgclasses:\n"
     ]
    },
    {
     "name": "stdout",
     "output_type": "stream",
     "text": [
      "\n"
     ]
    },
    {
     "name": "stderr",
     "output_type": "stream",
     "text": [
      "INFO:drizzlepac.imgclasses:Final solution based on  4  objects.\n"
     ]
    },
    {
     "name": "stdout",
     "output_type": "stream",
     "text": [
      "Final solution based on  4  objects.\n"
     ]
    },
    {
     "name": "stderr",
     "output_type": "stream",
     "text": [
      "INFO:drizzlepac.imgclasses:Creating catalog for the fit: iby807cpq_flt_catalog_fit.match\n",
      "INFO:drizzlepac.tweakutils:wrote XY data to:  iby807cpq_flt_catalog_fit.match\n"
     ]
    },
    {
     "name": "stdout",
     "output_type": "stream",
     "text": [
      "wrote XY data to:  iby807cpq_flt_catalog_fit.match\n"
     ]
    },
    {
     "name": "stderr",
     "output_type": "stream",
     "text": [
      "INFO:drizzlepac.tweakutils:Total # points: 4\n"
     ]
    },
    {
     "name": "stdout",
     "output_type": "stream",
     "text": [
      "Total # points: 4\n"
     ]
    },
    {
     "name": "stderr",
     "output_type": "stream",
     "text": [
      "INFO:drizzlepac.tweakutils:# of points after clipping: 4\n"
     ]
    },
    {
     "name": "stdout",
     "output_type": "stream",
     "text": [
      "# of points after clipping: 4\n"
     ]
    },
    {
     "name": "stderr",
     "output_type": "stream",
     "text": [
      "INFO:drizzlepac.tweakutils:Total # points: 4\n"
     ]
    },
    {
     "name": "stdout",
     "output_type": "stream",
     "text": [
      "Total # points: 4\n"
     ]
    },
    {
     "name": "stderr",
     "output_type": "stream",
     "text": [
      "INFO:drizzlepac.tweakutils:# of points after clipping: 4\n"
     ]
    },
    {
     "name": "stdout",
     "output_type": "stream",
     "text": [
      "# of points after clipping: 4\n"
     ]
    },
    {
     "name": "stderr",
     "output_type": "stream",
     "text": [
      "INFO:drizzlepac.updatehdr:....Updating header for '/home/yuanze/hstdata/s1/iby807cpq_flt.fits' ...\n",
      "INFO:drizzlepac.updatehdr:Processing /home/yuanze/hstdata/s1/iby807cpq_flt.fits['SCI',1]\n",
      "INFO:drizzlepac.updatehdr:Updating header for /home/yuanze/hstdata/s1/iby807cpq_flt.fits[1]\n",
      "INFO:drizzlepac.imgclasses:Deleting intermediate match file: iby807cpq_flt_xy_catalog.match\n",
      "INFO:drizzlepac.imgclasses:Deleting intermediate match file: iby807cpq_flt_catalog_fit.match\n",
      "INFO:drizzlepac.tweakreg:\n"
     ]
    },
    {
     "name": "stdout",
     "output_type": "stream",
     "text": [
      "\n"
     ]
    },
    {
     "name": "stderr",
     "output_type": "stream",
     "text": [
      "INFO:drizzlepac.tweakreg:====================\n"
     ]
    },
    {
     "name": "stdout",
     "output_type": "stream",
     "text": [
      "====================\n"
     ]
    },
    {
     "name": "stderr",
     "output_type": "stream",
     "text": [
      "INFO:drizzlepac.tweakreg:Performing fit for: /home/yuanze/hstdata/s1/iby807cjq_flt.fits\n"
     ]
    },
    {
     "name": "stdout",
     "output_type": "stream",
     "text": [
      "Performing fit for: /home/yuanze/hstdata/s1/iby807cjq_flt.fits\n"
     ]
    },
    {
     "name": "stderr",
     "output_type": "stream",
     "text": [
      "INFO:drizzlepac.tweakreg:\n"
     ]
    },
    {
     "name": "stdout",
     "output_type": "stream",
     "text": [
      "\n"
     ]
    },
    {
     "name": "stderr",
     "output_type": "stream",
     "text": [
      "INFO:drizzlepac.imgclasses:Matching sources from '/home/yuanze/hstdata/s1/iby807cjq_flt.fits' with sources from reference image '/home/yuanze/hstdata/s1/iby807cmq_flt.fits'\n"
     ]
    },
    {
     "name": "stdout",
     "output_type": "stream",
     "text": [
      "Matching sources from '/home/yuanze/hstdata/s1/iby807cjq_flt.fits' with sources from reference image '/home/yuanze/hstdata/s1/iby807cmq_flt.fits'\n"
     ]
    },
    {
     "name": "stderr",
     "output_type": "stream",
     "text": [
      "INFO:drizzlepac.imgclasses:Computing initial guess for X and Y shifts...\n"
     ]
    },
    {
     "name": "stdout",
     "output_type": "stream",
     "text": [
      "Computing initial guess for X and Y shifts...\n"
     ]
    },
    {
     "name": "stderr",
     "output_type": "stream",
     "text": [
      "INFO:drizzlepac.imgclasses:Found initial X and Y shifts of -3.797, 6.203 based on a single non-zero bin and 1 matches\n"
     ]
    },
    {
     "name": "stdout",
     "output_type": "stream",
     "text": [
      "Found initial X and Y shifts of -3.797, 6.203 based on a single non-zero bin and 1 matches\n"
     ]
    },
    {
     "name": "stderr",
     "output_type": "stream",
     "text": [
      "WARNING:drizzlepac.imgclasses:##############################################################################\n",
      "WARNING:drizzlepac.imgclasses:#                                                                            #\n",
      "WARNING:drizzlepac.imgclasses:# WARNING:                                                                   #\n",
      "WARNING:drizzlepac.imgclasses:# Not enough matches (< 2) found for input image:                            #\n",
      "WARNING:drizzlepac.imgclasses:# /home/yuanze/hstdata/s1/iby807cjq_flt.fits                                 #\n",
      "WARNING:drizzlepac.imgclasses:#                                                                            #\n",
      "WARNING:drizzlepac.imgclasses:##############################################################################\n",
      "INFO:drizzlepac.imgclasses:##############################################################################\n"
     ]
    },
    {
     "name": "stdout",
     "output_type": "stream",
     "text": [
      "##############################################################################\n"
     ]
    },
    {
     "name": "stderr",
     "output_type": "stream",
     "text": [
      "INFO:drizzlepac.imgclasses:#                                                                            #\n"
     ]
    },
    {
     "name": "stdout",
     "output_type": "stream",
     "text": [
      "#                                                                            #\n"
     ]
    },
    {
     "name": "stderr",
     "output_type": "stream",
     "text": [
      "INFO:drizzlepac.imgclasses:# WARNING:                                                                   #\n"
     ]
    },
    {
     "name": "stdout",
     "output_type": "stream",
     "text": [
      "# WARNING:                                                                   #\n"
     ]
    },
    {
     "name": "stderr",
     "output_type": "stream",
     "text": [
      "INFO:drizzlepac.imgclasses:# Not enough matches (< 2) found for input image:                            #\n"
     ]
    },
    {
     "name": "stdout",
     "output_type": "stream",
     "text": [
      "# Not enough matches (< 2) found for input image:                            #\n"
     ]
    },
    {
     "name": "stderr",
     "output_type": "stream",
     "text": [
      "INFO:drizzlepac.imgclasses:# /home/yuanze/hstdata/s1/iby807cjq_flt.fits                                 #\n"
     ]
    },
    {
     "name": "stdout",
     "output_type": "stream",
     "text": [
      "# /home/yuanze/hstdata/s1/iby807cjq_flt.fits                                 #\n"
     ]
    },
    {
     "name": "stderr",
     "output_type": "stream",
     "text": [
      "INFO:drizzlepac.imgclasses:#                                                                            #\n"
     ]
    },
    {
     "name": "stdout",
     "output_type": "stream",
     "text": [
      "#                                                                            #\n"
     ]
    },
    {
     "name": "stderr",
     "output_type": "stream",
     "text": [
      "INFO:drizzlepac.imgclasses:##############################################################################\n"
     ]
    },
    {
     "name": "stdout",
     "output_type": "stream",
     "text": [
      "##############################################################################\n"
     ]
    },
    {
     "name": "stderr",
     "output_type": "stream",
     "text": [
      "INFO:drizzlepac.tweakreg:\n"
     ]
    },
    {
     "name": "stdout",
     "output_type": "stream",
     "text": [
      "\n"
     ]
    },
    {
     "name": "stderr",
     "output_type": "stream",
     "text": [
      "INFO:drizzlepac.tweakreg:====================\n"
     ]
    },
    {
     "name": "stdout",
     "output_type": "stream",
     "text": [
      "====================\n"
     ]
    },
    {
     "name": "stderr",
     "output_type": "stream",
     "text": [
      "INFO:drizzlepac.tweakreg:Performing fit for: /home/yuanze/hstdata/s1/iby807ckq_flt.fits\n"
     ]
    },
    {
     "name": "stdout",
     "output_type": "stream",
     "text": [
      "Performing fit for: /home/yuanze/hstdata/s1/iby807ckq_flt.fits\n"
     ]
    },
    {
     "name": "stderr",
     "output_type": "stream",
     "text": [
      "INFO:drizzlepac.tweakreg:\n"
     ]
    },
    {
     "name": "stdout",
     "output_type": "stream",
     "text": [
      "\n"
     ]
    },
    {
     "name": "stderr",
     "output_type": "stream",
     "text": [
      "INFO:drizzlepac.imgclasses:Matching sources from '/home/yuanze/hstdata/s1/iby807ckq_flt.fits' with sources from reference image '/home/yuanze/hstdata/s1/iby807cmq_flt.fits'\n"
     ]
    },
    {
     "name": "stdout",
     "output_type": "stream",
     "text": [
      "Matching sources from '/home/yuanze/hstdata/s1/iby807ckq_flt.fits' with sources from reference image '/home/yuanze/hstdata/s1/iby807cmq_flt.fits'\n"
     ]
    },
    {
     "name": "stderr",
     "output_type": "stream",
     "text": [
      "INFO:drizzlepac.imgclasses:Computing initial guess for X and Y shifts...\n"
     ]
    },
    {
     "name": "stdout",
     "output_type": "stream",
     "text": [
      "Computing initial guess for X and Y shifts...\n"
     ]
    },
    {
     "name": "stderr",
     "output_type": "stream",
     "text": [
      "INFO:drizzlepac.imgclasses:WARNING: No matches found within a search radius of 7.79727 pixels.\n"
     ]
    },
    {
     "name": "stdout",
     "output_type": "stream",
     "text": [
      "WARNING: No matches found within a search radius of 7.79727 pixels.\n"
     ]
    },
    {
     "name": "stderr",
     "output_type": "stream",
     "text": [
      "WARNING:drizzlepac.imgclasses:##############################################################################\n",
      "WARNING:drizzlepac.imgclasses:#                                                                            #\n",
      "WARNING:drizzlepac.imgclasses:# WARNING:                                                                   #\n",
      "WARNING:drizzlepac.imgclasses:# Not enough matches (< 2) found for input image:                            #\n",
      "WARNING:drizzlepac.imgclasses:# /home/yuanze/hstdata/s1/iby807ckq_flt.fits                                 #\n",
      "WARNING:drizzlepac.imgclasses:#                                                                            #\n",
      "WARNING:drizzlepac.imgclasses:##############################################################################\n",
      "INFO:drizzlepac.imgclasses:##############################################################################\n"
     ]
    },
    {
     "name": "stdout",
     "output_type": "stream",
     "text": [
      "##############################################################################\n"
     ]
    },
    {
     "name": "stderr",
     "output_type": "stream",
     "text": [
      "INFO:drizzlepac.imgclasses:#                                                                            #\n"
     ]
    },
    {
     "name": "stdout",
     "output_type": "stream",
     "text": [
      "#                                                                            #\n"
     ]
    },
    {
     "name": "stderr",
     "output_type": "stream",
     "text": [
      "INFO:drizzlepac.imgclasses:# WARNING:                                                                   #\n"
     ]
    },
    {
     "name": "stdout",
     "output_type": "stream",
     "text": [
      "# WARNING:                                                                   #\n"
     ]
    },
    {
     "name": "stderr",
     "output_type": "stream",
     "text": [
      "INFO:drizzlepac.imgclasses:# Not enough matches (< 2) found for input image:                            #\n"
     ]
    },
    {
     "name": "stdout",
     "output_type": "stream",
     "text": [
      "# Not enough matches (< 2) found for input image:                            #\n"
     ]
    },
    {
     "name": "stderr",
     "output_type": "stream",
     "text": [
      "INFO:drizzlepac.imgclasses:# /home/yuanze/hstdata/s1/iby807ckq_flt.fits                                 #\n"
     ]
    },
    {
     "name": "stdout",
     "output_type": "stream",
     "text": [
      "# /home/yuanze/hstdata/s1/iby807ckq_flt.fits                                 #\n"
     ]
    },
    {
     "name": "stderr",
     "output_type": "stream",
     "text": [
      "INFO:drizzlepac.imgclasses:#                                                                            #\n"
     ]
    },
    {
     "name": "stdout",
     "output_type": "stream",
     "text": [
      "#                                                                            #\n"
     ]
    },
    {
     "name": "stderr",
     "output_type": "stream",
     "text": [
      "INFO:drizzlepac.imgclasses:##############################################################################\n"
     ]
    },
    {
     "name": "stdout",
     "output_type": "stream",
     "text": [
      "##############################################################################\n"
     ]
    },
    {
     "name": "stderr",
     "output_type": "stream",
     "text": [
      "INFO:drizzlepac.tweakreg:\n"
     ]
    },
    {
     "name": "stdout",
     "output_type": "stream",
     "text": [
      "\n"
     ]
    },
    {
     "name": "stderr",
     "output_type": "stream",
     "text": [
      "INFO:drizzlepac.tweakreg:====================\n"
     ]
    },
    {
     "name": "stdout",
     "output_type": "stream",
     "text": [
      "====================\n"
     ]
    },
    {
     "name": "stderr",
     "output_type": "stream",
     "text": [
      "INFO:drizzlepac.tweakreg:Performing fit for: /home/yuanze/hstdata/s1/iby807clq_flt.fits\n"
     ]
    },
    {
     "name": "stdout",
     "output_type": "stream",
     "text": [
      "Performing fit for: /home/yuanze/hstdata/s1/iby807clq_flt.fits\n"
     ]
    },
    {
     "name": "stderr",
     "output_type": "stream",
     "text": [
      "INFO:drizzlepac.tweakreg:\n"
     ]
    },
    {
     "name": "stdout",
     "output_type": "stream",
     "text": [
      "\n"
     ]
    },
    {
     "name": "stderr",
     "output_type": "stream",
     "text": [
      "INFO:drizzlepac.imgclasses:Matching sources from '/home/yuanze/hstdata/s1/iby807clq_flt.fits' with sources from reference image '/home/yuanze/hstdata/s1/iby807cmq_flt.fits'\n"
     ]
    },
    {
     "name": "stdout",
     "output_type": "stream",
     "text": [
      "Matching sources from '/home/yuanze/hstdata/s1/iby807clq_flt.fits' with sources from reference image '/home/yuanze/hstdata/s1/iby807cmq_flt.fits'\n"
     ]
    },
    {
     "name": "stderr",
     "output_type": "stream",
     "text": [
      "INFO:drizzlepac.imgclasses:Computing initial guess for X and Y shifts...\n"
     ]
    },
    {
     "name": "stdout",
     "output_type": "stream",
     "text": [
      "Computing initial guess for X and Y shifts...\n"
     ]
    },
    {
     "name": "stderr",
     "output_type": "stream",
     "text": [
      "INFO:drizzlepac.imgclasses:Found initial X and Y shifts of 7.203, -4.797 with significance of 0 and 1 matches\n"
     ]
    },
    {
     "name": "stdout",
     "output_type": "stream",
     "text": [
      "Found initial X and Y shifts of 7.203, -4.797 with significance of 0 and 1 matches\n"
     ]
    },
    {
     "name": "stderr",
     "output_type": "stream",
     "text": [
      "WARNING:drizzlepac.imgclasses:##############################################################################\n",
      "WARNING:drizzlepac.imgclasses:#                                                                            #\n",
      "WARNING:drizzlepac.imgclasses:# WARNING:                                                                   #\n",
      "WARNING:drizzlepac.imgclasses:# Not enough matches (< 2) found for input image:                            #\n",
      "WARNING:drizzlepac.imgclasses:# /home/yuanze/hstdata/s1/iby807clq_flt.fits                                 #\n",
      "WARNING:drizzlepac.imgclasses:#                                                                            #\n",
      "WARNING:drizzlepac.imgclasses:##############################################################################\n",
      "INFO:drizzlepac.imgclasses:##############################################################################\n"
     ]
    },
    {
     "name": "stdout",
     "output_type": "stream",
     "text": [
      "##############################################################################\n"
     ]
    },
    {
     "name": "stderr",
     "output_type": "stream",
     "text": [
      "INFO:drizzlepac.imgclasses:#                                                                            #\n"
     ]
    },
    {
     "name": "stdout",
     "output_type": "stream",
     "text": [
      "#                                                                            #\n"
     ]
    },
    {
     "name": "stderr",
     "output_type": "stream",
     "text": [
      "INFO:drizzlepac.imgclasses:# WARNING:                                                                   #\n"
     ]
    },
    {
     "name": "stdout",
     "output_type": "stream",
     "text": [
      "# WARNING:                                                                   #\n"
     ]
    },
    {
     "name": "stderr",
     "output_type": "stream",
     "text": [
      "INFO:drizzlepac.imgclasses:# Not enough matches (< 2) found for input image:                            #\n"
     ]
    },
    {
     "name": "stdout",
     "output_type": "stream",
     "text": [
      "# Not enough matches (< 2) found for input image:                            #\n"
     ]
    },
    {
     "name": "stderr",
     "output_type": "stream",
     "text": [
      "INFO:drizzlepac.imgclasses:# /home/yuanze/hstdata/s1/iby807clq_flt.fits                                 #\n"
     ]
    },
    {
     "name": "stdout",
     "output_type": "stream",
     "text": [
      "# /home/yuanze/hstdata/s1/iby807clq_flt.fits                                 #\n"
     ]
    },
    {
     "name": "stderr",
     "output_type": "stream",
     "text": [
      "INFO:drizzlepac.imgclasses:#                                                                            #\n"
     ]
    },
    {
     "name": "stdout",
     "output_type": "stream",
     "text": [
      "#                                                                            #\n"
     ]
    },
    {
     "name": "stderr",
     "output_type": "stream",
     "text": [
      "INFO:drizzlepac.imgclasses:##############################################################################\n"
     ]
    },
    {
     "name": "stdout",
     "output_type": "stream",
     "text": [
      "##############################################################################\n"
     ]
    },
    {
     "name": "stderr",
     "output_type": "stream",
     "text": [
      "INFO:drizzlepac.tweakreg:\n"
     ]
    },
    {
     "name": "stdout",
     "output_type": "stream",
     "text": [
      "\n"
     ]
    },
    {
     "name": "stderr",
     "output_type": "stream",
     "text": [
      "INFO:drizzlepac.tweakreg:Unable to match the following images:\n"
     ]
    },
    {
     "name": "stdout",
     "output_type": "stream",
     "text": [
      "Unable to match the following images:\n"
     ]
    },
    {
     "name": "stderr",
     "output_type": "stream",
     "text": [
      "INFO:drizzlepac.tweakreg:-------------------------------------\n"
     ]
    },
    {
     "name": "stdout",
     "output_type": "stream",
     "text": [
      "-------------------------------------\n"
     ]
    },
    {
     "name": "stderr",
     "output_type": "stream",
     "text": [
      "INFO:drizzlepac.tweakreg:/home/yuanze/hstdata/s1/iby807cjq_flt.fits\n"
     ]
    },
    {
     "name": "stdout",
     "output_type": "stream",
     "text": [
      "/home/yuanze/hstdata/s1/iby807cjq_flt.fits\n"
     ]
    },
    {
     "name": "stderr",
     "output_type": "stream",
     "text": [
      "INFO:drizzlepac.tweakreg:/home/yuanze/hstdata/s1/iby807ckq_flt.fits\n"
     ]
    },
    {
     "name": "stdout",
     "output_type": "stream",
     "text": [
      "/home/yuanze/hstdata/s1/iby807ckq_flt.fits\n"
     ]
    },
    {
     "name": "stderr",
     "output_type": "stream",
     "text": [
      "INFO:drizzlepac.tweakreg:/home/yuanze/hstdata/s1/iby807clq_flt.fits\n"
     ]
    },
    {
     "name": "stdout",
     "output_type": "stream",
     "text": [
      "/home/yuanze/hstdata/s1/iby807clq_flt.fits\n"
     ]
    },
    {
     "name": "stderr",
     "output_type": "stream",
     "text": [
      "INFO:drizzlepac.tweakreg:\n"
     ]
    },
    {
     "name": "stdout",
     "output_type": "stream",
     "text": [
      "\n"
     ]
    },
    {
     "name": "stderr",
     "output_type": "stream",
     "text": [
      "INFO:drizzlepac.tweakutils:Writing out shiftfile : shiftWFC3_UVIS_flc_test1.txt\n"
     ]
    },
    {
     "name": "stdout",
     "output_type": "stream",
     "text": [
      "Writing out shiftfile : shiftWFC3_UVIS_flc_test1.txt\n"
     ]
    },
    {
     "name": "stderr",
     "output_type": "stream",
     "text": [
      "INFO:drizzlepac.util:Trailer file written to:  tweakreg.log\n"
     ]
    },
    {
     "name": "stdout",
     "output_type": "stream",
     "text": [
      "Trailer file written to:  tweakreg.log\n"
     ]
    },
    {
     "data": {
      "image/png": "[encoded data removed]",
      "text/plain": [
       "<Figure size 432x288 with 1 Axes>"
      ]
     },
     "metadata": {
      "needs_background": "light"
     },
     "output_type": "display_data"
    },
    {
     "data": {
      "image/png": "[encoded data removed]",
      "text/plain": [
       "<Figure size 432x288 with 4 Axes>"
      ]
     },
     "metadata": {
      "needs_background": "light"
     },
     "output_type": "display_data"
    },
    {
     "data": {
      "image/png": "[encoded data removed]",
      "text/plain": [
       "<Figure size 432x288 with 2 Axes>"
      ]
     },
     "metadata": {
      "needs_background": "light"
     },
     "output_type": "display_data"
    }
   ],
   "source": [
    "#TweakReg test to find the most appropriate input parameters. Run this First!\n",
    "tweakreg.TweakReg(inputlist,\n",
    "                  imagefindcfg={'threshold': 100,'conv_width': 3.0,'dqbit':0},\n",
    "                  shiftfile=True, outshifts='shift{0}_flc_test1.txt'.format(telescope),\n",
    "                  updatehdr=False,minobj=2,clean=True,reusename=True, interactive=False,fitgeometry='shift')"
   ]
  },
  {
   "cell_type": "code",
   "execution_count": null,
   "id": "959c7f4b",
   "metadata": {},
   "outputs": [],
   "source": [
    "tweakreg.TweakReg(inputlist,\n",
    "                  imagefindcfg={'threshold': 100,'conv_width': conv[telescope]},\n",
    "                  updatehdr=True,minobj=3,reusename=True,clean=True, interactive=False)"
   ]
  },
  {
   "cell_type": "code",
   "execution_count": 82,
   "id": "7759814f",
   "metadata": {},
   "outputs": [],
   "source": [
    "residual_pngs = glob.glob(\"residual*png\")\n",
    "for png in residual_pngs: \n",
    "    path = os.path.abspath(join(os.curdir, png))\n",
    "    new_path = os.path.abspath(join(os.curdir, 'test1_{}'.format(png)))\n",
    "    os.rename(path, new_path)"
   ]
  },
  {
   "cell_type": "code",
   "execution_count": 131,
   "id": "8d92a5b6",
   "metadata": {},
   "outputs": [
    {
     "data": {
      "image/png": "[encoded data removed]",
      "text/plain": [
       "<IPython.core.display.Image object>"
      ]
     },
     "execution_count": 131,
     "metadata": {},
     "output_type": "execute_result"
    }
   ],
   "source": [
    "residual_pngs = glob.glob(\"residual*png\")\n",
    "\n",
    "Image(filename=residual_pngs[2])"
   ]
  },
  {
   "cell_type": "code",
   "execution_count": 79,
   "id": "1e9e2d1c",
   "metadata": {},
   "outputs": [
    {
     "data": {
      "text/html": [
       "<div><i>Table length=3</i>\n",
       "<table id=\"table139983257526928\" class=\"table-striped table-bordered table-condensed\">\n",
       "<thead><tr><th>file</th><th>dx</th><th>dy</th><th>rot</th><th>scale</th><th>xrms</th><th>yrms</th></tr></thead>\n",
       "<thead><tr><th>str42</th><th>float64</th><th>float64</th><th>float64</th><th>float64</th><th>float64</th><th>float64</th></tr></thead>\n",
       "<tr><td>/home/yuanze/hstdata/s1/iby807cjq_flt.fits</td><td>0.00</td><td>0.00</td><td>0.000</td><td>1.00000</td><td>0.00</td><td>0.00</td></tr>\n",
       "<tr><td>/home/yuanze/hstdata/s1/iby807ckq_flt.fits</td><td>0.29</td><td>-3.55</td><td>0.001</td><td>0.99995</td><td>0.00</td><td>0.02</td></tr>\n",
       "<tr><td>/home/yuanze/hstdata/s1/iby807clq_flt.fits</td><td>1.01</td><td>-8.84</td><td>359.993</td><td>0.99986</td><td>0.01</td><td>0.02</td></tr>\n",
       "</table></div>"
      ],
      "text/plain": [
       "<Table length=3>\n",
       "                   file                       dx      dy   ...   xrms    yrms \n",
       "                  str42                    float64 float64 ... float64 float64\n",
       "------------------------------------------ ------- ------- ... ------- -------\n",
       "/home/yuanze/hstdata/s1/iby807cjq_flt.fits    0.00    0.00 ...    0.00    0.00\n",
       "/home/yuanze/hstdata/s1/iby807ckq_flt.fits    0.29   -3.55 ...    0.00    0.02\n",
       "/home/yuanze/hstdata/s1/iby807clq_flt.fits    1.01   -8.84 ...    0.01    0.02"
      ]
     },
     "execution_count": 79,
     "metadata": {},
     "output_type": "execute_result"
    }
   ],
   "source": [
    "shift_table = Table.read('shift{0}_flc_test1.txt'.format(telescope), format='ascii.no_header', \n",
    "                       names=['file', 'dx', 'dy', 'rot', 'scale', 'xrms', 'yrms'])\n",
    "formats = ['.2f', '.2f', '.3f', '.5f', '.2f', '.2f']\n",
    "for i, col in enumerate(shift_table.colnames[1:]):\n",
    "    shift_table[col].format = formats[i]\n",
    "shift_table"
   ]
  }
 ],
 "metadata": {
  "kernelspec": {
   "display_name": "Python [conda env:astroconda] *",
   "language": "python",
   "name": "conda-env-astroconda-py"
  },
  "language_info": {
   "codemirror_mode": {
    "name": "ipython",
    "version": 3
   },
   "file_extension": ".py",
   "mimetype": "text/x-python",
   "name": "python",
   "nbconvert_exporter": "python",
   "pygments_lexer": "ipython3",
   "version": "3.7.13"
  }
 },
 "nbformat": 4,
 "nbformat_minor": 5
}
