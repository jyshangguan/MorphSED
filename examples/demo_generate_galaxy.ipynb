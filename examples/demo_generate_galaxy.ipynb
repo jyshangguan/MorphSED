{
 "cells": [
  {
   "cell_type": "code",
   "execution_count": 1,
   "metadata": {},
   "outputs": [],
   "source": [
    "import sys\n",
    "import numpy as np\n",
    "import matplotlib.pyplot as plt\n",
    "import itertools\n",
    "from astropy.convolution import Gaussian2DKernel\n",
    "from astropy.visualization import MinMaxInterval,SqrtStretch,AsinhStretch\n",
    "from astropy.visualization.mpl_normalize import ImageNormalize\n",
    "from astropy.visualization import make_lupton_rgb\n",
    "sys.path.append('/Users/liruancun/Works/GitHub/')\n",
    "from MorphSED.morphsed import Galaxy, AGN"
   ]
  },
  {
   "cell_type": "markdown",
   "metadata": {},
   "source": [
    "## A galaxy object "
   ]
  },
  {
   "cell_type": "code",
   "execution_count": 2,
   "metadata": {},
   "outputs": [],
   "source": [
    "# with a given stellar mass\n",
    "Mygalaxy = Galaxy(mass = 1e10)\n",
    "Myagn = AGN(logM_BH=7.5,logLedd=-0.5,astar=0.)"
   ]
  },
  {
   "cell_type": "code",
   "execution_count": 4,
   "metadata": {},
   "outputs": [
    {
     "data": {
      "text/plain": [
       "array([0, 1, 1, 1, 0, 1, 1, 0, 0, 0])"
      ]
     },
     "execution_count": 4,
     "metadata": {},
     "output_type": "execute_result"
    }
   ],
   "source": [
    "np.random.randint(2,size=10)\n",
    "\n"
   ]
  },
  {
   "cell_type": "code",
   "execution_count": 16,
   "metadata": {},
   "outputs": [
    {
     "name": "stdout",
     "output_type": "stream",
     "text": [
      "26.0\n"
     ]
    }
   ],
   "source": [
    "Count = []\n",
    "for liss in range(100000):\n",
    "    loop = 0\n",
    "    count = 0\n",
    "    coin = [1,2,5]\n",
    "    a = [-1,-1,-1]\n",
    "    while loop < 1000:\n",
    "        n = loop%3\n",
    "        a[n] = np.random.randint(3)\n",
    "        count+=coin[a[n]]\n",
    "        if (a[0]==0)&(a[1]==0)&(a[2]==0):\n",
    "            break\n",
    "        if (a[0]==1)&(a[1]==1)&(a[2]==1):\n",
    "            break\n",
    "        if (a[0]==2)&(a[1]==2)&(a[2]==2):\n",
    "            break\n",
    "        loop+=1\n",
    "    Count.append(count)\n",
    "Count = np.array(Count)\n",
    "print (np.median(Count))"
   ]
  },
  {
   "cell_type": "code",
   "execution_count": 33,
   "metadata": {},
   "outputs": [
    {
     "data": {
      "text/plain": [
       "2023"
      ]
     },
     "execution_count": 33,
     "metadata": {},
     "output_type": "execute_result"
    }
   ],
   "source": [
    "\n",
    "cout20 = Count[Count==22\n",
    "len(cout20)"
   ]
  },
  {
   "cell_type": "code",
   "execution_count": 31,
   "metadata": {},
   "outputs": [
    {
     "data": {
      "text/plain": [
       "2023"
      ]
     },
     "execution_count": 31,
     "metadata": {},
     "output_type": "execute_result"
    }
   ],
   "source": [
    "cout20 = Count[Count==22]\n",
    "len(cout20)"
   ]
  },
  {
   "cell_type": "markdown",
   "metadata": {},
   "source": [
    "## define the strucute imformation of the two subcomponent"
   ]
  },
  {
   "cell_type": "code",
   "execution_count": 3,
   "metadata": {},
   "outputs": [
    {
     "name": "stdout",
     "output_type": "stream",
     "text": [
      "{'xcen': 50.0, 'ycen': 50.0, 'frac': 30.0, 're': 10.0, 'nser': 3.0, 'ang': -32.70422048691768, 'axrat': 1.0, 'box': 0.0, 'convolve': False}\n",
      "{'xcen': 50.0, 'ycen': 50.0, 'frac': 70.0, 're': 35.0, 'nser': 1.0, 'ang': -32.70422048691768, 'axrat': 0.5, 'box': 0.0, 'convolve': False}\n"
     ]
    }
   ],
   "source": [
    "#just usual dictionary \n",
    "names  = ['%s_%s' % (profile, prop) for prop,profile in itertools.product(('xcen','ycen','mag','re','nser','ang','axrat','box'), ('sersic1','sersic2'))]\n",
    "model0 = np.array((50, 50, 50, 50, 30., 70., 10, 35, 3.0, 1.0, 180/np.pi-90, 180/np.pi-90, 1.,    0.5, 0,     0))\n",
    "tofit  = np.array((True,  False, True,  False, True,  True,  True, True, True, False, True,  True,  True, True,  False,  False))\n",
    "params = np.array(model0[tofit])\n",
    "allparams = model0.copy()\n",
    "fields = ['xcen','ycen','frac','re','nser','ang','axrat','box']\n",
    "s1params = [x for i,x in enumerate(allparams) if i%2 == 0]\n",
    "s2params = [x for i,x in enumerate(allparams) if i%2 != 0]\n",
    "fields.append('convolve')\n",
    "s1params.append(False)\n",
    "s2params.append(False)\n",
    "sparams = [{name: val for name, val in zip(fields, params)} for params in (s1params, s2params)]\n",
    "print (sparams[0])\n",
    "print (sparams[1])"
   ]
  },
  {
   "cell_type": "markdown",
   "metadata": {},
   "source": [
    "### now add the above subcomponent"
   ]
  },
  {
   "cell_type": "code",
   "execution_count": 1,
   "metadata": {},
   "outputs": [
    {
     "ename": "NameError",
     "evalue": "name 'Mygalaxy' is not defined",
     "output_type": "error",
     "traceback": [
      "\u001b[0;31m---------------------------------------------------------------------------\u001b[0m",
      "\u001b[0;31mNameError\u001b[0m                                 Traceback (most recent call last)",
      "\u001b[0;32m/var/folders/qs/vw3sw09x22v0kvljywqrlphh0000gn/T/ipykernel_14204/2171801584.py\u001b[0m in \u001b[0;36m<module>\u001b[0;34m\u001b[0m\n\u001b[1;32m      3\u001b[0m \u001b[0mf_cont\u001b[0m \u001b[0;34m=\u001b[0m \u001b[0;34m{\u001b[0m\u001b[0;34m'type'\u001b[0m\u001b[0;34m:\u001b[0m \u001b[0;34m\"const\"\u001b[0m\u001b[0;34m,\u001b[0m \u001b[0;34m'paradic'\u001b[0m\u001b[0;34m:\u001b[0m\u001b[0;34m{\u001b[0m\u001b[0;34m'value'\u001b[0m\u001b[0;34m:\u001b[0m \u001b[0;36m0.05\u001b[0m\u001b[0;34m}\u001b[0m\u001b[0;34m}\u001b[0m\u001b[0;34m\u001b[0m\u001b[0;34m\u001b[0m\u001b[0m\n\u001b[1;32m      4\u001b[0m \u001b[0mAv\u001b[0m \u001b[0;34m=\u001b[0m \u001b[0;34m{\u001b[0m\u001b[0;34m'type'\u001b[0m\u001b[0;34m:\u001b[0m \u001b[0;34m\"const\"\u001b[0m\u001b[0;34m,\u001b[0m \u001b[0;34m'paradic'\u001b[0m\u001b[0;34m:\u001b[0m\u001b[0;34m{\u001b[0m\u001b[0;34m'value'\u001b[0m\u001b[0;34m:\u001b[0m \u001b[0;36m1.5\u001b[0m\u001b[0;34m}\u001b[0m\u001b[0;34m}\u001b[0m\u001b[0;34m\u001b[0m\u001b[0;34m\u001b[0m\u001b[0m\n\u001b[0;32m----> 5\u001b[0;31m \u001b[0mMygalaxy\u001b[0m\u001b[0;34m.\u001b[0m\u001b[0madd_subC\u001b[0m\u001b[0;34m(\u001b[0m\u001b[0;34m'sersic'\u001b[0m\u001b[0;34m,\u001b[0m\u001b[0msparams\u001b[0m\u001b[0;34m[\u001b[0m\u001b[0;36m0\u001b[0m\u001b[0;34m]\u001b[0m\u001b[0;34m,\u001b[0m\u001b[0mage\u001b[0m\u001b[0;34m,\u001b[0m\u001b[0mZ\u001b[0m\u001b[0;34m,\u001b[0m\u001b[0mf_cont\u001b[0m\u001b[0;34m,\u001b[0m\u001b[0mAv\u001b[0m\u001b[0;34m)\u001b[0m\u001b[0;34m\u001b[0m\u001b[0;34m\u001b[0m\u001b[0m\n\u001b[0m\u001b[1;32m      6\u001b[0m \u001b[0mage\u001b[0m \u001b[0;34m=\u001b[0m \u001b[0;34m{\u001b[0m\u001b[0;34m'type'\u001b[0m\u001b[0;34m:\u001b[0m \u001b[0;34m\"linear\"\u001b[0m\u001b[0;34m,\u001b[0m \u001b[0;34m'paradic'\u001b[0m\u001b[0;34m:\u001b[0m\u001b[0;34m{\u001b[0m\u001b[0;34m'k'\u001b[0m\u001b[0;34m:\u001b[0m\u001b[0;36m0.\u001b[0m\u001b[0;34m,\u001b[0m \u001b[0;34m'b'\u001b[0m\u001b[0;34m:\u001b[0m\u001b[0;36m0.1\u001b[0m\u001b[0;34m}\u001b[0m\u001b[0;34m}\u001b[0m\u001b[0;34m\u001b[0m\u001b[0;34m\u001b[0m\u001b[0m\n\u001b[1;32m      7\u001b[0m \u001b[0mZ\u001b[0m \u001b[0;34m=\u001b[0m \u001b[0;34m{\u001b[0m\u001b[0;34m'type'\u001b[0m\u001b[0;34m:\u001b[0m \u001b[0;34m\"linear\"\u001b[0m\u001b[0;34m,\u001b[0m \u001b[0;34m'paradic'\u001b[0m\u001b[0;34m:\u001b[0m\u001b[0;34m{\u001b[0m\u001b[0;34m'k'\u001b[0m\u001b[0;34m:\u001b[0m\u001b[0;36m0.\u001b[0m\u001b[0;34m,\u001b[0m \u001b[0;34m'b'\u001b[0m\u001b[0;34m:\u001b[0m\u001b[0;36m0.05\u001b[0m\u001b[0;34m}\u001b[0m\u001b[0;34m}\u001b[0m\u001b[0;34m\u001b[0m\u001b[0;34m\u001b[0m\u001b[0m\n",
      "\u001b[0;31mNameError\u001b[0m: name 'Mygalaxy' is not defined"
     ]
    }
   ],
   "source": [
    "age = {'type': \"linear\", 'paradic':{'k':-0.05, 'b':9.}}\n",
    "Z = {'type': \"linear\", 'paradic':{'k':0., 'b':0.02}}\n",
    "f_cont = {'type': \"const\", 'paradic':{'value': 0.05}}\n",
    "Av = {'type': \"const\", 'paradic':{'value': 1.5}}\n",
    "Mygalaxy.add_subC('sersic',sparams[0],age,Z,f_cont,Av)\n",
    "age = {'type': \"linear\", 'paradic':{'k':0., 'b':0.1}}\n",
    "Z = {'type': \"linear\", 'paradic':{'k':0., 'b':0.05}}\n",
    "f_cont = {'type': \"const\", 'paradic':{'value': 0.35}}\n",
    "Av = {'type': \"const\", 'paradic':{'value': 1.0}}\n",
    "Mygalaxy.add_subC('sersic',sparams[1],age,Z,f_cont,Av)"
   ]
  },
  {
   "cell_type": "code",
   "execution_count": 5,
   "metadata": {},
   "outputs": [
    {
     "data": {
      "image/png": "[encoded data removed]",
      "text/plain": [
       "<Figure size 720x720 with 1 Axes>"
      ]
     },
     "metadata": {
      "needs_background": "light"
     },
     "output_type": "display_data"
    }
   ],
   "source": [
    "psfFWHM=1.44\n",
    "psf = Gaussian2DKernel(psfFWHM, x_size=15, y_size=15)\n",
    "psf.normalize()\n",
    "totalmass = Mygalaxy.generate_mass_map((100,100),np.array(psf))\n",
    "sky_mean=np.mean(totalmass)\n",
    "sky_median=np.median(totalmass) \n",
    "sky_std = np.std(totalmass)\n",
    "fig=plt.figure(figsize=(10,10))\n",
    "norm=ImageNormalize(vmin=0.,vmax=(sky_median+4*sky_std),stretch=AsinhStretch())\n",
    "plt.imshow(totalmass, cmap='Greys', origin='lower', norm=norm)\n",
    "plt.show()"
   ]
  },
  {
   "cell_type": "code",
   "execution_count": 6,
   "metadata": {},
   "outputs": [
    {
     "name": "stdout",
     "output_type": "stream",
     "text": [
      "-78.48684425781079\n",
      "-77.16251228073406\n",
      "-76.25743377631409\n"
     ]
    },
    {
     "data": {
      "image/png": "[encoded data removed]",
      "text/plain": [
       "<Figure size 720x720 with 1 Axes>"
      ]
     },
     "metadata": {
      "needs_background": "light"
     },
     "output_type": "display_data"
    }
   ],
   "source": [
    "psfFWHM=1.44\n",
    "kernel = Gaussian2DKernel(psfFWHM, x_size=15, y_size=15)\n",
    "kernel.normalize()\n",
    "agnlocaltion = {'xcen':50.01, 'ycen':50.01,'fwhm':1.44, 'con':5.}\n",
    "kernel = np.array(kernel)\n",
    "image_u = Mygalaxy.generate_image('sloan_u',kernel)+Myagn.generate_image([100,100],'sloan_u',kernel,agnlocaltion, psftype='moffat')\n",
    "image_r = Mygalaxy.generate_image('sloan_r',kernel)+Myagn.generate_image([100,100],'sloan_r',kernel,agnlocaltion, psftype='moffat')\n",
    "image_z = Mygalaxy.generate_image('sloan_z',kernel)+Myagn.generate_image([100,100],'sloan_z',kernel,agnlocaltion, psftype='moffat')\n",
    "fac1 = 10000./np.sum(image_u)\n",
    "fac2 = 10000./np.sum(image_r)\n",
    "fac3 = 10000./np.sum(image_z)\n",
    "norm_u = image_u*fac1\n",
    "norm_r = image_r*fac2\n",
    "norm_z = image_z*fac3\n",
    "image = make_lupton_rgb(norm_z, norm_r, norm_u, Q=10)\n",
    "fig=plt.figure(figsize=(10,10))\n",
    "plt.imshow(image,origin='lower')\n",
    "plt.show()"
   ]
  },
  {
   "cell_type": "code",
   "execution_count": null,
   "metadata": {},
   "outputs": [],
   "source": []
  },
  {
   "cell_type": "code",
   "execution_count": null,
   "metadata": {},
   "outputs": [],
   "source": []
  },
  {
   "cell_type": "code",
   "execution_count": null,
   "metadata": {},
   "outputs": [],
   "source": []
  },
  {
   "cell_type": "code",
   "execution_count": null,
   "metadata": {},
   "outputs": [],
   "source": []
  },
  {
   "cell_type": "code",
   "execution_count": null,
   "metadata": {},
   "outputs": [],
   "source": []
  },
  {
   "cell_type": "code",
   "execution_count": null,
   "metadata": {},
   "outputs": [],
   "source": []
  },
  {
   "cell_type": "code",
   "execution_count": null,
   "metadata": {},
   "outputs": [],
   "source": []
  },
  {
   "cell_type": "code",
   "execution_count": null,
   "metadata": {},
   "outputs": [],
   "source": []
  }
 ],
 "metadata": {
  "kernelspec": {
   "display_name": "Python 3 (ipykernel)",
   "language": "python",
   "name": "python3"
  },
  "language_info": {
   "codemirror_mode": {
    "name": "ipython",
    "version": 3
   },
   "file_extension": ".py",
   "mimetype": "text/x-python",
   "name": "python",
   "nbconvert_exporter": "python",
   "pygments_lexer": "ipython3",
   "version": "3.7.13"
  }
 },
 "nbformat": 4,
 "nbformat_minor": 4
}
