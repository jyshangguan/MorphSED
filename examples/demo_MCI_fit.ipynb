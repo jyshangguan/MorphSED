{
 "cells": [
  {
   "cell_type": "code",
   "execution_count": 2,
   "metadata": {},
   "outputs": [],
   "source": [
    "import sys\n",
    "from astropy.io import fits\n",
    "import numpy as np\n",
    "import matplotlib.pyplot as plt\n",
    "import itertools\n",
    "import lmfit\n",
    "from astropy.convolution import Gaussian2DKernel\n",
    "from astropy.visualization import MinMaxInterval,SqrtStretch,AsinhStretch\n",
    "from astropy.visualization.mpl_normalize import ImageNormalize\n",
    "from astropy.visualization import make_lupton_rgb\n",
    "sys.path.append('/Users/liruancun/Works/GitHub/')\n",
    "from MorphSED.morphsed import Galaxy, AGN\n",
    "from astropy import units as u\n",
    "from astropy.cosmology import FlatLambdaCDM,z_at_value\n",
    "from astropy.stats import sigma_clipped_stats\n",
    "from astropy.visualization.mpl_normalize import simple_norm"
   ]
  },
  {
   "cell_type": "code",
   "execution_count": 3,
   "metadata": {},
   "outputs": [],
   "source": [
    "targname = '2'\n",
    "Band = ['g','r','i','z','y']\n",
    "phys_to_image ={\n",
    "    'g'  : 2.12e18,  #4810\n",
    "    'r'  : 3.50e18,  #6170\n",
    "    'i'  : 5.20e18,  #7520\n",
    "    'z'  : 6.89e18,  #8660\n",
    "    'y'  : 8.50e18,  #9620\n",
    "    #counts_rate/flux\n",
    "}\n",
    "phys_to_counts_rate = np.ones(5,dtype=float)\n",
    "filepath = '/Users/liruancun/Works/GitHub/MorphSED/examples/data/test/'\n",
    "images = []\n",
    "psfs = []\n",
    "for band in Band:\n",
    "    hdu = fits.open(filepath + '{0}_{1}.fits'.format(targname,band))\n",
    "    header = hdu[0].header\n",
    "    hdu = fits.open(filepath + '{0}cut_{1}.fits'.format(targname,band))\n",
    "    images.append(np.array(hdu[0].data)/header['EXPTIME'])\n",
    "    hdu = fits.open(filepath + '{0}_{1}_psf.fits'.format(targname,band))\n",
    "    psfs.append(np.array(hdu[0].data))\n",
    "    #print (np.sum(images[0]))\n",
    "    #break\n",
    "z = 0.301712\n",
    "ebv = 0.0341\n",
    "cosmo = FlatLambdaCDM(H0=67.8 * u.km / u.s / u.Mpc, Tcmb0=2.725 * u.K, Om0=0.308)\n",
    "d=cosmo.luminosity_distance(z)\n",
    "dc=d.to(u.cm)\n",
    "dis=dc.value\n",
    "C_unit=1./(4*np.pi*dis**2)\n",
    "for loop in range(5):\n",
    "    phys_to_counts_rate[loop] = phys_to_image[Band[loop]]*C_unit\n",
    "ny,nx = images[0].shape\n"
   ]
  },
  {
   "cell_type": "code",
   "execution_count": 12,
   "metadata": {},
   "outputs": [
    {
     "data": {
      "text/plain": [
       "3.2211356102186745e-57"
      ]
     },
     "execution_count": 12,
     "metadata": {},
     "output_type": "execute_result"
    }
   ],
   "source": [
    "C_unit"
   ]
  },
  {
   "cell_type": "markdown",
   "metadata": {},
   "source": [
    "# 1. Sersic + PSF fit"
   ]
  },
  {
   "cell_type": "markdown",
   "metadata": {},
   "source": [
    "### 1.1 Define the parameters"
   ]
  },
  {
   "cell_type": "code",
   "execution_count": 4,
   "metadata": {},
   "outputs": [],
   "source": [
    "par_total = lmfit.Parameters()\n",
    "par_total.add('logM', value=10., min=8., max=13.)\n",
    "sesicparam = ['x', 'y', 'Re', 'n', 'ang', 'axrat']\n",
    "par_total.add('sersic1_x', value=46, min=41., max=51)\n",
    "par_total.add('sersic1_y', value=46, min=41., max=51)\n",
    "par_total.add('sersic1_Re', value=4., min=0.5, max=15.)\n",
    "par_total.add('sersic1_n', value=3., min=1., max=6.)\n",
    "par_total.add('sersic1_ang', value=-20., min=-90., max=90.)\n",
    "par_total.add('sersic1_axrat', value=0.8, min=0.2, max=1.)\n",
    "par_total.add('sersic1_f_cont', value=0.5, min=0., max=1.)\n",
    "par_total.add('sersic1_age', value=5., min=0.1, max=13.)\n",
    "par_total.add('sersic1_Z', value=0.02, min=0.001, max=0.04,vary=False)\n",
    "par_total.add('sersic1_Av', value=0.7, min =0.3, max=5.1)\n",
    "#par_total.add('agn_x', value=46, min=41., max=51)\n",
    "#par_total.add('agn_y', value=46, min=41., max=51)\n",
    "par_total.add('agn_x', expr='1.*sersic1_x')\n",
    "par_total.add('agn_y', expr='1.*sersic1_y')\n",
    "par_total.add('agn_logM', value=7.85, min=5., max=10.,vary=False)\n",
    "par_total.add('agn_logLedd', value=-1, min=-4, max=2.)\n",
    "par_total.add('agn_spin', value=0., min=0., max=0.99,vary=False)\n",
    "par_total.add('agn_Av', value=0., min =0., max=3.1,vary=False)\n",
    "par_total.add('sky_g', value=0., min =-1., max=1.)\n",
    "par_total.add('sky_r', value=0., min =-1., max=1.)\n",
    "par_total.add('sky_i', value=0., min =-1., max=1.)\n",
    "par_total.add('sky_z', value=0., min =-1., max=1.)\n",
    "par_total.add('sky_y', value=0., min =-1., max=1.)"
   ]
  },
  {
   "cell_type": "code",
   "execution_count": null,
   "metadata": {},
   "outputs": [],
   "source": []
  },
  {
   "cell_type": "markdown",
   "metadata": {},
   "source": [
    "### 1.2 Calculate the multi-band residual"
   ]
  },
  {
   "cell_type": "code",
   "execution_count": 6,
   "metadata": {},
   "outputs": [],
   "source": [
    "def residualcon(parc):\n",
    "    Mygalaxy = Galaxy(mass = 10**parc['logM'].value, z=z, ebv_G=ebv)\n",
    "    Myagn = AGN(logM_BH=parc['agn_logM'].value,logLedd= parc['agn_logLedd'].value,\n",
    "                astar=parc['agn_spin'].value,Av =parc['agn_Av'].value, z=z, ebv_G=ebv)\n",
    "    strucure_para = {'xcen': parc['sersic1_x'].value, 'ycen': parc['sersic1_y'].value,\n",
    "                     'frac': 100., 're': parc['sersic1_Re'].value, 'nser': parc['sersic1_n'].value, \n",
    "                     'ang': parc['sersic1_ang'].value, 'axrat': parc['sersic1_axrat'].value, 'box': 0.0, 'convolve': False}\n",
    "    age = {'type': \"const\", 'paradic':{'value': parc['sersic1_age'].value}}\n",
    "    Z = {'type': \"const\", 'paradic':{'value':  parc['sersic1_Z'].value}}\n",
    "    f_cont = {'type': \"const\", 'paradic':{'value': parc['sersic1_f_cont'].value}}\n",
    "    Av = {'type': \"const\", 'paradic':{'value': parc['sersic1_Av'].value}}\n",
    "    Mygalaxy.add_subC('sersic',strucure_para,age,Z,f_cont,Av)\n",
    "    totalmass = Mygalaxy.generate_mass_map((ny,nx),np.array(psfs[0]))\n",
    "    agnlocaltion = {'xcen': parc['agn_x'].value, 'ycen': parc['agn_y'].value,}\n",
    "    residual_image=[]\n",
    "    for loop in range(5):\n",
    "        band = Band[loop]\n",
    "        image = Mygalaxy.generate_image('panstarrs_{0}'.format(band),psfs[loop])\n",
    "        image += Myagn.generate_image([ny,nx],'panstarrs_{0}'.format(band),psfs[loop],agnlocaltion)\n",
    "        image *= phys_to_counts_rate[loop]\n",
    "        image += np.ones_like(image)*parc['sky_{0}'.format(band)].value\n",
    "        residual_image.append(images[loop]-image)\n",
    "    residu_flat = residual_image[0].ravel()\n",
    "    for loop in range(4):\n",
    "        residu_flat=np.append(residu_flat,residual_image[loop+1].ravel())\n",
    "    del (Mygalaxy)\n",
    "    del (Myagn)\n",
    "    return residu_flat\n",
    "    "
   ]
  },
  {
   "cell_type": "code",
   "execution_count": 7,
   "metadata": {},
   "outputs": [],
   "source": [
    "def multi_model(parc):\n",
    "    Mygalaxy = Galaxy(mass = 10**parc['logM'].value, z=z, ebv_G=ebv)\n",
    "    Myagn = AGN(logM_BH=parc['agn_logM'].value,logLedd= parc['agn_logLedd'].value,\n",
    "                astar=parc['agn_spin'].value,Av =parc['agn_Av'].value, z=z, ebv_G=ebv)\n",
    "    strucure_para = {'xcen': parc['sersic1_x'].value, 'ycen': parc['sersic1_y'].value,\n",
    "                     'frac': 100., 're': parc['sersic1_Re'].value, 'nser': parc['sersic1_n'].value, \n",
    "                     'ang': parc['sersic1_ang'].value, 'axrat': parc['sersic1_axrat'].value, 'box': 0.0, 'convolve': False}\n",
    "    age = {'type': \"const\", 'paradic':{'value': parc['sersic1_age'].value}}\n",
    "    Z = {'type': \"const\", 'paradic':{'value':  parc['sersic1_Z'].value}}\n",
    "    f_cont = {'type': \"const\", 'paradic':{'value': parc['sersic1_f_cont'].value}}\n",
    "    Av = {'type': \"const\", 'paradic':{'value': parc['sersic1_Av'].value}}\n",
    "    Mygalaxy.add_subC('sersic',strucure_para,age,Z,f_cont,Av)\n",
    "    totalmass = Mygalaxy.generate_mass_map((ny,nx),np.array(psfs[0]))\n",
    "    agnlocaltion = {'xcen': parc['agn_x'].value, 'ycen': parc['agn_y'].value,}\n",
    "    model_images=[]\n",
    "    residual_images=[]\n",
    "    for loop in range(5):\n",
    "        band = Band[loop]\n",
    "        image = Mygalaxy.generate_image('panstarrs_{0}'.format(band),psfs[loop])\n",
    "        #print (image.shape)\n",
    "        #print (np.sum(image))\n",
    "        AGNflux = Myagn.generate_image([ny,nx],'panstarrs_{0}'.format(band),psfs[loop],agnlocaltion)\n",
    "        image += AGNflux\n",
    "        #print (np.max(AGNflux))\n",
    "        #print (np.sum(AGNflux))\n",
    "        image *= phys_to_counts_rate[loop]\n",
    "        image += np.ones_like(image)*parc['sky_{0}'.format(band)].value\n",
    "        model_images.append(image)\n",
    "        residual_images.append(images[loop]-image)\n",
    "    del (Mygalaxy)\n",
    "    del (Myagn)\n",
    "    return model_images,residual_images\n",
    "    "
   ]
  },
  {
   "cell_type": "markdown",
   "metadata": {},
   "source": [
    "### 1.3 MCMC minimization"
   ]
  },
  {
   "cell_type": "code",
   "execution_count": 8,
   "metadata": {},
   "outputs": [],
   "source": [
    "fitresult = lmfit.minimize(residualcon,par_total,nan_policy='omit')\n",
    "            #,method='ultranested',, nlive=160, maxiters=100, dlogz=0.02, workers=16)\n",
    "            #,method='emcee',allrandom=False,nan_policy='omit',nwalkers=192,steps=2000,burn=1500,workers=48)\n",
    "            #,method='nested',nan_policy='omit',sample_method='slice',dynamical=False, nlive=200, maxiters=100000, dlogz=0.02, workers=40)\n",
    "    #            ,method='nested',nan_policy='omit',sample_method='rstagger',bound='multi',dynamical=True, nlive=150, maxiters=100000, dlogz=0.2, workers=4,\n",
    "    #            dynesty_kwargs={'nlive_batch': 300,})"
   ]
  },
  {
   "cell_type": "code",
   "execution_count": 9,
   "metadata": {},
   "outputs": [],
   "source": [
    "par_total = fitresult.params\n",
    "bestpar = par_total.valuesdict()\n",
    "model_images,residual_images = multi_model(par_total)"
   ]
  },
  {
   "cell_type": "code",
   "execution_count": 13,
   "metadata": {},
   "outputs": [
    {
     "data": {
      "text/html": [
       "<h2>Fit Statistics</h2><table><tr><td>fitting method</td><td>leastsq</td><td></td></tr><tr><td># function evals</td><td>317</td><td></td></tr><tr><td># data points</td><td>41405</td><td></td></tr><tr><td># variables</td><td>16</td><td></td></tr><tr><td>chi-square</td><td> 3867.81767</td><td></td></tr><tr><td>reduced chi-square</td><td> 0.09345038</td><td></td></tr><tr><td>Akaike info crit.</td><td>-98127.2975</td><td></td></tr><tr><td>Bayesian info crit.</td><td>-97989.1990</td><td></td></tr></table><h2>Variables</h2><table><tr><th> name </th><th> value </th><th> standard error </th><th> relative error </th><th> initial value </th><th> min </th><th> max </th><th> vary </th><th> expression </th></tr><tr><td> logM </td><td>  11.7329217 </td><td>  0.64381192 </td><td> (5.49%) </td><td> 10.0 </td><td>  8.00000000 </td><td>  13.0000000 </td><td> True </td><td>  </td></tr><tr><td> sersic1_x </td><td>  45.9567137 </td><td>  0.01902744 </td><td> (0.04%) </td><td> 46 </td><td>  41.0000000 </td><td>  51.0000000 </td><td> True </td><td>  </td></tr><tr><td> sersic1_y </td><td>  44.7955055 </td><td>  0.02297500 </td><td> (0.05%) </td><td> 46 </td><td>  41.0000000 </td><td>  51.0000000 </td><td> True </td><td>  </td></tr><tr><td> sersic1_Re </td><td>  4.68288821 </td><td>  0.14351514 </td><td> (3.06%) </td><td> 4.0 </td><td>  0.50000000 </td><td>  15.0000000 </td><td> True </td><td>  </td></tr><tr><td> sersic1_n </td><td>  1.97359369 </td><td>  0.13710434 </td><td> (6.95%) </td><td> 3.0 </td><td>  1.00000000 </td><td>  6.00000000 </td><td> True </td><td>  </td></tr><tr><td> sersic1_ang </td><td>  13.4419476 </td><td>  1.48215532 </td><td> (11.03%) </td><td> -20.0 </td><td> -90.0000000 </td><td>  90.0000000 </td><td> True </td><td>  </td></tr><tr><td> sersic1_axrat </td><td>  0.66026805 </td><td>  0.01484387 </td><td> (2.25%) </td><td> 0.8 </td><td>  0.20000000 </td><td>  1.00000000 </td><td> True </td><td>  </td></tr><tr><td> sersic1_f_cont </td><td>  0.29790091 </td><td>  0.13446646 </td><td> (45.14%) </td><td> 0.5 </td><td>  0.00000000 </td><td>  1.00000000 </td><td> True </td><td>  </td></tr><tr><td> sersic1_age </td><td>  2.65026346 </td><td>  1.99988913 </td><td> (75.46%) </td><td> 5.0 </td><td>  0.10000000 </td><td>  13.0000000 </td><td> True </td><td>  </td></tr><tr><td> sersic1_Z </td><td>  0.02000000 </td><td>  0.00000000 </td><td> (0.00%) </td><td> 0.02 </td><td>  1.0000e-03 </td><td>  0.04000000 </td><td> False </td><td>  </td></tr><tr><td> sersic1_Av </td><td>  0.67756896 </td><td>  0.56988005 </td><td> (84.11%) </td><td> 0.7 </td><td>  0.30000000 </td><td>  5.10000000 </td><td> True </td><td>  </td></tr><tr><td> agn_x </td><td>  45.9567137 </td><td>  0.01902744 </td><td> (0.04%) </td><td> 46.0 </td><td>        -inf </td><td>         inf </td><td> False </td><td> 1.*sersic1_x </td></tr><tr><td> agn_y </td><td>  44.7955055 </td><td>  0.02297500 </td><td> (0.05%) </td><td> 46.0 </td><td>        -inf </td><td>         inf </td><td> False </td><td> 1.*sersic1_y </td></tr><tr><td> agn_logM </td><td>  7.85000000 </td><td>  0.00000000 </td><td> (0.00%) </td><td> 7.85 </td><td>  5.00000000 </td><td>  10.0000000 </td><td> False </td><td>  </td></tr><tr><td> agn_logLedd </td><td>  0.86250527 </td><td>  0.19869403 </td><td> (23.04%) </td><td> -1 </td><td> -4.00000000 </td><td>  2.00000000 </td><td> True </td><td>  </td></tr><tr><td> agn_spin </td><td>  0.00000000 </td><td>  0.00000000 </td><td>  </td><td> 0.0 </td><td>  0.00000000 </td><td>  0.99000000 </td><td> False </td><td>  </td></tr><tr><td> agn_Av </td><td>  0.00000000 </td><td>  0.00000000 </td><td>  </td><td> 0.0 </td><td>  0.00000000 </td><td>  3.10000000 </td><td> False </td><td>  </td></tr><tr><td> sky_g </td><td>  0.00611704 </td><td>  0.00347822 </td><td> (56.86%) </td><td> 0.0 </td><td> -1.00000000 </td><td>  1.00000000 </td><td> True </td><td>  </td></tr><tr><td> sky_r </td><td>  0.00487218 </td><td>  0.00349843 </td><td> (71.80%) </td><td> 0.0 </td><td> -1.00000000 </td><td>  1.00000000 </td><td> True </td><td>  </td></tr><tr><td> sky_i </td><td>  0.01808434 </td><td>  0.00352754 </td><td> (19.51%) </td><td> 0.0 </td><td> -1.00000000 </td><td>  1.00000000 </td><td> True </td><td>  </td></tr><tr><td> sky_z </td><td>  0.00756182 </td><td>  0.00354892 </td><td> (46.93%) </td><td> 0.0 </td><td> -1.00000000 </td><td>  1.00000000 </td><td> True </td><td>  </td></tr><tr><td> sky_y </td><td>  0.00723657 </td><td>  0.00361945 </td><td> (50.02%) </td><td> 0.0 </td><td> -1.00000000 </td><td>  1.00000000 </td><td> True </td><td>  </td></tr></table><h2>Correlations (unreported correlations are < 0.100)</h2><table><tr><td>logM</td><td>sersic1_age</td><td>0.9996</td></tr><tr><td>logM</td><td>sersic1_Av</td><td>0.9905</td></tr><tr><td>sersic1_age</td><td>sersic1_Av</td><td>0.9899</td></tr><tr><td>sersic1_n</td><td>agn_logLedd</td><td>-0.7053</td></tr><tr><td>sersic1_f_cont</td><td>agn_logLedd</td><td>-0.6904</td></tr><tr><td>sersic1_Re</td><td>agn_logLedd</td><td>0.5477</td></tr><tr><td>sersic1_n</td><td>sersic1_f_cont</td><td>0.4778</td></tr><tr><td>sersic1_Re</td><td>sersic1_f_cont</td><td>-0.3825</td></tr><tr><td>sersic1_Re</td><td>sersic1_axrat</td><td>-0.3595</td></tr><tr><td>sersic1_Av</td><td>agn_logLedd</td><td>-0.3306</td></tr><tr><td>sersic1_age</td><td>agn_logLedd</td><td>-0.3280</td></tr><tr><td>logM</td><td>agn_logLedd</td><td>-0.3093</td></tr><tr><td>sersic1_f_cont</td><td>sersic1_Av</td><td>0.2865</td></tr><tr><td>sersic1_n</td><td>sersic1_age</td><td>0.2348</td></tr><tr><td>sersic1_Re</td><td>sky_y</td><td>-0.2337</td></tr><tr><td>sersic1_n</td><td>sersic1_Av</td><td>0.2335</td></tr><tr><td>logM</td><td>sersic1_n</td><td>0.2273</td></tr><tr><td>sersic1_n</td><td>sky_y</td><td>-0.2149</td></tr><tr><td>sersic1_n</td><td>sky_i</td><td>-0.2141</td></tr><tr><td>sersic1_f_cont</td><td>sky_g</td><td>-0.2076</td></tr><tr><td>sersic1_Re</td><td>sky_z</td><td>-0.2039</td></tr><tr><td>sersic1_n</td><td>sky_z</td><td>-0.2032</td></tr><tr><td>sersic1_f_cont</td><td>sersic1_age</td><td>0.1919</td></tr><tr><td>logM</td><td>sersic1_f_cont</td><td>0.1792</td></tr><tr><td>sersic1_n</td><td>sky_r</td><td>-0.1770</td></tr><tr><td>sersic1_Re</td><td>sersic1_Av</td><td>-0.1763</td></tr><tr><td>sersic1_Re</td><td>sersic1_age</td><td>-0.1747</td></tr><tr><td>logM</td><td>sersic1_Re</td><td>-0.1560</td></tr><tr><td>sersic1_Av</td><td>sky_g</td><td>-0.1547</td></tr><tr><td>agn_logLedd</td><td>sky_g</td><td>0.1491</td></tr><tr><td>sersic1_n</td><td>sky_g</td><td>-0.1419</td></tr><tr><td>sersic1_age</td><td>sky_g</td><td>-0.1418</td></tr><tr><td>logM</td><td>sky_g</td><td>-0.1388</td></tr><tr><td>sersic1_Re</td><td>sky_i</td><td>-0.1321</td></tr><tr><td>agn_logLedd</td><td>sky_r</td><td>0.1191</td></tr><tr><td>sky_z</td><td>sky_y</td><td>0.1073</td></tr><tr><td>logM</td><td>sky_i</td><td>-0.1072</td></tr><tr><td>sersic1_age</td><td>sky_i</td><td>-0.1069</td></tr><tr><td>agn_logLedd</td><td>sky_i</td><td>0.1030</td></tr><tr><td>sersic1_Av</td><td>sky_r</td><td>0.1007</td></tr></table>"
      ],
      "text/plain": [
       "<lmfit.minimizer.MinimizerResult at 0x7fda480d66d0>"
      ]
     },
     "execution_count": 13,
     "metadata": {},
     "output_type": "execute_result"
    }
   ],
   "source": [
    "fitresult"
   ]
  },
  {
   "cell_type": "code",
   "execution_count": 11,
   "metadata": {},
   "outputs": [],
   "source": [
    "data_all = [images,model_images,residual_images]"
   ]
  },
  {
   "cell_type": "code",
   "execution_count": null,
   "metadata": {},
   "outputs": [],
   "source": []
  },
  {
   "cell_type": "code",
   "execution_count": 12,
   "metadata": {},
   "outputs": [],
   "source": [
    "shape=[ny,nx]\n",
    "nrows = 5\n",
    "ncols = 3\n",
    "fig, ax = plt.subplots(nrows=nrows, ncols=ncols, figsize=(15, 25),squeeze=True)\n",
    "ax = ax.ravel()\n",
    "fignumber=15\n",
    "for i in range(nrows):\n",
    "    sky_mean, sky_median, sky_std = sigma_clipped_stats(images[i], sigma=3.0, maxiters=5)\n",
    "    norm = simple_norm([0.5*sky_std, 3*np.max(data_all[1][i])], 'log', percent=100)\n",
    "    for j in range(ncols):\n",
    "        ax[3*i+j].imshow(data_all[j][i], cmap='Greys', origin='lower', norm=norm,\n",
    "                           interpolation='nearest')\n",
    "    ax[3*i+0].text(3,80, \"{0}-band\".format(Band[i]), size = 25, color = 'k', weight = \"light\" )\n",
    "ax[0].text(3,3, \"data\", size = 25, color = 'k', weight = \"light\" )\n",
    "ax[1].text(3,3, \"model\", size = 25, color = 'k', weight = \"light\" )\n",
    "ax[2].text(3,3, \"residual\", size = 25, color = 'k', weight = \"light\" )\n",
    "plt.savefig(filepath+'{0}_multifixc.png'.format(targname),dpi=200.,bbox_inches='tight')\n",
    "plt.close()"
   ]
  },
  {
   "cell_type": "code",
   "execution_count": 23,
   "metadata": {},
   "outputs": [
    {
     "name": "stdout",
     "output_type": "stream",
     "text": [
      "(91, 91)\n",
      "2.3443778486827046e+40\n",
      "1.1225651380179e+34\n",
      "5.664787135330453e+35\n",
      "(91, 91)\n",
      "3.099947750226223e+40\n",
      "9.715614677960877e+33\n",
      "4.6206653802899706e+35\n",
      "(91, 91)\n",
      "3.0534376688632466e+40\n",
      "1.039593660470264e+34\n",
      "3.663149983293605e+35\n",
      "(91, 91)\n",
      "2.7887773379261734e+40\n",
      "1.0303965713400228e+34\n",
      "3.0117196453721127e+35\n",
      "(91, 91)\n",
      "2.576326447795932e+40\n",
      "1.0366875948237311e+34\n",
      "2.566649381728015e+35\n"
     ]
    }
   ],
   "source": [
    "# g band\n",
    "        show_ellipse(ax=ax0, data_isolist=r_g, psf_isolist=r1_g, sersic_isolist=r2_g, model_isolist=r0_g, band='g',\n",
    "                     exptime=EXPTIME, ylabel=True, legend=True, xlabel=False, skyrms=skyrms_list[0], chi2nu=chi2nu[0],\n",
    "                     name=name)\n",
    "        norm1 = simple_norm([0.5*skyrms_list[0], 3*np.max(model_g)], 'log', percent=100)\n",
    "        ax1.imshow(image_g-np.mean(sky_g), cmap='Greys', origin='lower', norm=norm1, extent=[-shape[0]*0.25/2, shape[0]*0.25/2, -shape[0]*0.25/2, shape[0]*0.25/2],\n",
    "                           interpolation='nearest')\n",
    "        ax1.text(0.42, 0.97, 'Data', verticalalignment='top',\n",
    "            horizontalalignment='left', transform=ax1.transAxes,\n",
    "             fontsize=42, bbox=dict(facecolor='white', alpha=0.7, edgecolor=\"none\"))\n",
    "        scalebar = ScaleBar(kpc_arcsec,\n",
    "                            \"kpc\",\n",
    "                            dimension=cgs,\n",
    "                            color='black',\n",
    "                            box_alpha=0.5,\n",
    "                            font_properties={'size': 30},\n",
    "                            location='lower left',\n",
    "                            fixed_value=10,\n",
    "                            scale_loc='bottom',\n",
    "                            sep=10,\n",
    "                            border_pad=0.6)\n",
    "        ax1.add_artist(scalebar)\n",
    "        ax2.imshow(model_g-np.mean(sky_g), cmap='Greys', origin='lower', norm=norm1, extent=[-shape[0]*0.25/2, shape[0]*0.25/2, -shape[0]*0.25/2, shape[0]*0.25/2],\n",
    "                           interpolation='nearest')\n",
    "        ax2.text(0.38, 0.97, 'Model', verticalalignment='top',\n",
    "            horizontalalignment='left', transform=ax2.transAxes,\n",
    "             fontsize=42, bbox=dict(facecolor='white', alpha=0.7, edgecolor=\"none\"))\n",
    "        ax3.imshow(image_g-psf_g-np.mean(sky_g), cmap='Greys', origin='lower', norm=norm1, extent=[-shape[0]*0.25/2, shape[0]*0.25/2, -shape[0]*0.25/2, shape[0]*0.25/2],\n",
    "                           interpolation='nearest')\n",
    "        ax3.text(0.235, 0.97, 'Data$-$Nucleus', verticalalignment='top',\n",
    "            horizontalalignment='left', transform=ax3.transAxes,\n",
    "             fontsize=42, bbox=dict(facecolor='white', alpha=0.7, edgecolor=\"none\"))\n",
    "        ax4.imshow(residual_g, cmap='Greys', origin='lower', norm=norm1, extent=[-shape[0]*0.25/2, shape[0]*0.25/2, -shape[0]*0.25/2, shape[0]*0.25/2],\n",
    "                           interpolation='nearest')\n",
    "        ax4.text(0.35, 0.97, 'Residual', verticalalignment='top',\n",
    "            horizontalalignment='left', transform=ax4.transAxes,\n",
    "             fontsize=42, bbox=dict(facecolor='white', alpha=0.7, edgecolor=\"none\"))"
   ]
  },
  {
   "cell_type": "code",
   "execution_count": 26,
   "metadata": {},
   "outputs": [
    {
     "name": "stdout",
     "output_type": "stream",
     "text": [
      "['logM', 'sersic1_x', 'sersic1_y', 'sersic1_Re', 'sersic1_n', 'sersic1_ang', 'sersic1_axrat', 'sersic1_f_cont', 'sersic1_age', 'sersic1_Av', 'agn_x', 'agn_y', 'agn_logLedd', 'sky_g', 'sky_r', 'sky_i', 'sky_z', 'sky_y']\n"
     ]
    }
   ],
   "source": [
    "varnames=[]\n",
    "pardict = par_total.valuesdict()\n",
    "for el in pardict:\n",
    "    if par_total[el].expr is not None:\n",
    "        par_total[el].vary = False\n",
    "    if par_total[el].vary:\n",
    "        varnames.append(el)\n",
    "print (varnames)\n"
   ]
  },
  {
   "cell_type": "code",
   "execution_count": 27,
   "metadata": {},
   "outputs": [
    {
     "name": "stdout",
     "output_type": "stream",
     "text": [
      "18\n"
     ]
    }
   ],
   "source": [
    "print (len(varnames))"
   ]
  },
  {
   "cell_type": "code",
   "execution_count": null,
   "metadata": {},
   "outputs": [],
   "source": [
    "#'''\n",
    "targname = '164'\n",
    "Band = ['g','r','i','z','y']\n",
    "for band in Band:\n",
    "    hdu = fits.open(filepath + '{0}_{1}.fits'.format(targname,band))\n",
    "    data = hdu[0].data\n",
    "    datacut = data[316:407,316:407]\n",
    "    hdu0 = fits.PrimaryHDU(datacut.astype('float32'))\n",
    "    hdulist = fits.HDUList([hdu0])\n",
    "    hdulist.writeto(filepath + '{0}cut_{1}.fits'.format(targname,band),overwrite=True)\n",
    "#''' "
   ]
  }
 ],
 "metadata": {
  "kernelspec": {
   "display_name": "Python 3.7.3 64-bit",
   "language": "python",
   "name": "python3"
  },
  "language_info": {
   "codemirror_mode": {
    "name": "ipython",
    "version": 3
   },
   "file_extension": ".py",
   "mimetype": "text/x-python",
   "name": "python",
   "nbconvert_exporter": "python",
   "pygments_lexer": "ipython3",
   "version": "3.7.3"
  },
  "vscode": {
   "interpreter": {
    "hash": "31f2aee4e71d21fbe5cf8b01ff0e069b9275f58929596ceb00d14d90e3e16cd6"
   }
  }
 },
 "nbformat": 4,
 "nbformat_minor": 4
}
