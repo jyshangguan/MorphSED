{
 "cells": [
  {
   "cell_type": "code",
   "execution_count": 102,
   "metadata": {},
   "outputs": [],
   "source": [
    "import sys,os,re,csv\n",
    "from os.path import join\n",
    "from astropy.io import fits\n",
    "import numpy as np\n",
    "import matplotlib.pyplot as plt\n",
    "import itertools\n",
    "import lmfit\n",
    "import time\n",
    "\n",
    "from astropy.table import Table, Column\n",
    "from astropy.convolution import Gaussian2DKernel\n",
    "from astropy.visualization import MinMaxInterval,SqrtStretch,AsinhStretch\n",
    "from astropy.visualization.mpl_normalize import ImageNormalize\n",
    "from astropy.visualization import make_lupton_rgb\n",
    "from astropy import units as u\n",
    "from astropy.cosmology import FlatLambdaCDM,z_at_value\n",
    "from astropy.stats import sigma_clipped_stats\n",
    "from astropy.visualization.mpl_normalize import simple_norm\n",
    "\n",
    "os.environ['MorphSED_DATA_PATH']='/home/yuanze/'\n",
    "sys.path.append('/home/yuanze/MorphSED')\n",
    "from morphsed import Galaxy, AGN, sed_to_obse, image, coordinates_transfer\n",
    "import morphsed.emission_lines as EL\n",
    "from morphsed.profiles import reshape_img\n",
    "\n",
    "\n"
   ]
  },
  {
   "cell_type": "code",
   "execution_count": 110,
   "metadata": {},
   "outputs": [
    {
     "name": "stdout",
     "output_type": "stream",
     "text": [
      "Reading  WFC3_IR_src.fits  at  /home/yuanze/hstdata/s1\n",
      "Reading PSF file at  /home/yuanze/HSTpsf/I_ori/psf_F105W.fit\n",
      "-----------------------------\n",
      "Target: I Zw 1\n",
      "Target Number: 1\n",
      "Instrument: WFC3\n",
      "Filter: F105W\n",
      "Exposure: 147.018556 s\n",
      "Reading  WFC3_UVIS_src.fits  at  /home/yuanze/hstdata/s1\n",
      "Reading PSF file at  /home/yuanze/HSTpsf/I_ori/psf_F438W.fit\n",
      "-----------------------------\n",
      "Target: I Zw 1\n",
      "Target Number: 1\n",
      "Instrument: WFC3\n",
      "Filter: F438W\n",
      "Exposure: 300.0 s\n"
     ]
    }
   ],
   "source": [
    "\n",
    "WFC3_IR=('F105W','F110W','F125W','F814W')\n",
    "WFC3_UVIS=('F438W','F475W','F547M','F555W','F606W')\n",
    "subband={\n",
    "    \"I\":WFC3_IR,\n",
    "    \"B\":WFC3_UVIS\n",
    "}\n",
    "\n",
    "pixsize={\n",
    "    \"B\":0.03,\n",
    "    \"I\":0.06\n",
    "}\n",
    "psfpixsize={\n",
    "    \"B\":0.03,\n",
    "    \"I\":0.06\n",
    "}\n",
    "\n",
    "##-------------------Source definition---------------------##\n",
    "targname='I Zw 1'\n",
    "targNum=\"1\"\n",
    "\n",
    "##-------------------Source properties---------------------##\n",
    "ra=13.3955833333\n",
    "dec=12.6933888889\n",
    "z = 0.061\n",
    "ebv = 0.0550\n",
    "Av=0.1705\n",
    "cosmo = FlatLambdaCDM(H0=67.8 * u.km / u.s / u.Mpc, Tcmb0=2.725 * u.K, Om0=0.308)\n",
    "d=cosmo.luminosity_distance(z)\n",
    "dc=d.to(u.cm)\n",
    "dis=dc.value\n",
    "C_unit=1./(4*np.pi*dis**2)\n",
    "cutsize = 15. ##cut regime: a 20*20 arcsec box\n",
    "spec_aperturesize = 1.5 ##arcsec radius aperture size\n",
    "\n",
    "\n",
    "##-------------------Source data file----------------------##\n",
    "datapath='/home/yuanze/hstdata/s{0}'.format(targNum)\n",
    "#psfpath='/Users/ding/Desktop/AGN/HSTpsf'\n",
    "flist=os.listdir(datapath)\n",
    "psfpath=\"/home/yuanze/HSTpsf\"\n",
    "hdulist=[flist[i] for i in range(len(flist)) if re.findall(\".*src.fits\",flist[i]) != []]\n",
    "images = []\n",
    "filt=[]\n",
    "instru=[]\n",
    "tim=[]\n",
    "gain=[]\n",
    "eps_to_phyflux=[]\n",
    "for i,data in enumerate(hdulist):\n",
    "    print(\"Reading \",data,\" at \",datapath)\n",
    "    hdu=fits.open(join(datapath,data))\n",
    "    header = hdu[0].header\n",
    "    \n",
    "    tim.append(header['EXPTIME'])\n",
    "    instru.append(header['INSTRUME'])\n",
    "    filt.append(header['FILTER'])\n",
    "    eps_to_phyflux.append(header['PHOTFLAM'])\n",
    "    gain.append(np.mean((header['ATODGNA'],header['ATODGNB'],header['ATODGNC'],header['ATODGND'])))\n",
    "    \n",
    "    Magzp_ST={\n",
    "    'WFC3':21.10,\n",
    "    }\n",
    "    if filt[-1] in WFC3_IR:\n",
    "        cpixscale=(pixsize['I'],pixsize['I'])\n",
    "    elif filt[-1] in WFC3_UVIS:\n",
    "        cpixscale=(pixsize['B'],pixsize['B'])\n",
    "    im=image(filename=join(datapath,data),hdu=1,zero_point=Magzp_ST[instru[-1]],pixel_scales=cpixscale)\n",
    "    imcut=im.img_cut(ra,dec,cutsize,gain=float(gain[-1]),extime=1.)\n",
    "    ###-------------Reading PSF---------------##\n",
    "    if filt[-1] in WFC3_IR:\n",
    "        im.read_PSF(join(psfpath,'I_ori/psf_{0}.fit'.format(filt[-1])))\n",
    "        print(\"Reading PSF file at \",join(psfpath,'I_ori/psf_{0}.fit'.format(filt[-1])))\n",
    "    elif filt[-1] in WFC3_UVIS:\n",
    "        im.read_PSF(join(psfpath,'B_ori/psf_{0}.fit'.format(filt[-1])))\n",
    "        print(\"Reading PSF file at \",join(psfpath,'I_ori/psf_{0}.fit'.format(filt[-1])))\n",
    "    images.append(im)\n",
    "\n",
    "    print ('-----------------------------')\n",
    "    print ('Target: {0}'.format(targname))\n",
    "    print ('Target Number: {0}'.format(targNum))\n",
    "    print ('Instrument: {0}'.format(instru[-1]))\n",
    "    print ('Filter: {0}'.format(filt[-1]))\n",
    "    print ('Exposure: {0} s'.format(tim[-1]))\n",
    "    \n",
    "    \n",
    "\n",
    "\n",
    "\n",
    "\n",
    "\n",
    "\n",
    "#for loop in range(5):\n",
    "    #phys_to_counts_rate[loop] = phys_to_image[Band[loop]]*C_unit\n",
    "\n",
    "\n",
    "spec = Table.read(join(datapath,'spec_s{0}.txt'.format(targNum)),format='ascii')\n",
    "spec['Intensity'] /= (C_unit*1e17)\n",
    "spec['Uncertainty'] /= (C_unit*1e17)\n",
    "spec = [np.array(spec['Spectral-axis']),np.array(spec['Intensity']),np.array(spec['Uncertainty'])]"
   ]
  },
  {
   "cell_type": "code",
   "execution_count": 3,
   "metadata": {
    "tags": []
   },
   "outputs": [
    {
     "ename": "NameError",
     "evalue": "name 'imcuts' is not defined",
     "output_type": "error",
     "traceback": [
      "\u001b[0;31m---------------------------------------------------------------------------\u001b[0m",
      "\u001b[0;31mNameError\u001b[0m                                 Traceback (most recent call last)",
      "\u001b[0;32m<ipython-input-3-dd4d01655fa8>\u001b[0m in \u001b[0;36m<module>\u001b[0;34m\u001b[0m\n\u001b[1;32m      1\u001b[0m \u001b[0;32mimport\u001b[0m \u001b[0mdense1\u001b[0m \u001b[0;32mas\u001b[0m \u001b[0mde\u001b[0m\u001b[0;34m\u001b[0m\u001b[0;34m\u001b[0m\u001b[0m\n\u001b[1;32m      2\u001b[0m \u001b[0;34m\u001b[0m\u001b[0m\n\u001b[0;32m----> 3\u001b[0;31m \u001b[0mfdata\u001b[0m\u001b[0;34m=\u001b[0m\u001b[0mnp\u001b[0m\u001b[0;34m.\u001b[0m\u001b[0marray\u001b[0m\u001b[0;34m(\u001b[0m\u001b[0mnp\u001b[0m\u001b[0;34m.\u001b[0m\u001b[0maround\u001b[0m\u001b[0;34m(\u001b[0m\u001b[0mnp\u001b[0m\u001b[0;34m.\u001b[0m\u001b[0mnan_to_num\u001b[0m\u001b[0;34m(\u001b[0m\u001b[0mimcuts\u001b[0m\u001b[0;34m[\u001b[0m\u001b[0;36m0\u001b[0m\u001b[0;34m]\u001b[0m\u001b[0;34m.\u001b[0m\u001b[0mdata\u001b[0m\u001b[0;34m*\u001b[0m\u001b[0mnp\u001b[0m\u001b[0;34m.\u001b[0m\u001b[0marray\u001b[0m\u001b[0;34m(\u001b[0m\u001b[0mtim\u001b[0m\u001b[0;34m[\u001b[0m\u001b[0;36m0\u001b[0m\u001b[0;34m]\u001b[0m\u001b[0;34m)\u001b[0m\u001b[0;34m,\u001b[0m\u001b[0mnan\u001b[0m\u001b[0;34m=\u001b[0m\u001b[0;36m0\u001b[0m\u001b[0;34m,\u001b[0m\u001b[0;34m)\u001b[0m\u001b[0;34m)\u001b[0m\u001b[0;34m,\u001b[0m\u001b[0mdtype\u001b[0m\u001b[0;34m=\u001b[0m\u001b[0mint\u001b[0m\u001b[0;34m)\u001b[0m\u001b[0;34m\u001b[0m\u001b[0;34m\u001b[0m\u001b[0m\n\u001b[0m\u001b[1;32m      4\u001b[0m \u001b[0;31m#fdata.dtype=np.int64\u001b[0m\u001b[0;34m\u001b[0m\u001b[0;34m\u001b[0m\u001b[0;34m\u001b[0m\u001b[0m\n\u001b[1;32m      5\u001b[0m \u001b[0mfdata\u001b[0m\u001b[0;34m[\u001b[0m\u001b[0;34m(\u001b[0m\u001b[0mfdata\u001b[0m \u001b[0;34m<\u001b[0m \u001b[0;36m0\u001b[0m\u001b[0;34m)\u001b[0m\u001b[0;34m]\u001b[0m\u001b[0;34m=\u001b[0m\u001b[0;36m0\u001b[0m\u001b[0;34m\u001b[0m\u001b[0;34m\u001b[0m\u001b[0m\n",
      "\u001b[0;31mNameError\u001b[0m: name 'imcuts' is not defined"
     ]
    }
   ],
   "source": [
    "import dense1 as de\n",
    "\n",
    "fdata=np.array(np.around(np.nan_to_num(imcuts[0].data*np.array(tim[0]),nan=0,)),dtype=int)\n",
    "#fdata.dtype=np.int64\n",
    "fdata[(fdata < 0)]=0\n",
    "model = de.build_density_estimator(fdata.shape)\n",
    "#print(fdata[(fdata < 0)])\n",
    "print(fdata.shape)\n",
    "#samples, _ = de.fit(model, fdata, n_max_iterations=5)\n",
    "#post_density_mean = np.mean(samples, axis=0)\n",
    "#post_density_std = np.std(samples, axis=0)\n",
    "im_kw = {\"vmin\": fdata.min(), \"vmax\": fdata.max(),'stretch':'log'}\n",
    "fig, axs = plt.subplots(1, 2, figsize=(16, 10))\n",
    "im = axs.flat[0].imshow(fdata, **im_kw)\n",
    "axs.flat[0].set_title(\"data\")\n",
    "im = axs.flat[1].imshow(fdata, **im_kw)\n",
    "axs.flat[1].set_title(\"Data\")\n",
    "#im = axs.flat[2].imshow(post_density_mean, **im_kw)\n",
    "axs.flat[2].set_title(\"Posterior Mean\")\n",
    "#im = axs.flat[3].imshow(post_density_std, **im_kw)\n",
    "axs.flat[3].set_title(\"Posterior Std\")\n",
    "fig.tight_layout()\n",
    "fig.colorbar(im, ax=axs.ravel().tolist(), orientation='vertical', shrink=0.75)\n",
    "fig.savefig(\"synthetic_HST.png\")\n",
    "#plt.close()"
   ]
  },
  {
   "cell_type": "markdown",
   "metadata": {},
   "source": [
    "# 1. Sersic + PSF fit"
   ]
  },
  {
   "cell_type": "markdown",
   "metadata": {},
   "source": [
    "### 1.1 Define the parameters"
   ]
  },
  {
   "cell_type": "code",
   "execution_count": 112,
   "metadata": {},
   "outputs": [],
   "source": [
    "par_total = lmfit.Parameters()\n",
    "par_total.add('logM', value=10., min=8., max=13.)\n",
    "sesicparam = ['x', 'y', 'Re', 'n', 'ang', 'axrat']\n",
    "#Defining bulge parameters\n",
    "par_total.add('BoT', value=0.52, min=0.05, max=0.95,vary=True)\n",
    "par_total.add('sersic1_x', value=0, min=-4., max=4)\n",
    "par_total.add('sersic1_y', value=0, min=-4., max=4)\n",
    "par_total.add('sersic1_Re', value=0.5, min=0.1, max=15)\n",
    "par_total.add('sersic1_n', value=1.5, min=0.5, max=6.)\n",
    "par_total.add('sersic1_ang', value=0., min=-90., max=90.,vary=False)\n",
    "par_total.add('sersic1_axrat', value=1, min=0.2, max=1.,vary=False)\n",
    "par_total.add('sersic1_f_cont', value=0.5, min=0., max=1.)\n",
    "par_total.add('sersic1_age', value=1.0, min=0.1, max=13.)\n",
    "par_total.add('sersic1_Z', value=0.02, min=0.001, max=0.04,vary=False)\n",
    "par_total.add('sersic1_Av', value=0.7, min =0.3, max=5.1)\n",
    "#Defining disk parameters\n",
    "par_total.add('sersic2_x', expr='1.*sersic1_x')\n",
    "par_total.add('sersic2_y', expr='1.*sersic1_y')\n",
    "par_total.add('sersic2_Re', value=10., min=3., max=45.)\n",
    "par_total.add('sersic2_n', value=1., vary=False)\n",
    "par_total.add('sersic2_ang', value=-20., min=-90., max=90.)\n",
    "par_total.add('sersic2_axrat', value=0.8, min=0.2, max=1.)\n",
    "par_total.add('sersic2_f_cont', value=0.5, min=0., max=1.)\n",
    "par_total.add('sersic2_age', value=1., min=0.1, max=13.)\n",
    "par_total.add('sersic2_Z', value=0.02, min=0.001, max=0.04,vary=False)\n",
    "par_total.add('sersic2_Av', value=0.7, min =0.3, max=5.1)\n",
    "\n",
    "#par_total.add('sersic2_f_cont_k', value=0.0, min=-1, max=1)\n",
    "#par_total.add('sersic2_f_cont_b', value=0.5, min=0., max=1.)\n",
    "#par_total.add('PSF_x', expr='1.*sersic1_x')\n",
    "#par_total.add('PSF_y', expr='1.*sersic1_y')\n",
    "#par_total.add('PSF_mag', value=17, min=8, max=30)\n",
    "#par_total.add('PSF_f_cont', value=0.5, min=0., max=1.)\n",
    "#par_total.add('PSF_age', value=1., min=0.1, max=13.)\n",
    "#par_total.add('PSF_Z', value=0.02, min=0.001, max=0.04,vary=False)\n",
    "#par_total.add('PSF_Av', value=0.7, min =0.3, max=5.1)\n",
    "\n",
    "\n",
    "par_total.add('agn_x', expr='1.*sersic1_x')\n",
    "par_total.add('agn_y', expr='1.*sersic1_y')\n",
    "par_total.add('agn_logM', value=6.9, min=5., max=10.,vary=False)\n",
    "par_total.add('agn_logLedd', value=0.5, min=-4, max=2.,vary=True)\n",
    "par_total.add('agn_spin', value=0.98, min=0., max=0.99,vary=False)\n",
    "par_total.add('agn_Av', value=0, min =0., max=3.1,vary=False)\n",
    "for loop,ins in enumerate(instru):\n",
    "    sm = images[loop].sky_median\n",
    "    par_total.add('sky_{0}_{1}'.format(ins,filt[loop]), value=sm, min =sm-0.5, max=sm+0.5,vary=True)\n",
    "    if loop != 0:\n",
    "        #Adding relative shift for different instruments\n",
    "        par_total.add('shift_x_{0}'.format(filt[loop]), value=-49.6, min= -200., max= 200.,vary=True)\n",
    "        par_total.add('shift_y_{0}'.format(filt[loop]), value=73.8, min= -200., max= 200.,vary=True)\n",
    "        \n",
    "par_total.add('N_agn', value=1., min =0.1, max=10.)\n",
    "par_total.add('N_gal', value=1., min =0.1, max=10.)\n",
    "\n",
    "Myagn = AGN(logM_BH=par_total['agn_logM'].value,logLedd= par_total['agn_logLedd'].value,\n",
    "                    astar=par_total['agn_spin'].value,Av =par_total['agn_Av'].value, z=z, ebv_G=ebv)\n",
    "\n",
    "lines_broad = [EL.Hg,EL.Hb,EL.Ha]\n",
    "lines_narrow = [EL.NeV,EL.NeVI,EL.OII,EL.NeIII,EL.Hg,EL.Hb,EL.Ha,EL.OIII_4959,EL.OIII_5007,EL.HeI,\n",
    "                EL.OI_6302,EL.NII_6549,EL.NII_6583,EL.SII_6716,EL.SII_6731]\n",
    "par_BLR,par_NLR = Myagn.set_full_model(spec,lines_broad,lines_narrow)\n",
    "par_total = par_total.update(par_BLR)\n",
    "par_total = par_total.update(par_NLR)\n",
    "#par_total['BaCfwhm'].set(expr='61.69*Hbb1fwhm')\n",
    "\n",
    "#par_total['FeIIA_uv'].set(vary=False)\n",
    "#par_total['FeIIA_op'].set(vary=False)\n",
    "#par_total['FeIIfwhm'].set(vary=False)\n",
    "#par_total['FeIIdcen'].set(vary=False)\n",
    "par_total['BaCcf'].set(value=0,vary=False)\n",
    "par_total['BaCdcen'].set(vary=False)\n",
    "par_total['BaCfwhm'].set(vary=False)\n",
    "par_total['BaCspin'].set(vary=False)\n",
    "par_total['BaClogMdot'].set(vary=False)\n",
    "par_total['BaClogM'].set(vary=False)\n",
    "\n",
    "#par_total['Hab1amplitude'].set(vary=False)\n",
    "#par_total['Hab1center'].set(vary=False)\n",
    "#par_total['Hab1sigma'].set(vary=False)\n"
   ]
  },
  {
   "cell_type": "code",
   "execution_count": 89,
   "metadata": {},
   "outputs": [
    {
     "name": "stdout",
     "output_type": "stream",
     "text": [
      "dict_keys(['logM', 'BoT', 'sersic1_x', 'sersic1_y', 'sersic1_Re', 'sersic1_n', 'sersic1_ang', 'sersic1_axrat', 'sersic1_f_cont', 'sersic1_age', 'sersic1_Z', 'sersic1_Av', 'sersic2_x', 'sersic2_y', 'sersic2_Re', 'sersic2_n', 'sersic2_ang', 'sersic2_axrat', 'sersic2_f_cont', 'sersic2_age', 'sersic2_Z', 'sersic2_Av', 'agn_x', 'agn_y', 'agn_logM', 'agn_logLedd', 'agn_spin', 'agn_Av', 'sky_WFC3_F105W', 'sky_WFC3_F438W', 'shift_x_F438W', 'shift_y_F438W', 'N_agn', 'N_gal', 'FeIIA_uv', 'FeIIA_op', 'FeIIdcen', 'FeIIfwhm', 'BaCcf', 'BaClogM', 'BaClogMdot', 'BaCspin', 'BaCdcen', 'BaCfwhm', 'Hgb1amplitude', 'Hgb1center', 'Hgb1sigma', 'Hgb2amplitude', 'Hgb2center', 'Hgb2sigma', 'Hbb1amplitude', 'Hbb1center', 'Hbb1sigma', 'Hbb2amplitude', 'Hbb2center', 'Hbb2sigma', 'Hab1amplitude', 'Hab1center', 'Hab1sigma', 'Hab2amplitude', 'Hab2center', 'Hab2sigma', 'Hgb1fwhm', 'Hgb1height', 'Hgb2fwhm', 'Hgb2height', 'Hbb1fwhm', 'Hbb1height', 'Hbb2fwhm', 'Hbb2height', 'Hab1fwhm', 'Hab1height', 'Hab2fwhm', 'Hab2height', 'NeVn1amplitude', 'NeVn1center', 'NeVn1sigma', 'NeVIn1amplitude', 'NeVIn1center', 'NeVIn1sigma', 'OIIn1amplitude', 'OIIn1center', 'OIIn1sigma', 'NeIIIn1amplitude', 'NeIIIn1center', 'NeIIIn1sigma', 'Hgn1amplitude', 'Hgn1center', 'Hgn1sigma', 'Hbn1amplitude', 'Hbn1center', 'Hbn1sigma', 'Han1amplitude', 'Han1center', 'Han1sigma', 'OIII_4959n1amplitude', 'OIII_4959n1center', 'OIII_4959n1sigma', 'OIII_5007n1amplitude', 'OIII_5007n1center', 'OIII_5007n1sigma', 'HeIn1amplitude', 'HeIn1center', 'HeIn1sigma', 'OI_6302n1amplitude', 'OI_6302n1center', 'OI_6302n1sigma', 'NII_6549n1amplitude', 'NII_6549n1center', 'NII_6549n1sigma', 'NII_6583n1amplitude', 'NII_6583n1center', 'NII_6583n1sigma', 'SII_6716n1amplitude', 'SII_6716n1center', 'SII_6716n1sigma', 'SII_6731n1amplitude', 'SII_6731n1center', 'SII_6731n1sigma', 'NeVn1fwhm', 'NeVn1height', 'NeVIn1fwhm', 'NeVIn1height', 'OIIn1fwhm', 'OIIn1height', 'NeIIIn1fwhm', 'NeIIIn1height', 'Hgn1fwhm', 'Hgn1height', 'Hbn1fwhm', 'Hbn1height', 'Han1fwhm', 'Han1height', 'OIII_4959n1fwhm', 'OIII_4959n1height', 'OIII_5007n1fwhm', 'OIII_5007n1height', 'HeIn1fwhm', 'HeIn1height', 'OI_6302n1fwhm', 'OI_6302n1height', 'NII_6549n1fwhm', 'NII_6549n1height', 'NII_6583n1fwhm', 'NII_6583n1height', 'SII_6716n1fwhm', 'SII_6716n1height', 'SII_6731n1fwhm', 'SII_6731n1height'])\n"
     ]
    }
   ],
   "source": [
    "print(par_total.keys())"
   ]
  },
  {
   "cell_type": "markdown",
   "metadata": {},
   "source": [
    "### 1.2 Calculate the multi-band residual"
   ]
  },
  {
   "cell_type": "code",
   "execution_count": 113,
   "metadata": {},
   "outputs": [],
   "source": [
    "def residualcon(parc):\n",
    "    structure_para1 = {'xcen': parc['sersic1_x'].value, 'ycen': parc['sersic1_y'].value,\n",
    "                     'frac': 100.*parc['BoT'], 're': parc['sersic1_Re'].value, 'nser': parc['sersic1_n'].value,\n",
    "                     'ang': parc['sersic1_ang'].value, 'axrat': parc['sersic1_axrat'].value, 'box': 0.0, 'convolve': False}\n",
    "    age1 = {'type': \"const\", 'paradic':{'value': parc['sersic1_age'].value}}\n",
    "    Z1 = {'type': \"const\", 'paradic':{'value':  parc['sersic1_Z'].value}}\n",
    "    f_cont1 = {'type': \"const\", 'paradic':{'value': parc['sersic1_f_cont'].value}}\n",
    "    Av1 = {'type': \"const\", 'paradic':{'value': parc['sersic1_Av'].value}}\n",
    "    structure_para2 = {'xcen': parc['sersic2_x'].value, 'ycen': parc['sersic2_y'].value,\n",
    "                     'frac': 100.*(1.-parc['BoT']), 're': parc['sersic2_Re'].value, 'nser': parc['sersic2_n'].value,\n",
    "                     'ang': parc['sersic2_ang'].value, 'axrat': parc['sersic2_axrat'].value, 'box': 0.0, 'convolve': False}\n",
    "    age2 = {'type': \"const\", 'paradic':{'value': parc['sersic2_age'].value}}\n",
    "    f_cont2 = {'type': \"const\", 'paradic':{'value': parc['sersic2_f_cont'].value}}\n",
    "    Z2 = {'type': \"const\", 'paradic':{'value':  parc['sersic2_Z'].value}}\n",
    "    #f_cont2 = {'type': \"linear\", 'paradic':{'k': parc['sersic2_f_cont_k'].value,'b': parc['sersic2_f_cont_b'].value}}\n",
    "    Av2 = {'type': \"const\", 'paradic':{'value': parc['sersic2_Av'].value}}\n",
    "    \n",
    "    #structure_para3={'xcen':parc['PSF_x'],'ycen':parc['PSF_y'],'mag':parc['PSF_mag']}\n",
    "    #age3 = {'type': \"const\", 'paradic':{'value': parc['PSF_age'].value}}\n",
    "    #f_cont3={'type':\"const\", 'paradic':{'value':parc['PSF_f_cont'].value}}\n",
    "    #Z3 = {'type': \"const\", 'paradic':{'value':  parc['PSF_Z'].value}}\n",
    "    #Av3 = {'type': \"const\", 'paradic':{'value': parc['PSF_Av'].value}}\n",
    "    Myagn.reset_BH(logM_BH=parc['agn_logM'].value,logLedd= parc['agn_logLedd'].value,\n",
    "                astar=parc['agn_spin'].value,Av =parc['agn_Av'].value)\n",
    "    Mygalaxy = Galaxy(mass = 10**parc['logM'].value, z=z, ebv_G=ebv)\n",
    "    Mygalaxy.add_subC('sersic',structure_para1,age1,Z1,f_cont1,Av1)\n",
    "    Mygalaxy.add_subC('sersic',structure_para2,age2,Z2,f_cont2,Av2)\n",
    "    \n",
    "    agnlocation = {'xcen': parc['agn_x'].value, 'ycen': parc['agn_y'].value}\n",
    "    residual_image=[]\n",
    "    for loop,cinstru in enumerate(instru):\n",
    "        cfilt = filt[loop]\n",
    "        im=images[loop]\n",
    "        ny,nx=im.cut_image.shape\n",
    "        \n",
    "\n",
    "        if loop != 0:\n",
    "            im.coordinates_transfer_para['x0shift']=parc['shift_x_{0}'.format(cfilt)].value\n",
    "            im.coordinates_transfer_para['y0shift']=parc['shift_y_{0}'.format(cfilt)].value\n",
    "        if loop == len(instru)-1:\n",
    "            xmesh, ymesh = np.meshgrid(np.arange(nx), np.arange(ny))\n",
    "            xcen, ycen = coordinates_transfer(0.,0.,im.coordinates_transfer_para)\n",
    "            r = np.sqrt( (xmesh+0.5 - xcen)**2. + (ymesh+0.5 - ycen)**2.)\n",
    "            aperture_mask = r < (spec_aperturesize/im.pixel_scales[0].value)\n",
    "            totalmass,apertures = Mygalaxy.generate_mass_map((ny,nx),np.array(im.PSF),transpar=im.coordinates_transfer_para,aperturemask=aperture_mask)\n",
    "        else:\n",
    "            totalmass,apertures = Mygalaxy.generate_mass_map((ny,nx),np.array(im.PSF),transpar=im.coordinates_transfer_para)\n",
    "        image = Mygalaxy.generate_image('{0}_{1}'.format(cinstru,cfilt).lower(),im.PSF)\n",
    "        image += Myagn.generate_image([ny,nx],'{0}_{1}'.format(cinstru,cfilt).lower(),im.PSF,agnlocation,transpar=im.coordinates_transfer_para)\n",
    "        image *= (C_unit/eps_to_phyflux[loop])#phys_to_counts_rate\n",
    "        image += np.ones_like(image)*parc['sky_{0}_{1}'.format(cinstru,cfilt)].value\n",
    "        residual_image.append((im.cut_image-image)/im.cut_sigma_image)\n",
    "    residu_flat = residual_image[0].ravel()\n",
    "    for loop in range(len(instru)-1):\n",
    "        residu_flat=np.append(residu_flat,residual_image[loop+1].ravel())\n",
    "    \n",
    "    fl,fll = Mygalaxy.fiducial_sed(spec[0],apertures=apertures)\n",
    "    fl*= parc['N_gal'].value\n",
    "    fl += parc['N_agn'].value*Myagn.fiducial_sed(spec[0],par_tot=parc)\n",
    "    residu_spec = (fl-spec[1])/spec[2]\n",
    "    #print(\"Iterating...\")\n",
    "    del (Mygalaxy)\n",
    "    return np.append(residu_flat,residu_spec)\n",
    "    "
   ]
  },
  {
   "cell_type": "markdown",
   "metadata": {},
   "source": [
    "# Go fitting!"
   ]
  },
  {
   "cell_type": "code",
   "execution_count": 114,
   "metadata": {
    "jupyter": {
     "outputs_hidden": true
    },
    "scrolled": true,
    "tags": []
   },
   "outputs": [
    {
     "name": "stdout",
     "output_type": "stream",
     "text": [
      "Execution time: 2187.7481858730316 seconds\n"
     ]
    }
   ],
   "source": [
    "st = time.time()\n",
    "fitresult = lmfit.minimize(residualcon,par_total,nan_policy='omit' )\n",
    "et = time.time()\n",
    "print('Execution time:', et-st, 'seconds')"
   ]
  },
  {
   "cell_type": "code",
   "execution_count": 27,
   "metadata": {},
   "outputs": [
    {
     "name": "stdout",
     "output_type": "stream",
     "text": [
      "1.0502455993792504e-55\n"
     ]
    }
   ],
   "source": [
    "print(C_unit)"
   ]
  },
  {
   "cell_type": "markdown",
   "metadata": {},
   "source": [
    "# Summarize and plot the result"
   ]
  },
  {
   "cell_type": "code",
   "execution_count": 115,
   "metadata": {},
   "outputs": [
    {
     "name": "stdout",
     "output_type": "stream",
     "text": [
      "WFC3 F105W\n"
     ]
    },
    {
     "ename": "IndexError",
     "evalue": "boolean index did not match indexed array along dimension 0; dimension is 1000 but corresponding boolean dimension is 666",
     "output_type": "error",
     "traceback": [
      "\u001b[0;31m---------------------------------------------------------------------------\u001b[0m",
      "\u001b[0;31mIndexError\u001b[0m                                Traceback (most recent call last)",
      "\u001b[0;32m<ipython-input-115-999722ff9a06>\u001b[0m in \u001b[0;36m<module>\u001b[0;34m\u001b[0m\n\u001b[1;32m     48\u001b[0m         \u001b[0mr\u001b[0m \u001b[0;34m=\u001b[0m \u001b[0mnp\u001b[0m\u001b[0;34m.\u001b[0m\u001b[0msqrt\u001b[0m\u001b[0;34m(\u001b[0m \u001b[0;34m(\u001b[0m\u001b[0mxmesh\u001b[0m\u001b[0;34m+\u001b[0m\u001b[0;36m0.5\u001b[0m \u001b[0;34m-\u001b[0m \u001b[0mxcen\u001b[0m\u001b[0;34m)\u001b[0m\u001b[0;34m**\u001b[0m\u001b[0;36m2.\u001b[0m \u001b[0;34m+\u001b[0m \u001b[0;34m(\u001b[0m\u001b[0mymesh\u001b[0m\u001b[0;34m+\u001b[0m\u001b[0;36m0.5\u001b[0m \u001b[0;34m-\u001b[0m \u001b[0mycen\u001b[0m\u001b[0;34m)\u001b[0m\u001b[0;34m**\u001b[0m\u001b[0;36m2.\u001b[0m\u001b[0;34m)\u001b[0m\u001b[0;34m\u001b[0m\u001b[0;34m\u001b[0m\u001b[0m\n\u001b[1;32m     49\u001b[0m         \u001b[0maperture_mask\u001b[0m \u001b[0;34m=\u001b[0m \u001b[0mr\u001b[0m \u001b[0;34m<\u001b[0m \u001b[0;34m(\u001b[0m\u001b[0mspec_aperturesize\u001b[0m\u001b[0;34m/\u001b[0m\u001b[0mim\u001b[0m\u001b[0;34m.\u001b[0m\u001b[0mpixel_scales\u001b[0m\u001b[0;34m[\u001b[0m\u001b[0;36m0\u001b[0m\u001b[0;34m]\u001b[0m\u001b[0;34m.\u001b[0m\u001b[0mvalue\u001b[0m\u001b[0;34m)\u001b[0m\u001b[0;34m\u001b[0m\u001b[0;34m\u001b[0m\u001b[0m\n\u001b[0;32m---> 50\u001b[0;31m         \u001b[0mtotalmass\u001b[0m\u001b[0;34m,\u001b[0m\u001b[0mapertures\u001b[0m \u001b[0;34m=\u001b[0m \u001b[0mMygalaxy\u001b[0m\u001b[0;34m.\u001b[0m\u001b[0mgenerate_mass_map\u001b[0m\u001b[0;34m(\u001b[0m\u001b[0;34m(\u001b[0m\u001b[0mny\u001b[0m\u001b[0;34m,\u001b[0m\u001b[0mnx\u001b[0m\u001b[0;34m)\u001b[0m\u001b[0;34m,\u001b[0m\u001b[0mnp\u001b[0m\u001b[0;34m.\u001b[0m\u001b[0marray\u001b[0m\u001b[0;34m(\u001b[0m\u001b[0mim\u001b[0m\u001b[0;34m.\u001b[0m\u001b[0mPSF\u001b[0m\u001b[0;34m)\u001b[0m\u001b[0;34m,\u001b[0m\u001b[0mtranspar\u001b[0m\u001b[0;34m=\u001b[0m\u001b[0mim\u001b[0m\u001b[0;34m.\u001b[0m\u001b[0mcoordinates_transfer_para\u001b[0m\u001b[0;34m,\u001b[0m\u001b[0maperturemask\u001b[0m\u001b[0;34m=\u001b[0m\u001b[0maperture_mask\u001b[0m\u001b[0;34m)\u001b[0m\u001b[0;34m\u001b[0m\u001b[0;34m\u001b[0m\u001b[0m\n\u001b[0m\u001b[1;32m     51\u001b[0m     \u001b[0;32melse\u001b[0m\u001b[0;34m:\u001b[0m\u001b[0;34m\u001b[0m\u001b[0;34m\u001b[0m\u001b[0m\n\u001b[1;32m     52\u001b[0m         \u001b[0mtotalmass\u001b[0m\u001b[0;34m,\u001b[0m\u001b[0mapertures\u001b[0m \u001b[0;34m=\u001b[0m \u001b[0mMygalaxy\u001b[0m\u001b[0;34m.\u001b[0m\u001b[0mgenerate_mass_map\u001b[0m\u001b[0;34m(\u001b[0m\u001b[0;34m(\u001b[0m\u001b[0mny\u001b[0m\u001b[0;34m,\u001b[0m\u001b[0mnx\u001b[0m\u001b[0;34m)\u001b[0m\u001b[0;34m,\u001b[0m\u001b[0mnp\u001b[0m\u001b[0;34m.\u001b[0m\u001b[0marray\u001b[0m\u001b[0;34m(\u001b[0m\u001b[0mim\u001b[0m\u001b[0;34m.\u001b[0m\u001b[0mPSF\u001b[0m\u001b[0;34m)\u001b[0m\u001b[0;34m,\u001b[0m\u001b[0mtranspar\u001b[0m\u001b[0;34m=\u001b[0m\u001b[0mim\u001b[0m\u001b[0;34m.\u001b[0m\u001b[0mcoordinates_transfer_para\u001b[0m\u001b[0;34m)\u001b[0m\u001b[0;34m\u001b[0m\u001b[0;34m\u001b[0m\u001b[0m\n",
      "\u001b[0;32m~/MorphSED/morphsed/galaxy.py\u001b[0m in \u001b[0;36mgenerate_mass_map\u001b[0;34m(self, shape, convolve_func, transpar, aperturemask)\u001b[0m\n\u001b[1;32m    295\u001b[0m                     \u001b[0mself\u001b[0m\u001b[0;34m.\u001b[0m\u001b[0mr_map\u001b[0m \u001b[0;34m=\u001b[0m \u001b[0mr\u001b[0m\u001b[0;34m*\u001b[0m\u001b[0mtranspar\u001b[0m\u001b[0;34m[\u001b[0m\u001b[0;34m'pixsc'\u001b[0m\u001b[0;34m]\u001b[0m\u001b[0;34m\u001b[0m\u001b[0;34m\u001b[0m\u001b[0m\n\u001b[1;32m    296\u001b[0m                 \u001b[0;32mif\u001b[0m \u001b[0maperturemask\u001b[0m \u001b[0;32mis\u001b[0m \u001b[0;32mnot\u001b[0m \u001b[0;32mNone\u001b[0m\u001b[0;34m:\u001b[0m\u001b[0;34m\u001b[0m\u001b[0;34m\u001b[0m\u001b[0m\n\u001b[0;32m--> 297\u001b[0;31m                     \u001b[0mapertures\u001b[0m\u001b[0;34m.\u001b[0m\u001b[0mappend\u001b[0m\u001b[0;34m(\u001b[0m\u001b[0mnp\u001b[0m\u001b[0;34m.\u001b[0m\u001b[0msum\u001b[0m\u001b[0;34m(\u001b[0m\u001b[0mmass_map\u001b[0m\u001b[0;34m[\u001b[0m\u001b[0maperturemask\u001b[0m\u001b[0;34m]\u001b[0m\u001b[0;34m)\u001b[0m\u001b[0;34m/\u001b[0m \u001b[0mnp\u001b[0m\u001b[0;34m.\u001b[0m\u001b[0msum\u001b[0m\u001b[0;34m(\u001b[0m\u001b[0mmass_map\u001b[0m\u001b[0;34m)\u001b[0m\u001b[0;34m)\u001b[0m\u001b[0;34m\u001b[0m\u001b[0;34m\u001b[0m\u001b[0m\n\u001b[0m\u001b[1;32m    298\u001b[0m                 \u001b[0;31m#self.ageparams[key][loop].update({'age_map' : Cal_map(r,self.ageparams[key][loop]['type'],self.ageparams[key][loop]['paradic'])})\u001b[0m\u001b[0;34m\u001b[0m\u001b[0;34m\u001b[0m\u001b[0;34m\u001b[0m\u001b[0m\n\u001b[1;32m    299\u001b[0m                 \u001b[0;31m#self.Zparams[key][loop].update({'Z_map' : Cal_map(r,self.Zparams[key][loop]['type'],self.Zparams[key][loop]['paradic'])})\u001b[0m\u001b[0;34m\u001b[0m\u001b[0;34m\u001b[0m\u001b[0;34m\u001b[0m\u001b[0m\n",
      "\u001b[0;31mIndexError\u001b[0m: boolean index did not match indexed array along dimension 0; dimension is 1000 but corresponding boolean dimension is 666"
     ]
    }
   ],
   "source": [
    "par_total = fitresult.params\n",
    "bestpar = par_total.valuesdict()\n",
    "filepath=\"/home/yuanze/my_work/fittingresult\"\n",
    "\n",
    "w = csv.writer(open(filepath+\"/bestpar.csv\", \"w\"))\n",
    "for key, val in bestpar.items():\n",
    "    w.writerow([key, val])\n",
    "w = csv.writer(open(filepath+\"/fake.csv\", \"w\"))\n",
    "\n",
    "structure_para1 = {'xcen': par_total['sersic1_x'].value, 'ycen': par_total['sersic1_y'].value,\n",
    "                 'frac': 100.*par_total['BoT'], 're': par_total['sersic1_Re'].value, 'nser': par_total['sersic1_n'].value,\n",
    "                 'ang': par_total['sersic1_ang'].value, 'axrat': par_total['sersic1_axrat'].value, 'box': 0.0, 'convolve': False}\n",
    "age1 = {'type': \"const\", 'paradic':{'value': par_total['sersic1_age'].value}}\n",
    "Z1 = {'type': \"const\", 'paradic':{'value':  par_total['sersic1_Z'].value}}\n",
    "f_cont1 = {'type': \"const\", 'paradic':{'value': par_total['sersic1_f_cont'].value}}\n",
    "Av1 = {'type': \"const\", 'paradic':{'value': par_total['sersic1_Av'].value}}\n",
    "#Consider two concentric sersic\n",
    "structure_para2 = {'xcen': par_total['sersic1_x'].value, 'ycen': par_total['sersic1_y'].value,\n",
    "                 'frac': 100.*(1.-par_total['BoT']), 're': par_total['sersic2_Re'].value, 'nser': par_total['sersic2_n'].value,\n",
    "                 'ang': par_total['sersic2_ang'].value, 'axrat': par_total['sersic2_axrat'].value, 'box': 0.0, 'convolve': False}\n",
    "age2 = {'type': \"const\", 'paradic':{'value': par_total['sersic2_age'].value}}\n",
    "Z2 = {'type': \"const\", 'paradic':{'value':  par_total['sersic2_Z'].value}}\n",
    "f_cont2 = {'type': \"const\", 'paradic':{'value': par_total['sersic2_f_cont'].value}}\n",
    "Av2 = {'type': \"const\", 'paradic':{'value': par_total['sersic2_Av'].value}}\n",
    "\n",
    "Myagn.reset_BH(logM_BH=par_total['agn_logM'].value,logLedd= par_total['agn_logLedd'].value,\n",
    "                astar=par_total['agn_spin'].value,Av =par_total['agn_Av'].value)\n",
    "Mygalaxy = Galaxy(mass = 10**par_total['logM'].value, z=z, ebv_G=ebv)\n",
    "Mygalaxy.add_subC('sersic',structure_para1,age1,Z1,f_cont1,Av1)\n",
    "Mygalaxy.add_subC('sersic',structure_para2,age2,Z2,f_cont2,Av2)\n",
    "agnlocation = {'xcen': par_total['agn_x'].value, 'ycen': par_total['agn_y'].value}\n",
    "\n",
    "\n",
    "\n",
    "imagecuts = []\n",
    "model_image = []\n",
    "residual_image = []\n",
    "for loop,cinstru in enumerate(instru):\n",
    "    #print (loop)\n",
    "    cfilt=filt[loop]\n",
    "    im = images[loop]\n",
    "    ny,nx = im.cut_image.shape\n",
    "    if loop != 0:\n",
    "        im.coordinates_transfer_para['x0shift']=par_total['shift_x_{0}'.format(cfilt)].value\n",
    "        im.coordinates_transfer_para['y0shift']=par_total['shift_y_{0}'.format(cfilt)].value\n",
    "    if loop == len(instru)-1:\n",
    "        xcen, ycen = coordinates_transfer(0.,0.,im.coordinates_transfer_para)\n",
    "        r = np.sqrt( (xmesh+0.5 - xcen)**2. + (ymesh+0.5 - ycen)**2.)\n",
    "        aperture_mask = r < (spec_aperturesize/im.pixel_scales[0].value)\n",
    "        totalmass,apertures = Mygalaxy.generate_mass_map((ny,nx),np.array(im.PSF),transpar=im.coordinates_transfer_para,aperturemask=aperture_mask)\n",
    "    else:\n",
    "        totalmass,apertures = Mygalaxy.generate_mass_map((ny,nx),np.array(im.PSF),transpar=im.coordinates_transfer_para)\n",
    "    imm = Mygalaxy.generate_image(\"{0}_{1}\".format(cinstru,cfilt).lower(),im.PSF)\n",
    "    imm += Myagn.generate_image([ny,nx],'{0}_{1}'.format(cinstru,cfilt).lower(),im.PSF,agnlocation,transpar=im.coordinates_transfer_para)\n",
    "    imm *= (C_unit/eps_to_phyflux[loop])\n",
    "    imm += np.ones_like(imm)*par_total['sky_{0}_{1}'.format(cinstru,cfilt)].value\n",
    "    imagecuts.append(im.cut_image)\n",
    "    residual_image.append(im.cut_image-imm)\n",
    "    model_image.append(imm)\n",
    "    print(cinstru,cfilt)\n",
    "    if loop ==0:\n",
    "        testim=Myagn.generate_image([ny,nx],'{0}_{1}'.format(cinstru,cfilt).lower(),im.PSF,agnlocation,transpar=im.coordinates_transfer_para)"
   ]
  },
  {
   "cell_type": "code",
   "execution_count": null,
   "metadata": {},
   "outputs": [],
   "source": [
    "\n",
    "data_all = [imagecuts,model_image,residual_image]\n",
    "shape=[ny,nx]\n",
    "nrows = 2\n",
    "ncols = 3\n",
    "fig, ax = plt.subplots(nrows=nrows, ncols=ncols, figsize=(5*ncols, 5*nrows),squeeze=True)\n",
    "ax = ax.ravel()\n",
    "fignumber=15\n",
    "for i in range(nrows):\n",
    "    sky_mean, sky_median, sky_std = sigma_clipped_stats(data_all[0][i], sigma=3.0, maxiters=5)\n",
    "    if i==0:\n",
    "        norm0=simple_norm([-2*sky_std, 0.1*np.max(data_all[1][i])], 'log', percent=100)\n",
    "    norm = simple_norm([-2*sky_std, 0.1*np.max(data_all[1][i])], 'log', percent=100)\n",
    "    for j in range(ncols):\n",
    "        ax[3*i+j].imshow(data_all[j][i], cmap='Greys', origin='lower', norm=norm,\n",
    "                           interpolation='nearest')\n",
    "    ny,nx = data_all[0][i].shape\n",
    "    ax[3*i+0].text(3,0.85*ny, \"{0}-{1}\".format(instru[i],filt[i]), size = 25, color = 'r', weight = \"light\" )\n",
    "ax[0].text(3,3, \"data\", size = 25, color = 'b', weight = \"light\" )\n",
    "ax[1].text(3,3, \"model\", size = 25, color = 'b', weight = \"light\" )\n",
    "ax[2].text(3,3, \"residual\", size = 25, color = 'b', weight = \"light\" )\n",
    "plt.savefig(filepath+'/multifit_withspec.png',dpi=300,bbox_inches='tight')\n",
    "plt.show()\n",
    "\n",
    "plt.imshow(testim*(C_unit/eps_to_phyflux[0]),norm=norm0,cmap='Greys',interpolation='nearest')\n",
    "\n"
   ]
  },
  {
   "cell_type": "code",
   "execution_count": null,
   "metadata": {
    "scrolled": false
   },
   "outputs": [],
   "source": [
    "fl,fll = Mygalaxy.fiducial_sed(spec[0],apertures=apertures)\n",
    "fl *= par_total['N_gal'].value\n",
    "agnf = par_total['N_agn'].value*Myagn.fiducial_sed(spec[0],par_tot=par_total)  \n",
    "waveintrin = spec[0]/(1.+z)\n",
    "if Myagn.Av > 0.:\n",
    "    cm=extinction.ccm89(waveintrin,Myagn.Av,3.1)/2.5\n",
    "else:\n",
    "    cm = np.zeros_like(waveintrin)\n",
    "x,nlrE = sed_to_obse(waveintrin,Myagn.NLR.eval(par_total,x=waveintrin)/10**cm,Myagn.redshift,Myagn.ebv_G)\n",
    "x,blrE = sed_to_obse(waveintrin,Myagn.BLR.eval(par_total,x=waveintrin)/10**cm,Myagn.redshift,Myagn.ebv_G)\n",
    "\n",
    "\n",
    "fig = plt.figure(figsize=(15, 7))\n",
    "frame1=fig.add_axes((.15,.3,.8,.65)) # left, bottom, width, height\n",
    "frame1.minorticks_on()\n",
    "frame1.tick_params(axis=\"y\", which=\"major\", length=8, labelsize=18, width=1.)\n",
    "frame1.tick_params(axis=\"y\", which=\"minor\", length=5, labelsize=18, width=1.)\n",
    "frame1.tick_params(axis=\"x\", labelsize=0.)\n",
    "\n",
    "plt.plot(spec[0],par_total['N_agn'].value*nlrE,color='m',label='NLR',alpha=1.0,linewidth=2.5)\n",
    "plt.plot(spec[0],par_total['N_agn'].value*blrE,color='b',label='BLR',alpha=1.0,linewidth=2.5)\n",
    "plt.plot(spec[0],agnf - par_total['N_agn'].value*(blrE+nlrE),color='g',label='AGN',alpha=1.0,linewidth=2.5)\n",
    "\n",
    "plt.plot(spec[0],par_total['N_gal'].value*fll[0],color='orange',label='Bulge',alpha=1.0,linewidth=2.5)\n",
    "plt.plot(spec[0],par_total['N_gal'].value*fll[1],color='c',label='Disk',alpha=1.0,linewidth=2.5)\n",
    "\n",
    "plt.plot(spec[0],fl+agnf,color='r',label='',alpha=1.0,linewidth=2.5)\n",
    "plt.step(spec[0],spec[1],color='k',label='',alpha=0.8)\n",
    "\n",
    "yliml=0.\n",
    "ylimu=1.2*np.max(spec[1])\n",
    "#ylimu=260\n",
    "plt.ylim([yliml,ylimu])\n",
    "#plt.xlim([3400,6985])\n",
    "plt.ylabel(r'$L_{\\lambda} \\rm [ergs$ $\\rm s^{-1} \\mathring{A}^{-1}]$', fontsize=24)\n",
    "plt.legend(loc='upper left',fontsize=22,numpoints=1)\n",
    "resid=spec[1]-(fl+agnf)\n",
    "frame2=fig.add_axes((.15,.1,.8,.2))\n",
    "frame2.minorticks_on()\n",
    "frame2.tick_params(axis=\"x\", which=\"major\", length=8, labelsize=18, width=1.)\n",
    "frame2.tick_params(axis=\"x\", which=\"minor\", length=5, labelsize=18, width=1.)\n",
    "frame2.tick_params(axis=\"y\", which=\"major\", length=8, labelsize=18, width=1.)\n",
    "frame2.tick_params(axis=\"y\", which=\"minor\", length=0, labelsize=18, width=1.)\n",
    "#plt.text(x=770,y=450,fontsize=26,s='Residuals',color='k')\n",
    "plt.axhline(y=0., linestyle='--', color='r', label='',linewidth=3.)\n",
    "plt.errorbar(spec[0],resid,marker='.',capsize=2,capthick=1,color='k',alpha=0.5)\n",
    "ylim=0.75*np.max([np.max(np.abs(resid))])\n",
    "plt.xlabel(r'Observed Wavelength $[\\mathring{A}]$', fontsize=24)\n",
    "#plt.xlim([3400,6985])\n",
    "plt.ylim([-ylim,ylim])\n",
    "plt.savefig(filepath + '/opfit.png',dpi=200,bbox_inches = 'tight')\n",
    "plt.show()\n",
    "\n"
   ]
  },
  {
   "cell_type": "code",
   "execution_count": 46,
   "metadata": {},
   "outputs": [
    {
     "name": "stdout",
     "output_type": "stream",
     "text": [
      "[4.84993245e+39 4.90925684e+39 4.97408932e+39 ... 1.26586883e+39\n",
      " 1.25349718e+39 1.23983429e+39]\n",
      "[5.96272537e+39 5.95401430e+39 5.94530434e+39 ... 1.19296528e+39\n",
      " 1.19209664e+39 1.19123250e+39]\n",
      "[4.94094872e+38 5.92585141e+38 6.99190480e+38 ... 2.96756604e+38\n",
      " 2.81396922e+38 2.64342255e+38]\n",
      "(array([3922.9804448, 3925.4809035, 3927.9810439, ..., 7923.4698043,\n",
      "       7925.9704752, 7928.4706156]), array([3.95211376e+39, 3.94679112e+39, 3.94146906e+39, ...,\n",
      "       9.07772781e+38, 9.07163791e+38, 9.06558110e+38]))\n"
     ]
    }
   ],
   "source": [
    "from morphsed import sed_interp as SEDs\n",
    "\n",
    "\n",
    "print(Myagn.fiducial_sed(spec[0],par_tot=par_total))\n",
    "print(SEDs.get_AGN_SED(spec[0],Myagn.logM_BH,Myagn.logLedd,Myagn.astar,1.) )\n",
    "print(Myagn.BLR.eval(par_total,x=waveintrin))\n",
    "print(SEDs.sed_to_obse(waveintrin,SEDs.get_AGN_SED(spec[0],Myagn.logM_BH,Myagn.logLedd,Myagn.astar,1.),Myagn.redshift,Myagn.ebv_G))"
   ]
  },
  {
   "cell_type": "code",
   "execution_count": null,
   "metadata": {},
   "outputs": [],
   "source": [
    "def multi_model(parc):\n",
    "    Mygalaxy = Galaxy(mass = 10**parc['logM'].value, z=z, ebv_G=ebv)\n",
    "    Myagn = AGN(logM_BH=parc['agn_logM'].value,logLedd= parc['agn_logLedd'].value,\n",
    "                astar=parc['agn_spin'].value,Av =parc['agn_Av'].value, z=z, ebv_G=ebv)\n",
    "    strucure_para = {'xcen': parc['sersic1_x'].value, 'ycen': parc['sersic1_y'].value,\n",
    "                     'frac': 100., 're': parc['sersic1_Re'].value, 'nser': parc['sersic1_n'].value, \n",
    "                     'ang': parc['sersic1_ang'].value, 'axrat': parc['sersic1_axrat'].value, 'box': 0.0, 'convolve': False}\n",
    "    age = {'type': \"const\", 'paradic':{'value': parc['sersic1_age'].value}}\n",
    "    Z = {'type': \"const\", 'paradic':{'value':  parc['sersic1_Z'].value}}\n",
    "    f_cont = {'type': \"const\", 'paradic':{'value': parc['sersic1_f_cont'].value}}\n",
    "    Av = {'type': \"const\", 'paradic':{'value': parc['sersic1_Av'].value}}\n",
    "    Mygalaxy.add_subC('sersic',strucure_para,age,Z,f_cont,Av)\n",
    "    totalmass = Mygalaxy.generate_mass_map((ny,nx),np.array(psfs[0]))\n",
    "    agnlocation = {'xcen': parc['agn_x'].value, 'ycen': parc['agn_y'].value,}\n",
    "    model_images=[]\n",
    "    residual_images=[]\n",
    "    for loop,cinstru in enumerate(instru):\n",
    "        cfilt = filt[loop]\n",
    "        image = Mygalaxy.generate_image('HST_{0}_{1}'.format(cinstru,cfilt),psfs[loop])\n",
    "        #print (image.shape)\n",
    "        #print (np.sum(image))\n",
    "        AGNflux = Myagn.generate_image([ny,nx],'HST_{0}_{1}'.format(cinstru,cfilt),psfs[loop],agnlocation)\n",
    "        image += AGNflux\n",
    "        #print (np.max(AGNflux))\n",
    "        #print (np.sum(AGNflux))\n",
    "        image *= C_unit#phys_to_counts_rate[loop]\n",
    "        image += np.ones_like(image)*parc['sky_{0}_{1}'.format(cinstru,cfilt)].value\n",
    "        model_images.append(image)\n",
    "        residual_images.append(images[loop]-image)\n",
    "    del (Mygalaxy)\n",
    "    del (Myagn)\n",
    "    return model_images,residual_images\n",
    "    "
   ]
  },
  {
   "cell_type": "markdown",
   "metadata": {},
   "source": [
    "### 1.3 MCMC minimization"
   ]
  },
  {
   "cell_type": "code",
   "execution_count": null,
   "metadata": {},
   "outputs": [],
   "source": [
    "fitresult = lmfit.minimize(residualcon,par_total,nan_policy='omit')\n",
    "            #,method='ultranested',, nlive=160, maxiters=100, dlogz=0.02, workers=16)\n",
    "            #,method='emcee',allrandom=False,nan_policy='omit',nwalkers=192,steps=2000,burn=1500,workers=48)\n",
    "            #,method='nested',nan_policy='omit',sample_method='slice',dynamical=False, nlive=200, maxiters=100000, dlogz=0.02, workers=40)\n",
    "    #            ,method='nested',nan_policy='omit',sample_method='rstagger',bound='multi',dynamical=True, nlive=150, maxiters=100000, dlogz=0.2, workers=4,\n",
    "    #            dynesty_kwargs={'nlive_batch': 300,})"
   ]
  },
  {
   "cell_type": "code",
   "execution_count": null,
   "metadata": {},
   "outputs": [],
   "source": [
    "par_total = fitresult.params\n",
    "bestpar = par_total.valuesdict()\n",
    "model_images,residual_images = multi_model(par_total)"
   ]
  },
  {
   "cell_type": "code",
   "execution_count": null,
   "metadata": {},
   "outputs": [],
   "source": [
    "fitresult"
   ]
  },
  {
   "cell_type": "code",
   "execution_count": null,
   "metadata": {},
   "outputs": [],
   "source": [
    "data_all = [images,model_images,residual_images]"
   ]
  },
  {
   "cell_type": "code",
   "execution_count": null,
   "metadata": {},
   "outputs": [],
   "source": []
  },
  {
   "cell_type": "code",
   "execution_count": null,
   "metadata": {},
   "outputs": [],
   "source": [
    "shape=[ny,nx]\n",
    "nrows = 5\n",
    "ncols = 3\n",
    "fig, ax = plt.subplots(nrows=nrows, ncols=ncols, figsize=(15, 25),squeeze=True)\n",
    "ax = ax.ravel()\n",
    "fignumber=15\n",
    "for i in range(nrows):\n",
    "    sky_mean, sky_median, sky_std = sigma_clipped_stats(images[i], sigma=3.0, maxiters=5)\n",
    "    norm = simple_norm([0.5*sky_std, 3*np.max(data_all[1][i])], 'log', percent=100)\n",
    "    for j in range(ncols):\n",
    "        ax[3*i+j].imshow(data_all[j][i], cmap='Greys', origin='lower', norm=norm,\n",
    "                           interpolation='nearest')\n",
    "    ax[3*i+0].text(3,80, \"{0}-band\".format(Band[i]), size = 25, color = 'k', weight = \"light\" )\n",
    "ax[0].text(3,3, \"data\", size = 25, color = 'k', weight = \"light\" )\n",
    "ax[1].text(3,3, \"model\", size = 25, color = 'k', weight = \"light\" )\n",
    "ax[2].text(3,3, \"residual\", size = 25, color = 'k', weight = \"light\" )\n",
    "plt.savefig(filepath+'{0}_multifixc.png'.format(targname),dpi=200.,bbox_inches='tight')\n",
    "plt.close()"
   ]
  },
  {
   "cell_type": "code",
   "execution_count": null,
   "metadata": {},
   "outputs": [],
   "source": [
    "# g band\n",
    "        show_ellipse(ax=ax0, data_isolist=r_g, psf_isolist=r1_g, sersic_isolist=r2_g, model_isolist=r0_g, band='g',\n",
    "                     exptime=EXPTIME, ylabel=True, legend=True, xlabel=False, skyrms=skyrms_list[0], chi2nu=chi2nu[0],\n",
    "                     name=name)\n",
    "        norm1 = simple_norm([0.5*skyrms_list[0], 3*np.max(model_g)], 'log', percent=100)\n",
    "        ax1.imshow(image_g-np.mean(sky_g), cmap='Greys', origin='lower', norm=norm1, extent=[-shape[0]*0.25/2, shape[0]*0.25/2, -shape[0]*0.25/2, shape[0]*0.25/2],\n",
    "                           interpolation='nearest')\n",
    "        ax1.text(0.42, 0.97, 'Data', verticalalignment='top',\n",
    "            horizontalalignment='left', transform=ax1.transAxes,\n",
    "             fontsize=42, bbox=dict(facecolor='white', alpha=0.7, edgecolor=\"none\"))\n",
    "        scalebar = ScaleBar(kpc_arcsec,\n",
    "                            \"kpc\",\n",
    "                            dimension=cgs,\n",
    "                            color='black',\n",
    "                            box_alpha=0.5,\n",
    "                            font_properties={'size': 30},\n",
    "                            location='lower left',\n",
    "                            fixed_value=10,\n",
    "                            scale_loc='bottom',\n",
    "                            sep=10,\n",
    "                            border_pad=0.6)\n",
    "        ax1.add_artist(scalebar)\n",
    "        ax2.imshow(model_g-np.mean(sky_g), cmap='Greys', origin='lower', norm=norm1, extent=[-shape[0]*0.25/2, shape[0]*0.25/2, -shape[0]*0.25/2, shape[0]*0.25/2],\n",
    "                           interpolation='nearest')\n",
    "        ax2.text(0.38, 0.97, 'Model', verticalalignment='top',\n",
    "            horizontalalignment='left', transform=ax2.transAxes,\n",
    "             fontsize=42, bbox=dict(facecolor='white', alpha=0.7, edgecolor=\"none\"))\n",
    "        ax3.imshow(image_g-psf_g-np.mean(sky_g), cmap='Greys', origin='lower', norm=norm1, extent=[-shape[0]*0.25/2, shape[0]*0.25/2, -shape[0]*0.25/2, shape[0]*0.25/2],\n",
    "                           interpolation='nearest')\n",
    "        ax3.text(0.235, 0.97, 'Data$-$Nucleus', verticalalignment='top',\n",
    "            horizontalalignment='left', transform=ax3.transAxes,\n",
    "             fontsize=42, bbox=dict(facecolor='white', alpha=0.7, edgecolor=\"none\"))\n",
    "        ax4.imshow(residual_g, cmap='Greys', origin='lower', norm=norm1, extent=[-shape[0]*0.25/2, shape[0]*0.25/2, -shape[0]*0.25/2, shape[0]*0.25/2],\n",
    "                           interpolation='nearest')\n",
    "        ax4.text(0.35, 0.97, 'Residual', verticalalignment='top',\n",
    "            horizontalalignment='left', transform=ax4.transAxes,\n",
    "             fontsize=42, bbox=dict(facecolor='white', alpha=0.7, edgecolor=\"none\"))"
   ]
  },
  {
   "cell_type": "code",
   "execution_count": null,
   "metadata": {},
   "outputs": [],
   "source": [
    "varnames=[]\n",
    "pardict = par_total.valuesdict()\n",
    "for el in pardict:\n",
    "    if par_total[el].expr is not None:\n",
    "        par_total[el].vary = False\n",
    "    if par_total[el].vary:\n",
    "        varnames.append(el)\n",
    "print (varnames)\n"
   ]
  },
  {
   "cell_type": "code",
   "execution_count": null,
   "metadata": {},
   "outputs": [],
   "source": [
    "print (len(varnames))"
   ]
  },
  {
   "cell_type": "code",
   "execution_count": null,
   "metadata": {},
   "outputs": [],
   "source": [
    "#'''\n",
    "targname = '164'\n",
    "Band = ['g','r','i','z','y']\n",
    "for band in Band:\n",
    "    hdu = fits.open(filepath + '{0}_{1}.fits'.format(targname,band))\n",
    "    data = hdu[0].data\n",
    "    datacut = data[316:407,316:407]\n",
    "    hdu0 = fits.PrimaryHDU(datacut.astype('float32'))\n",
    "    hdulist = fits.HDUList([hdu0])\n",
    "    hdulist.writeto(filepath + '{0}cut_{1}.fits'.format(targname,band),overwrite=True)\n",
    "#''' "
   ]
  }
 ],
 "metadata": {
  "kernelspec": {
   "display_name": "Python 3.7.3 64-bit",
   "language": "python",
   "name": "python3"
  },
  "language_info": {
   "codemirror_mode": {
    "name": "ipython",
    "version": 3
   },
   "file_extension": ".py",
   "mimetype": "text/x-python",
   "name": "python",
   "nbconvert_exporter": "python",
   "pygments_lexer": "ipython3",
   "version": "3.7.3"
  },
  "vscode": {
   "interpreter": {
    "hash": "31f2aee4e71d21fbe5cf8b01ff0e069b9275f58929596ceb00d14d90e3e16cd6"
   }
  }
 },
 "nbformat": 4,
 "nbformat_minor": 4
}
